{
 "cells": [
  {
   "cell_type": "code",
   "execution_count": 1,
   "metadata": {},
   "outputs": [],
   "source": [
    "import Ativo as at\n",
    "import FileManager as fman\n",
    "import pickle\n",
    "import pandas as pd\n",
    "import numpy as np\n",
    "import datetime\n",
    "from matplotlib import pyplot as plt\n",
    "import TradesAnalyser as ta\n",
    "import seaborn as sns\n",
    "\n",
    "pd.set_option('display.max_rows', 167) # opcional, questão de visualização para debugar caso 1"
   ]
  },
  {
   "cell_type": "code",
   "execution_count": 2,
   "metadata": {},
   "outputs": [],
   "source": [
    "fm = fman.FileManager()"
   ]
  },
  {
   "cell_type": "code",
   "execution_count": 3,
   "metadata": {},
   "outputs": [],
   "source": [
    "with open('AtivoDiaList.pkl', 'rb') as filehandle:\n",
    "    ativo_dia_list = pickle.load(filehandle)"
   ]
  },
  {
   "cell_type": "code",
   "execution_count": 4,
   "metadata": {},
   "outputs": [],
   "source": [
    "an = ta.TradesAnalyser(ativo_dia_list)"
   ]
  },
  {
   "cell_type": "code",
   "execution_count": 5,
   "metadata": {},
   "outputs": [],
   "source": [
    "# an.parameters.setFilterParameters(gap_threshold=0.1, F_high_threshold=9)\n",
    "# an.parameters.setFilterParameters(prevol_threshold=15000000)\n",
    "an.runFiltering()"
   ]
  },
  {
   "cell_type": "code",
   "execution_count": null,
   "metadata": {},
   "outputs": [],
   "source": [
    "#an.parameters.setSimParameters(start_money = 10000,allocation=0.1)\n",
    "#an.parameters.setAlgoParameters(short_after=0, exit_target=0.4, exit_stop=0.4)\n",
    "#an.parameters.setAlgoParameters(short_after=0.2)\n",
    "\n",
    "an.runSimulation()\n",
    "# an.saveTrades('case1_trades.pkl')\n",
    "\n",
    "# an.openTrades('case1_trades.pkl')"
   ]
  },
  {
   "cell_type": "code",
   "execution_count": null,
   "metadata": {},
   "outputs": [],
   "source": [
    "#an.saveTrades('case4_trades.pkl')"
   ]
  },
  {
   "cell_type": "code",
   "execution_count": null,
   "metadata": {},
   "outputs": [],
   "source": [
    "dfd = an.getFilteredDays() # DataFrame of filtered ativo-dias\n",
    "dft = an.getTrades() # DataFrame of trades"
   ]
  },
  {
   "cell_type": "markdown",
   "metadata": {},
   "source": [
    "##### Análise de algumas estratificações"
   ]
  },
  {
   "cell_type": "code",
   "execution_count": null,
   "metadata": {},
   "outputs": [],
   "source": [
    "dftr = pd.merge(dft,dfd,how='inner',on=['name','date'])\n",
    "dftr = dftr[['name','date','gap','factorF','profit','cum_profit']]\n",
    "dftr"
   ]
  },
  {
   "cell_type": "code",
   "execution_count": null,
   "metadata": {},
   "outputs": [],
   "source": [
    "bins = [0.2, 0.3, 0.4, 0.5, 0.6, 0.7, 0.8, 0.9, 1, 1.1, 1.2]\n",
    "gap = np.clip( dftr['gap'], bins[0], bins[-1] )\n",
    "dftr.groupby(pd.cut(gap, bins)).agg(\n",
    "    winrate=pd.NamedAgg(column='profit',aggfunc=lambda x: sum(x>=0)/(sum(x>=0) + sum(x<0)) ),\n",
    "    lossrate=pd.NamedAgg(column='profit',aggfunc=lambda x: sum(x<0)/(sum(x>=0) + sum(x<0)) ),\n",
    "    mean=pd.NamedAgg(column='profit',aggfunc=lambda x: x.mean()),\n",
    "    mean_of_pos=pd.NamedAgg(column='profit',aggfunc=lambda x: x[x>=0].mean()),\n",
    "    mean_of_neg=pd.NamedAgg(column='profit',aggfunc=lambda x: x[x<0].mean()),\n",
    "    count=pd.NamedAgg(column='profit',aggfunc='count'),\n",
    "    positives=pd.NamedAgg(column='profit',aggfunc=lambda x: sum(x>=0) ),\n",
    "    negatives=pd.NamedAgg(column='profit',aggfunc=lambda x: sum(x<0) )\n",
    ")"
   ]
  },
  {
   "cell_type": "code",
   "execution_count": null,
   "metadata": {},
   "outputs": [],
   "source": [
    "dftr.groupby(dftr['date'].dt.to_period('M')).agg(\n",
    "    winrate=pd.NamedAgg(column='profit',aggfunc=lambda x: sum(x>=0)/(sum(x>=0) + sum(x<0)) ),\n",
    "    lossrate=pd.NamedAgg(column='profit',aggfunc=lambda x: sum(x<0)/(sum(x>=0) + sum(x<0)) ),\n",
    "    mean=pd.NamedAgg(column='profit',aggfunc=lambda x: x.mean()),\n",
    "    mean_of_pos=pd.NamedAgg(column='profit',aggfunc=lambda x: x[x>=0].mean()),\n",
    "    mean_of_neg=pd.NamedAgg(column='profit',aggfunc=lambda x: x[x<0].mean()),\n",
    "    count=pd.NamedAgg(column='profit',aggfunc='count'),\n",
    "    positives=pd.NamedAgg(column='profit',aggfunc=lambda x: sum(x>=0) ),\n",
    "    negatives=pd.NamedAgg(column='profit',aggfunc=lambda x: sum(x<0) )\n",
    ")"
   ]
  },
  {
   "cell_type": "code",
   "execution_count": null,
   "metadata": {
    "scrolled": true
   },
   "outputs": [],
   "source": [
    "an.printSimResults()"
   ]
  },
  {
   "cell_type": "code",
   "execution_count": null,
   "metadata": {
    "scrolled": false
   },
   "outputs": [],
   "source": [
    "an.plotHistMinsToTrade()"
   ]
  },
  {
   "cell_type": "code",
   "execution_count": null,
   "metadata": {},
   "outputs": [],
   "source": [
    "an.plotEquityCurve(logy=False)"
   ]
  },
  {
   "cell_type": "code",
   "execution_count": null,
   "metadata": {},
   "outputs": [],
   "source": [
    "an.getMaxDrawdown()"
   ]
  },
  {
   "cell_type": "code",
   "execution_count": null,
   "metadata": {
    "scrolled": true
   },
   "outputs": [],
   "source": [
    "an.getSimResults()"
   ]
  },
  {
   "cell_type": "code",
   "execution_count": null,
   "metadata": {},
   "outputs": [],
   "source": [
    "an.runBootstrap(n_iter=50, replace=False)\n",
    "an.printBootstrapResults()"
   ]
  },
  {
   "cell_type": "code",
   "execution_count": null,
   "metadata": {},
   "outputs": [],
   "source": [
    "an.getBootstrapResults()"
   ]
  },
  {
   "cell_type": "markdown",
   "metadata": {},
   "source": [
    "##### Códigos para rodar combinações de parâmetros e otimizar."
   ]
  },
  {
   "cell_type": "code",
   "execution_count": null,
   "metadata": {},
   "outputs": [],
   "source": [
    "# oficial que gostaríamos de explorar\n",
    "an.runSimulationGroup(\n",
    "    prevol_threshold = [800000],\n",
    "    exit_target=[0.1, 0.2, 0.3, 0.4], \n",
    "    exit_stop=[0.1, 0.2, 0.3, 0.4], \n",
    "    short_after=[0, 0.1, 0.2, 0.3],\n",
    "    gap_threshold=[0, 0.1, 0.2],\n",
    "    F_high_threshold = [1,2,3,4,5]\n",
    ")"
   ]
  },
  {
   "cell_type": "code",
   "execution_count": null,
   "metadata": {},
   "outputs": [],
   "source": [
    "# an.saveGroupResults('erich01.pkl')\n",
    "an.openGroupResults('erich01.pkl')"
   ]
  },
  {
   "cell_type": "code",
   "execution_count": null,
   "metadata": {
    "scrolled": true
   },
   "outputs": [],
   "source": [
    "# rodar para debugar\n",
    "an.runSimulationGroup(\n",
    "    prevol_threshold = [15000000],\n",
    "    exit_target=[0.2, 0.3], \n",
    "    exit_stop=[0.3], \n",
    "    short_after=[0, 0.1],\n",
    "    gap_threshold=[0.1],\n",
    "    F_high_threshold = [1]\n",
    ")"
   ]
  },
  {
   "cell_type": "code",
   "execution_count": null,
   "metadata": {},
   "outputs": [],
   "source": [
    "an.results"
   ]
  },
  {
   "cell_type": "markdown",
   "metadata": {},
   "source": [
    "##### Descrição simulações já rodadas"
   ]
  },
  {
   "cell_type": "raw",
   "metadata": {},
   "source": [
    "MADRUGADA 1\n",
    "exit_target=[0.2, 0.3, 0.4], exit_stop=[0.2, 0.3, 0.4], short_after=[0, 0.1], gap_threshold=[0, 0.1, 0.2], F_high_threshold = [1]\n",
    "Arquivo: results_madrugada01.pkl"
   ]
  },
  {
   "cell_type": "markdown",
   "metadata": {},
   "source": [
    "##### Testes temporários em geral"
   ]
  },
  {
   "cell_type": "code",
   "execution_count": null,
   "metadata": {},
   "outputs": [],
   "source": []
  }
 ],
 "metadata": {
  "kernelspec": {
   "display_name": "Python 3",
   "language": "python",
   "name": "python3"
  },
  "language_info": {
   "codemirror_mode": {
    "name": "ipython",
    "version": 3
   },
   "file_extension": ".py",
   "mimetype": "text/x-python",
   "name": "python",
   "nbconvert_exporter": "python",
   "pygments_lexer": "ipython3",
   "version": "3.7.1"
  }
 },
 "nbformat": 4,
 "nbformat_minor": 2
}
