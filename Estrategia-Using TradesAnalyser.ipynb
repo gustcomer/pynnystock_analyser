{
 "cells": [
  {
   "cell_type": "code",
   "execution_count": 1,
   "metadata": {},
   "outputs": [
    {
     "ename": "ModuleNotFoundError",
     "evalue": "No module named 'FileManager'",
     "output_type": "error",
     "traceback": [
      "\u001b[1;31m---------------------------------------------------------------------------\u001b[0m",
      "\u001b[1;31mModuleNotFoundError\u001b[0m                       Traceback (most recent call last)",
      "\u001b[1;32m<ipython-input-1-ee4266aac419>\u001b[0m in \u001b[0;36m<module>\u001b[1;34m\u001b[0m\n\u001b[0;32m      1\u001b[0m \u001b[1;32mimport\u001b[0m \u001b[0mAtivo\u001b[0m \u001b[1;32mas\u001b[0m \u001b[0mat\u001b[0m\u001b[1;33m\u001b[0m\u001b[1;33m\u001b[0m\u001b[0m\n\u001b[1;32m----> 2\u001b[1;33m \u001b[1;32mimport\u001b[0m \u001b[0mFileManager\u001b[0m \u001b[1;32mas\u001b[0m \u001b[0mfman\u001b[0m\u001b[1;33m\u001b[0m\u001b[1;33m\u001b[0m\u001b[0m\n\u001b[0m\u001b[0;32m      3\u001b[0m \u001b[1;32mimport\u001b[0m \u001b[0mpickle\u001b[0m\u001b[1;33m\u001b[0m\u001b[1;33m\u001b[0m\u001b[0m\n\u001b[0;32m      4\u001b[0m \u001b[1;32mimport\u001b[0m \u001b[0mpandas\u001b[0m \u001b[1;32mas\u001b[0m \u001b[0mpd\u001b[0m\u001b[1;33m\u001b[0m\u001b[1;33m\u001b[0m\u001b[0m\n\u001b[0;32m      5\u001b[0m \u001b[1;32mimport\u001b[0m \u001b[0mnumpy\u001b[0m \u001b[1;32mas\u001b[0m \u001b[0mnp\u001b[0m\u001b[1;33m\u001b[0m\u001b[1;33m\u001b[0m\u001b[0m\n",
      "\u001b[1;31mModuleNotFoundError\u001b[0m: No module named 'FileManager'"
     ]
    }
   ],
   "source": [
    "import Ativo as at\n",
    "import FileManager as fman\n",
    "import pickle\n",
    "import pandas as pd\n",
    "import numpy as np\n",
    "import datetime\n",
    "from matplotlib import pyplot as plt\n",
    "import seaborn as sns\n",
    "import Parameters\n",
    "import Simulator\n",
    "import StatsGatherer\n",
    "import OptimizerSimulator\n",
    "import BootstrapSimulator\n",
    "\n",
    "pd.set_option('display.max_rows', 167) # opcional, questão de visualização para debugar caso 1"
   ]
  },
  {
   "cell_type": "code",
   "execution_count": null,
   "metadata": {},
   "outputs": [],
   "source": [
    "fm = fman.FileManager()"
   ]
  },
  {
   "cell_type": "code",
   "execution_count": null,
   "metadata": {},
   "outputs": [],
   "source": [
    "with open('AtivoDiaList.pkl', 'rb') as filehandle:\n",
    "    ativo_dia_list = pickle.load(filehandle)"
   ]
  },
  {
   "cell_type": "code",
   "execution_count": null,
   "metadata": {},
   "outputs": [],
   "source": [
    "pars = Parameters.ParametersSimple()"
   ]
  },
  {
   "cell_type": "code",
   "execution_count": null,
   "metadata": {},
   "outputs": [],
   "source": [
    "sg = StatsGatherer.StatsGatherer(pars)"
   ]
  },
  {
   "cell_type": "code",
   "execution_count": null,
   "metadata": {},
   "outputs": [],
   "source": [
    "sim = Simulator.Simulator(fm,ativo_dia_list,pars,sg)"
   ]
  },
  {
   "cell_type": "code",
   "execution_count": null,
   "metadata": {},
   "outputs": [],
   "source": [
    "bss = BootstrapSimulator.BootstrapSimulator(sg)"
   ]
  },
  {
   "cell_type": "code",
   "execution_count": null,
   "metadata": {},
   "outputs": [],
   "source": [
    "os = OptimizerSimulator.OptimizerSimulator(sim, bss, sg)"
   ]
  },
  {
   "cell_type": "code",
   "execution_count": null,
   "metadata": {},
   "outputs": [],
   "source": [
    "pars.setFilterParameters(gap_threshold=0.1, F_high_threshold=9)\n",
    "# pars.setFilterParameters(prevol_threshold=15000000)\n",
    "sim.runFiltering()"
   ]
  },
  {
   "cell_type": "code",
   "execution_count": null,
   "metadata": {},
   "outputs": [],
   "source": [
    "pars.setSimParameters(start_money = 10000,allocation=0.1)\n",
    "# pars.setAlgoParameters(short_after=0, exit_target=0.4, exit_stop=0.4)\n",
    "# pars.setAlgoParameters(short_after=0.2)\n",
    "\n",
    "#sim.runSimulation()\n",
    "\n",
    "# sim.saveTrades('case1_trades.pkl')\n",
    "sim.openTrades('case1_trades.pkl')"
   ]
  },
  {
   "cell_type": "code",
   "execution_count": null,
   "metadata": {},
   "outputs": [],
   "source": [
    "dfd = sg.filtereddf # DataFrame of filtered ativo-dias\n",
    "dft = sg.tradesdf # DataFrame of trades"
   ]
  },
  {
   "cell_type": "markdown",
   "metadata": {},
   "source": [
    "##### Algumas análises da simulação"
   ]
  },
  {
   "cell_type": "code",
   "execution_count": null,
   "metadata": {},
   "outputs": [],
   "source": [
    "sg.printSimResults()"
   ]
  },
  {
   "cell_type": "code",
   "execution_count": null,
   "metadata": {
    "scrolled": true
   },
   "outputs": [],
   "source": [
    "sg.plotHistMinsToTrade()"
   ]
  },
  {
   "cell_type": "code",
   "execution_count": null,
   "metadata": {},
   "outputs": [],
   "source": [
    "sg.plotEquityCurve()"
   ]
  },
  {
   "cell_type": "markdown",
   "metadata": {},
   "source": [
    "##### Análise de algumas estratificações"
   ]
  },
  {
   "cell_type": "code",
   "execution_count": null,
   "metadata": {},
   "outputs": [],
   "source": [
    "dftr = pd.merge(dft,dfd,how='inner',on=['name','date'])\n",
    "dftr = dftr[['name','date','gap','factorF','profit','cum_profit']]\n",
    "dftr"
   ]
  },
  {
   "cell_type": "code",
   "execution_count": null,
   "metadata": {},
   "outputs": [],
   "source": [
    "bins = [0.2, 0.3, 0.4, 0.5, 0.6, 0.7, 0.8, 0.9, 1, 1.1, 1.2]\n",
    "gap = np.clip( dftr['gap'], bins[0], bins[-1] )\n",
    "dftr.groupby(pd.cut(gap, bins)).agg(\n",
    "    winrate=pd.NamedAgg(column='profit',aggfunc=lambda x: sum(x>=0)/(sum(x>=0) + sum(x<0)) ),\n",
    "    lossrate=pd.NamedAgg(column='profit',aggfunc=lambda x: sum(x<0)/(sum(x>=0) + sum(x<0)) ),\n",
    "    mean=pd.NamedAgg(column='profit',aggfunc=lambda x: x.mean()),\n",
    "    mean_of_pos=pd.NamedAgg(column='profit',aggfunc=lambda x: x[x>=0].mean()),\n",
    "    mean_of_neg=pd.NamedAgg(column='profit',aggfunc=lambda x: x[x<0].mean()),\n",
    "    count=pd.NamedAgg(column='profit',aggfunc='count'),\n",
    "    positives=pd.NamedAgg(column='profit',aggfunc=lambda x: sum(x>=0) ),\n",
    "    negatives=pd.NamedAgg(column='profit',aggfunc=lambda x: sum(x<0) )\n",
    ")"
   ]
  },
  {
   "cell_type": "code",
   "execution_count": null,
   "metadata": {
    "scrolled": true
   },
   "outputs": [],
   "source": [
    "dftr.groupby(dftr['date'].dt.to_period('M')).agg(\n",
    "    winrate=pd.NamedAgg(column='profit',aggfunc=lambda x: sum(x>=0)/(sum(x>=0) + sum(x<0)) ),\n",
    "    lossrate=pd.NamedAgg(column='profit',aggfunc=lambda x: sum(x<0)/(sum(x>=0) + sum(x<0)) ),\n",
    "    mean=pd.NamedAgg(column='profit',aggfunc=lambda x: x.mean()),\n",
    "    mean_of_pos=pd.NamedAgg(column='profit',aggfunc=lambda x: x[x>=0].mean()),\n",
    "    mean_of_neg=pd.NamedAgg(column='profit',aggfunc=lambda x: x[x<0].mean()),\n",
    "    count=pd.NamedAgg(column='profit',aggfunc='count'),\n",
    "    positives=pd.NamedAgg(column='profit',aggfunc=lambda x: sum(x>=0) ),\n",
    "    negatives=pd.NamedAgg(column='profit',aggfunc=lambda x: sum(x<0) )\n",
    ")"
   ]
  },
  {
   "cell_type": "markdown",
   "metadata": {},
   "source": [
    "##### Rodando Bootstrap"
   ]
  },
  {
   "cell_type": "code",
   "execution_count": null,
   "metadata": {},
   "outputs": [],
   "source": [
    "bss.runBootstrap()"
   ]
  },
  {
   "cell_type": "code",
   "execution_count": null,
   "metadata": {},
   "outputs": [],
   "source": [
    "sg.printBootstrapResults()"
   ]
  },
  {
   "cell_type": "markdown",
   "metadata": {},
   "source": [
    "##### Códigos para rodar combinações de parâmetros e otimizar."
   ]
  },
  {
   "cell_type": "code",
   "execution_count": null,
   "metadata": {},
   "outputs": [],
   "source": [
    "# oficial que gostaríamos de explorar\n",
    "os.runSimulationGroup(\n",
    "    prevol_threshold = [800000],\n",
    "    exit_target=[0.1, 0.2, 0.3, 0.4], \n",
    "    exit_stop=[0.1, 0.2, 0.3, 0.4], \n",
    "    short_after=[0, 0.1, 0.2, 0.3],\n",
    "    gap_threshold=[0, 0.1, 0.2],\n",
    "    F_high_threshold = [1,2,3,4,5]\n",
    ")"
   ]
  },
  {
   "cell_type": "code",
   "execution_count": null,
   "metadata": {},
   "outputs": [],
   "source": [
    "# an.saveGroupResults('erich01.pkl')\n",
    "os.openGroupResults('erich01.pkl')"
   ]
  },
  {
   "cell_type": "code",
   "execution_count": null,
   "metadata": {
    "scrolled": true
   },
   "outputs": [],
   "source": [
    "# rodar para debugar\n",
    "os.runSimulationGroup(\n",
    "    prevol_threshold = [15000000],\n",
    "    exit_target=[0.2, 0.3], \n",
    "    exit_stop=[0.3], \n",
    "    short_after=[0, 0.1],\n",
    "    gap_threshold=[0.1],\n",
    "    F_high_threshold = [1]\n",
    ")"
   ]
  },
  {
   "cell_type": "code",
   "execution_count": null,
   "metadata": {},
   "outputs": [],
   "source": [
    "sg.groupResults"
   ]
  },
  {
   "cell_type": "code",
   "execution_count": null,
   "metadata": {},
   "outputs": [],
   "source": [
    "# sg.saveGroupResults('teste1.pkl')\n",
    "# sg.appendGroupResults('teste1.pkl')\n",
    "# sg.openGroupResults('teste1.pkl')"
   ]
  },
  {
   "cell_type": "markdown",
   "metadata": {},
   "source": [
    "##### Descrição simulações já rodadas"
   ]
  },
  {
   "cell_type": "raw",
   "metadata": {},
   "source": [
    "MADRUGADA 1\n",
    "exit_target=[0.2, 0.3, 0.4], exit_stop=[0.2, 0.3, 0.4], short_after=[0, 0.1], gap_threshold=[0, 0.1, 0.2], F_high_threshold = [1]\n",
    "Arquivo: results_madrugada01.pkl"
   ]
  },
  {
   "cell_type": "markdown",
   "metadata": {},
   "source": [
    "##### Testes temporários em geral"
   ]
  },
  {
   "cell_type": "code",
   "execution_count": null,
   "metadata": {},
   "outputs": [],
   "source": []
  },
  {
   "cell_type": "code",
   "execution_count": null,
   "metadata": {},
   "outputs": [],
   "source": []
  },
  {
   "cell_type": "code",
   "execution_count": null,
   "metadata": {},
   "outputs": [],
   "source": []
  }
 ],
 "metadata": {
  "kernelspec": {
   "display_name": "Python 3",
   "language": "python",
   "name": "python3"
  },
  "language_info": {
   "codemirror_mode": {
    "name": "ipython",
    "version": 3
   },
   "file_extension": ".py",
   "mimetype": "text/x-python",
   "name": "python",
   "nbconvert_exporter": "python",
   "pygments_lexer": "ipython3",
   "version": "3.7.1"
  }
 },
 "nbformat": 4,
 "nbformat_minor": 2
}
