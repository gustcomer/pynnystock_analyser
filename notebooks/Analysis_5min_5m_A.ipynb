{
 "cells": [
  {
   "cell_type": "code",
   "execution_count": 1,
   "id": "first-brooklyn",
   "metadata": {},
   "outputs": [],
   "source": [
    "import os\n",
    "os.chdir('../')"
   ]
  },
  {
   "cell_type": "code",
   "execution_count": 2,
   "id": "aware-indie",
   "metadata": {},
   "outputs": [],
   "source": [
    "import pickle"
   ]
  },
  {
   "cell_type": "code",
   "execution_count": 3,
   "id": "offshore-destination",
   "metadata": {},
   "outputs": [],
   "source": [
    "from pynnystock.FileManager import FileManager\n",
    "from pynnystock.Parameters import Parameters\n",
    "from pynnystock.StatsGatherer import StatsGatherer\n",
    "# from pynnystock.DaysAnalyser import DaysAnalyser"
   ]
  },
  {
   "cell_type": "code",
   "execution_count": 4,
   "id": "painted-virginia",
   "metadata": {},
   "outputs": [],
   "source": [
    "from pynnystock.analysers.DaysAnalyser_5m_A import DaysAnalyser_5m_A"
   ]
  },
  {
   "cell_type": "code",
   "execution_count": 5,
   "id": "linear-farming",
   "metadata": {},
   "outputs": [],
   "source": [
    "fm = FileManager()"
   ]
  },
  {
   "cell_type": "code",
   "execution_count": 6,
   "id": "varying-mission",
   "metadata": {},
   "outputs": [],
   "source": [
    "pars = Parameters()"
   ]
  },
  {
   "cell_type": "code",
   "execution_count": 7,
   "id": "urban-consent",
   "metadata": {},
   "outputs": [],
   "source": [
    "sg = StatsGatherer(pars)"
   ]
  },
  {
   "cell_type": "code",
   "execution_count": 8,
   "id": "wooden-production",
   "metadata": {},
   "outputs": [],
   "source": [
    "da = DaysAnalyser_5m_A(fm,sg)"
   ]
  },
  {
   "cell_type": "code",
   "execution_count": 9,
   "id": "raising-experiment",
   "metadata": {},
   "outputs": [
    {
     "data": {
      "text/plain": [
       "1574"
      ]
     },
     "execution_count": 9,
     "metadata": {},
     "output_type": "execute_result"
    }
   ],
   "source": [
    "len(da.names)"
   ]
  },
  {
   "cell_type": "markdown",
   "id": "piano-wings",
   "metadata": {},
   "source": [
    "#### Nome das colunas do DataFrame de Análise dos Ativos Dias\n",
    "\n",
    "Coluna | Descrição \n",
    "----------|----------\n",
    "name | Ticker do Ativo\n",
    "date | Dia do Ativo\n",
    "0min | Open do primeiro candle do core\n",
    "10min | High do candle das 09h40 ou adjacente\n",
    "20min | High do candle das 09h50 ou adjacente\n",
    "30min | High do candle das 10h00 ou adjacente\n",
    "40min | High do candle das 10h10 ou adjacente\n",
    "50min | High do candle das 10h20 ou adjacente\n",
    "1h | High do candle das 10h30 ou adjacente\n",
    "1h15 | High do candle das 10h45 ou adjacente\n",
    "1h30 | High do candle das 11h00 ou adjacente\n",
    "1h45 | High do candle das 11h15 ou adjacente\n",
    "2h | High do candle das 11h30 ou adjacente\n",
    "3h | High do candle das 12h30 ou adjacente\n",
    "4h | High do candle das 13h30 ou adjacente\n",
    "5h | High do candle das 14h30 ou adjacente\n",
    "6h | High do candle das 15h30 ou adjacente\n",
    "6h30 | Último candle do core\n"
   ]
  },
  {
   "cell_type": "code",
   "execution_count": 11,
   "id": "impressed-replica",
   "metadata": {},
   "outputs": [
    {
     "name": "stdout",
     "output_type": "stream",
     "text": [
      "AAME\n",
      "AAOI\n",
      "ABEO\n",
      "ABIO\n",
      "ABST\n",
      "ABUS\n",
      "ACAMcaso core vazio mas com pos\n",
      ": Ativo sem nenhum dado ou dado inconsistente\n",
      "ACAMUcaso core vazio mas com pos\n",
      ": Ativo sem nenhum dado ou dado inconsistente\n",
      "ACBI\n",
      "ACER\n",
      "ACET\n",
      "ACHV\n",
      "ACIU\n",
      "ACOR"
     ]
    },
    {
     "ename": "KeyboardInterrupt",
     "evalue": "",
     "output_type": "error",
     "traceback": [
      "\u001b[1;31m---------------------------------------------------------------------------\u001b[0m",
      "\u001b[1;31mKeyboardInterrupt\u001b[0m                         Traceback (most recent call last)",
      "\u001b[1;32m<ipython-input-11-398146bf812f>\u001b[0m in \u001b[0;36m<module>\u001b[1;34m\u001b[0m\n\u001b[1;32m----> 1\u001b[1;33m \u001b[0mda\u001b[0m\u001b[1;33m.\u001b[0m\u001b[0mrunAnalysis\u001b[0m\u001b[1;33m(\u001b[0m\u001b[1;33m)\u001b[0m\u001b[1;33m\u001b[0m\u001b[1;33m\u001b[0m\u001b[0m\n\u001b[0m",
      "\u001b[1;32mC:\\Projetos\\Python\\pynnystock_analyser\\pynnystock\\analysers\\DaysAnalyser_5m_A.py\u001b[0m in \u001b[0;36mrunAnalysis\u001b[1;34m(self)\u001b[0m\n\u001b[0;32m     17\u001b[0m                     \u001b[0mprint\u001b[0m\u001b[1;33m(\u001b[0m\u001b[0mn\u001b[0m\u001b[1;33m,\u001b[0m \u001b[0mend\u001b[0m\u001b[1;33m=\u001b[0m\u001b[1;34m''\u001b[0m\u001b[1;33m)\u001b[0m\u001b[1;33m\u001b[0m\u001b[1;33m\u001b[0m\u001b[0m\n\u001b[0;32m     18\u001b[0m                     \u001b[1;32mtry\u001b[0m\u001b[1;33m:\u001b[0m\u001b[1;33m\u001b[0m\u001b[1;33m\u001b[0m\u001b[0m\n\u001b[1;32m---> 19\u001b[1;33m                         \u001b[0ma\u001b[0m \u001b[1;33m=\u001b[0m \u001b[0mAtivo\u001b[0m\u001b[1;33m(\u001b[0m\u001b[0mn\u001b[0m\u001b[1;33m,\u001b[0m \u001b[0mself\u001b[0m\u001b[1;33m.\u001b[0m\u001b[0mfm\u001b[0m\u001b[1;33m,\u001b[0m \u001b[0mself\u001b[0m\u001b[1;33m.\u001b[0m\u001b[0msg\u001b[0m\u001b[1;33m)\u001b[0m\u001b[1;33m\u001b[0m\u001b[1;33m\u001b[0m\u001b[0m\n\u001b[0m\u001b[0;32m     20\u001b[0m \u001b[1;33m\u001b[0m\u001b[0m\n\u001b[0;32m     21\u001b[0m                         \u001b[1;32mfor\u001b[0m \u001b[0mintraday\u001b[0m \u001b[1;32min\u001b[0m \u001b[0ma\u001b[0m\u001b[1;33m.\u001b[0m\u001b[0mintraDays\u001b[0m\u001b[1;33m:\u001b[0m\u001b[1;33m\u001b[0m\u001b[1;33m\u001b[0m\u001b[0m\n",
      "\u001b[1;32mC:\\Projetos\\Python\\pynnystock_analyser\\pynnystock\\Ativo.py\u001b[0m in \u001b[0;36m__init__\u001b[1;34m(self, name, fm, sg)\u001b[0m\n\u001b[0;32m     73\u001b[0m                 \u001b[1;31m#self.data = self.openDataWithCSVs() # raw data, tem dados do ano inteiro\u001b[0m\u001b[1;33m\u001b[0m\u001b[1;33m\u001b[0m\u001b[1;33m\u001b[0m\u001b[0m\n\u001b[0;32m     74\u001b[0m \u001b[1;33m\u001b[0m\u001b[0m\n\u001b[1;32m---> 75\u001b[1;33m                 \u001b[0mself\u001b[0m\u001b[1;33m.\u001b[0m\u001b[0mdata\u001b[0m \u001b[1;33m=\u001b[0m \u001b[0mself\u001b[0m\u001b[1;33m.\u001b[0m\u001b[0mopenDataWithDB\u001b[0m\u001b[1;33m(\u001b[0m\u001b[1;33m)\u001b[0m \u001b[1;31m# SE NÃO QUISER USAR MAIS DATABASE, COMENTAR ESSA LINHA\u001b[0m\u001b[1;33m\u001b[0m\u001b[1;33m\u001b[0m\u001b[0m\n\u001b[0m\u001b[0;32m     76\u001b[0m                 \u001b[0mself\u001b[0m\u001b[1;33m.\u001b[0m\u001b[0mdataDays\u001b[0m \u001b[1;33m=\u001b[0m \u001b[0mdivideDays\u001b[0m\u001b[1;33m(\u001b[0m\u001b[0mself\u001b[0m\u001b[1;33m.\u001b[0m\u001b[0mdata\u001b[0m\u001b[1;33m)\u001b[0m \u001b[1;31m# tem informação sobre os dias\u001b[0m\u001b[1;33m\u001b[0m\u001b[1;33m\u001b[0m\u001b[0m\n\u001b[0;32m     77\u001b[0m \u001b[1;33m\u001b[0m\u001b[0m\n",
      "\u001b[1;32mC:\\Projetos\\Python\\pynnystock_analyser\\pynnystock\\Ativo.py\u001b[0m in \u001b[0;36mopenDataWithDB\u001b[1;34m(self)\u001b[0m\n\u001b[0;32m    117\u001b[0m \u001b[1;33m\u001b[0m\u001b[0m\n\u001b[0;32m    118\u001b[0m                 \u001b[1;32mfor\u001b[0m \u001b[0mr\u001b[0m \u001b[1;32min\u001b[0m \u001b[0mresult\u001b[0m\u001b[1;33m:\u001b[0m\u001b[1;33m\u001b[0m\u001b[1;33m\u001b[0m\u001b[0m\n\u001b[1;32m--> 119\u001b[1;33m \t\t\tbar = {\n\u001b[0m\u001b[0;32m    120\u001b[0m                             \u001b[1;34m'time'\u001b[0m\u001b[1;33m:\u001b[0m \u001b[0mr\u001b[0m\u001b[1;33m[\u001b[0m\u001b[1;34m'trade_timestamp'\u001b[0m\u001b[1;33m]\u001b[0m\u001b[1;33m,\u001b[0m\u001b[1;33m\u001b[0m\u001b[1;33m\u001b[0m\u001b[0m\n\u001b[0;32m    121\u001b[0m                             \u001b[1;34m'open'\u001b[0m\u001b[1;33m:\u001b[0m \u001b[0mfloat\u001b[0m\u001b[1;33m(\u001b[0m\u001b[0mr\u001b[0m\u001b[1;33m[\u001b[0m\u001b[1;34m'open'\u001b[0m\u001b[1;33m]\u001b[0m\u001b[1;33m)\u001b[0m\u001b[1;33m,\u001b[0m\u001b[1;33m\u001b[0m\u001b[1;33m\u001b[0m\u001b[0m\n",
      "\u001b[1;31mKeyboardInterrupt\u001b[0m: "
     ]
    }
   ],
   "source": [
    "da.runAnalysis()"
   ]
  },
  {
   "cell_type": "code",
   "execution_count": null,
   "id": "graduate-eleven",
   "metadata": {},
   "outputs": [],
   "source": [
    "da.selectedAtivosDiasDF"
   ]
  },
  {
   "cell_type": "markdown",
   "id": "prime-shipping",
   "metadata": {},
   "source": [
    "#### Códigos para salvar o trabalho"
   ]
  },
  {
   "cell_type": "code",
   "execution_count": null,
   "id": "after-vertex",
   "metadata": {
    "jupyter": {
     "source_hidden": true
    }
   },
   "outputs": [],
   "source": [
    "# salvando a list interna\n",
    "da.saveSelectedAD('data_dump//rev_eng_2y.pkl')"
   ]
  },
  {
   "cell_type": "code",
   "execution_count": null,
   "id": "minimal-content",
   "metadata": {},
   "outputs": [],
   "source": [
    "# salvando o dataframe\n",
    "da.saveSelectedAtivoDiasDF('data_dump//rev_eng_df_5min_2y.pkl')"
   ]
  },
  {
   "cell_type": "code",
   "execution_count": 12,
   "id": "digital-trout",
   "metadata": {},
   "outputs": [],
   "source": [
    "# abrir com esse snippet de código\n",
    "with open('rev_eng_df_5min_2y.pkl', 'rb') as filehandle: # w de read e b de binary\n",
    "    df = pickle.load(filehandle)\n",
    "\n",
    "# usar df a partir daqui"
   ]
  },
  {
   "cell_type": "code",
   "execution_count": 14,
   "id": "dominican-brazilian",
   "metadata": {},
   "outputs": [
    {
     "data": {
      "text/html": [
       "<div>\n",
       "<style scoped>\n",
       "    .dataframe tbody tr th:only-of-type {\n",
       "        vertical-align: middle;\n",
       "    }\n",
       "\n",
       "    .dataframe tbody tr th {\n",
       "        vertical-align: top;\n",
       "    }\n",
       "\n",
       "    .dataframe thead th {\n",
       "        text-align: right;\n",
       "    }\n",
       "</style>\n",
       "<table border=\"1\" class=\"dataframe\">\n",
       "  <thead>\n",
       "    <tr style=\"text-align: right;\">\n",
       "      <th></th>\n",
       "      <th>name</th>\n",
       "      <th>date</th>\n",
       "      <th>0min</th>\n",
       "      <th>10min</th>\n",
       "      <th>20min</th>\n",
       "      <th>30min</th>\n",
       "      <th>40min</th>\n",
       "      <th>50min</th>\n",
       "      <th>1h</th>\n",
       "      <th>1h15</th>\n",
       "      <th>1h30</th>\n",
       "      <th>1h45</th>\n",
       "      <th>2h</th>\n",
       "      <th>3h</th>\n",
       "      <th>4h</th>\n",
       "      <th>5h</th>\n",
       "      <th>6h</th>\n",
       "      <th>6h30</th>\n",
       "    </tr>\n",
       "  </thead>\n",
       "  <tbody>\n",
       "    <tr>\n",
       "      <th>0</th>\n",
       "      <td>AAME</td>\n",
       "      <td>2019-01-24</td>\n",
       "      <td>2.677215</td>\n",
       "      <td>2.677215</td>\n",
       "      <td>2.677215</td>\n",
       "      <td>2.677215</td>\n",
       "      <td>2.677215</td>\n",
       "      <td>2.677215</td>\n",
       "      <td>2.677215</td>\n",
       "      <td>2.677215</td>\n",
       "      <td>2.677215</td>\n",
       "      <td>2.677215</td>\n",
       "      <td>2.677215</td>\n",
       "      <td>2.677215</td>\n",
       "      <td>2.677215</td>\n",
       "      <td>2.716878</td>\n",
       "      <td>NaN</td>\n",
       "      <td>2.796203</td>\n",
       "    </tr>\n",
       "    <tr>\n",
       "      <th>1</th>\n",
       "      <td>AAME</td>\n",
       "      <td>2019-01-25</td>\n",
       "      <td>2.528481</td>\n",
       "      <td>2.528481</td>\n",
       "      <td>2.528481</td>\n",
       "      <td>2.528481</td>\n",
       "      <td>2.528481</td>\n",
       "      <td>2.528481</td>\n",
       "      <td>2.528481</td>\n",
       "      <td>2.528481</td>\n",
       "      <td>2.528481</td>\n",
       "      <td>2.528481</td>\n",
       "      <td>2.528481</td>\n",
       "      <td>2.528481</td>\n",
       "      <td>2.548312</td>\n",
       "      <td>2.538397</td>\n",
       "      <td>2.637553</td>\n",
       "      <td>2.637553</td>\n",
       "    </tr>\n",
       "    <tr>\n",
       "      <th>2</th>\n",
       "      <td>AAME</td>\n",
       "      <td>2019-01-29</td>\n",
       "      <td>2.634479</td>\n",
       "      <td>2.634479</td>\n",
       "      <td>2.634479</td>\n",
       "      <td>2.634479</td>\n",
       "      <td>2.634479</td>\n",
       "      <td>2.634479</td>\n",
       "      <td>2.634479</td>\n",
       "      <td>2.634479</td>\n",
       "      <td>2.634479</td>\n",
       "      <td>2.634479</td>\n",
       "      <td>2.634479</td>\n",
       "      <td>2.634479</td>\n",
       "      <td>NaN</td>\n",
       "      <td>NaN</td>\n",
       "      <td>NaN</td>\n",
       "      <td>2.634479</td>\n",
       "    </tr>\n",
       "    <tr>\n",
       "      <th>3</th>\n",
       "      <td>AAME</td>\n",
       "      <td>2019-01-30</td>\n",
       "      <td>2.478903</td>\n",
       "      <td>2.538397</td>\n",
       "      <td>2.538397</td>\n",
       "      <td>2.538397</td>\n",
       "      <td>2.538397</td>\n",
       "      <td>2.538397</td>\n",
       "      <td>2.538397</td>\n",
       "      <td>2.538397</td>\n",
       "      <td>2.538397</td>\n",
       "      <td>2.538397</td>\n",
       "      <td>2.538397</td>\n",
       "      <td>2.508650</td>\n",
       "      <td>2.508650</td>\n",
       "      <td>2.508650</td>\n",
       "      <td>2.508650</td>\n",
       "      <td>2.508650</td>\n",
       "    </tr>\n",
       "    <tr>\n",
       "      <th>4</th>\n",
       "      <td>AAME</td>\n",
       "      <td>2019-01-31</td>\n",
       "      <td>2.627637</td>\n",
       "      <td>2.627637</td>\n",
       "      <td>2.627637</td>\n",
       "      <td>2.627637</td>\n",
       "      <td>2.627637</td>\n",
       "      <td>2.627637</td>\n",
       "      <td>2.627637</td>\n",
       "      <td>2.627637</td>\n",
       "      <td>2.627637</td>\n",
       "      <td>2.627637</td>\n",
       "      <td>2.627637</td>\n",
       "      <td>2.677215</td>\n",
       "      <td>2.677215</td>\n",
       "      <td>2.681677</td>\n",
       "      <td>2.681677</td>\n",
       "      <td>2.681677</td>\n",
       "    </tr>\n",
       "    <tr>\n",
       "      <th>...</th>\n",
       "      <td>...</td>\n",
       "      <td>...</td>\n",
       "      <td>...</td>\n",
       "      <td>...</td>\n",
       "      <td>...</td>\n",
       "      <td>...</td>\n",
       "      <td>...</td>\n",
       "      <td>...</td>\n",
       "      <td>...</td>\n",
       "      <td>...</td>\n",
       "      <td>...</td>\n",
       "      <td>...</td>\n",
       "      <td>...</td>\n",
       "      <td>...</td>\n",
       "      <td>...</td>\n",
       "      <td>...</td>\n",
       "      <td>...</td>\n",
       "      <td>...</td>\n",
       "    </tr>\n",
       "    <tr>\n",
       "      <th>627472</th>\n",
       "      <td>ZYXI</td>\n",
       "      <td>2021-01-05</td>\n",
       "      <td>13.740000</td>\n",
       "      <td>13.810000</td>\n",
       "      <td>13.760000</td>\n",
       "      <td>13.660000</td>\n",
       "      <td>13.580000</td>\n",
       "      <td>13.450000</td>\n",
       "      <td>13.480000</td>\n",
       "      <td>13.360000</td>\n",
       "      <td>13.460000</td>\n",
       "      <td>13.465600</td>\n",
       "      <td>13.459800</td>\n",
       "      <td>13.510000</td>\n",
       "      <td>13.550000</td>\n",
       "      <td>13.490000</td>\n",
       "      <td>13.450000</td>\n",
       "      <td>13.510000</td>\n",
       "    </tr>\n",
       "    <tr>\n",
       "      <th>627473</th>\n",
       "      <td>ZYXI</td>\n",
       "      <td>2021-01-06</td>\n",
       "      <td>13.620000</td>\n",
       "      <td>13.740000</td>\n",
       "      <td>13.792200</td>\n",
       "      <td>13.950000</td>\n",
       "      <td>14.070000</td>\n",
       "      <td>13.960000</td>\n",
       "      <td>14.064900</td>\n",
       "      <td>14.080000</td>\n",
       "      <td>14.065000</td>\n",
       "      <td>14.140000</td>\n",
       "      <td>14.130000</td>\n",
       "      <td>14.240000</td>\n",
       "      <td>14.840000</td>\n",
       "      <td>14.650000</td>\n",
       "      <td>14.390000</td>\n",
       "      <td>14.450000</td>\n",
       "    </tr>\n",
       "    <tr>\n",
       "      <th>627474</th>\n",
       "      <td>ZYXI</td>\n",
       "      <td>2021-01-07</td>\n",
       "      <td>14.720000</td>\n",
       "      <td>14.390000</td>\n",
       "      <td>14.250000</td>\n",
       "      <td>14.500000</td>\n",
       "      <td>14.640000</td>\n",
       "      <td>14.295000</td>\n",
       "      <td>14.350000</td>\n",
       "      <td>14.445000</td>\n",
       "      <td>14.500000</td>\n",
       "      <td>14.460000</td>\n",
       "      <td>14.749900</td>\n",
       "      <td>14.780000</td>\n",
       "      <td>14.750000</td>\n",
       "      <td>14.690000</td>\n",
       "      <td>14.865000</td>\n",
       "      <td>15.180000</td>\n",
       "    </tr>\n",
       "    <tr>\n",
       "      <th>627475</th>\n",
       "      <td>ZYXI</td>\n",
       "      <td>2021-01-08</td>\n",
       "      <td>15.160000</td>\n",
       "      <td>15.900000</td>\n",
       "      <td>15.750000</td>\n",
       "      <td>15.410000</td>\n",
       "      <td>15.300000</td>\n",
       "      <td>15.170000</td>\n",
       "      <td>15.250000</td>\n",
       "      <td>14.983800</td>\n",
       "      <td>15.180000</td>\n",
       "      <td>15.090000</td>\n",
       "      <td>15.170000</td>\n",
       "      <td>14.900000</td>\n",
       "      <td>14.435000</td>\n",
       "      <td>14.460000</td>\n",
       "      <td>14.720000</td>\n",
       "      <td>14.540000</td>\n",
       "    </tr>\n",
       "    <tr>\n",
       "      <th>627476</th>\n",
       "      <td>ZYXI</td>\n",
       "      <td>2021-01-11</td>\n",
       "      <td>14.410000</td>\n",
       "      <td>14.489900</td>\n",
       "      <td>14.490000</td>\n",
       "      <td>14.414100</td>\n",
       "      <td>14.340000</td>\n",
       "      <td>14.425000</td>\n",
       "      <td>14.380000</td>\n",
       "      <td>14.416800</td>\n",
       "      <td>14.345000</td>\n",
       "      <td>13.920000</td>\n",
       "      <td>13.950000</td>\n",
       "      <td>13.955000</td>\n",
       "      <td>13.840000</td>\n",
       "      <td>13.730000</td>\n",
       "      <td>13.670000</td>\n",
       "      <td>13.540000</td>\n",
       "    </tr>\n",
       "  </tbody>\n",
       "</table>\n",
       "<p>627477 rows × 18 columns</p>\n",
       "</div>"
      ],
      "text/plain": [
       "        name        date       0min      10min      20min      30min  \\\n",
       "0       AAME  2019-01-24   2.677215   2.677215   2.677215   2.677215   \n",
       "1       AAME  2019-01-25   2.528481   2.528481   2.528481   2.528481   \n",
       "2       AAME  2019-01-29   2.634479   2.634479   2.634479   2.634479   \n",
       "3       AAME  2019-01-30   2.478903   2.538397   2.538397   2.538397   \n",
       "4       AAME  2019-01-31   2.627637   2.627637   2.627637   2.627637   \n",
       "...      ...         ...        ...        ...        ...        ...   \n",
       "627472  ZYXI  2021-01-05  13.740000  13.810000  13.760000  13.660000   \n",
       "627473  ZYXI  2021-01-06  13.620000  13.740000  13.792200  13.950000   \n",
       "627474  ZYXI  2021-01-07  14.720000  14.390000  14.250000  14.500000   \n",
       "627475  ZYXI  2021-01-08  15.160000  15.900000  15.750000  15.410000   \n",
       "627476  ZYXI  2021-01-11  14.410000  14.489900  14.490000  14.414100   \n",
       "\n",
       "            40min      50min         1h       1h15       1h30       1h45  \\\n",
       "0        2.677215   2.677215   2.677215   2.677215   2.677215   2.677215   \n",
       "1        2.528481   2.528481   2.528481   2.528481   2.528481   2.528481   \n",
       "2        2.634479   2.634479   2.634479   2.634479   2.634479   2.634479   \n",
       "3        2.538397   2.538397   2.538397   2.538397   2.538397   2.538397   \n",
       "4        2.627637   2.627637   2.627637   2.627637   2.627637   2.627637   \n",
       "...           ...        ...        ...        ...        ...        ...   \n",
       "627472  13.580000  13.450000  13.480000  13.360000  13.460000  13.465600   \n",
       "627473  14.070000  13.960000  14.064900  14.080000  14.065000  14.140000   \n",
       "627474  14.640000  14.295000  14.350000  14.445000  14.500000  14.460000   \n",
       "627475  15.300000  15.170000  15.250000  14.983800  15.180000  15.090000   \n",
       "627476  14.340000  14.425000  14.380000  14.416800  14.345000  13.920000   \n",
       "\n",
       "               2h         3h         4h         5h         6h       6h30  \n",
       "0        2.677215   2.677215   2.677215   2.716878        NaN   2.796203  \n",
       "1        2.528481   2.528481   2.548312   2.538397   2.637553   2.637553  \n",
       "2        2.634479   2.634479        NaN        NaN        NaN   2.634479  \n",
       "3        2.538397   2.508650   2.508650   2.508650   2.508650   2.508650  \n",
       "4        2.627637   2.677215   2.677215   2.681677   2.681677   2.681677  \n",
       "...           ...        ...        ...        ...        ...        ...  \n",
       "627472  13.459800  13.510000  13.550000  13.490000  13.450000  13.510000  \n",
       "627473  14.130000  14.240000  14.840000  14.650000  14.390000  14.450000  \n",
       "627474  14.749900  14.780000  14.750000  14.690000  14.865000  15.180000  \n",
       "627475  15.170000  14.900000  14.435000  14.460000  14.720000  14.540000  \n",
       "627476  13.950000  13.955000  13.840000  13.730000  13.670000  13.540000  \n",
       "\n",
       "[627477 rows x 18 columns]"
      ]
     },
     "execution_count": 14,
     "metadata": {},
     "output_type": "execute_result"
    }
   ],
   "source": [
    "df"
   ]
  },
  {
   "cell_type": "markdown",
   "id": "hybrid-laser",
   "metadata": {},
   "source": [
    "#### Testes temporários em geral - desconsiderar essa parte do Notebook."
   ]
  },
  {
   "cell_type": "code",
   "execution_count": null,
   "id": "changing-ebony",
   "metadata": {},
   "outputs": [],
   "source": [
    "from pynnystock.Ativo import Ativo\n",
    "import datetime"
   ]
  },
  {
   "cell_type": "code",
   "execution_count": null,
   "id": "useful-boost",
   "metadata": {},
   "outputs": [],
   "source": [
    "intra = Ativo.initIntradayFromDate('ABUS',fm['ABUS'],datetime.date(2020, 7, 24), sg)"
   ]
  },
  {
   "cell_type": "code",
   "execution_count": null,
   "id": "buried-carter",
   "metadata": {},
   "outputs": [],
   "source": [
    "intra._core[0]['open']"
   ]
  },
  {
   "cell_type": "code",
   "execution_count": null,
   "id": "unusual-conjunction",
   "metadata": {},
   "outputs": [],
   "source": [
    "intra._core[-1]['close']"
   ]
  },
  {
   "cell_type": "code",
   "execution_count": null,
   "id": "capable-adventure",
   "metadata": {},
   "outputs": [],
   "source": [
    "intraday = intra"
   ]
  },
  {
   "cell_type": "code",
   "execution_count": null,
   "id": "developing-building",
   "metadata": {},
   "outputs": [],
   "source": [
    "highCoreValue = intraday._core[0]['high']\n",
    "highCoreTime = intraday._core[0]['time'].time()\n",
    "highCorePosition = 0\n",
    "\n",
    "for b in intraday._core:\n",
    "    if highCoreValue < b['high']:\n",
    "        highCoreValue = b['high']\n",
    "        highCoreTime = b['time'].time()\n",
    "        highCorePosition = intraday._core.index(b)"
   ]
  },
  {
   "cell_type": "code",
   "execution_count": null,
   "id": "seasonal-clause",
   "metadata": {},
   "outputs": [],
   "source": [
    "highCoreValue"
   ]
  },
  {
   "cell_type": "code",
   "execution_count": null,
   "id": "incredible-overall",
   "metadata": {},
   "outputs": [],
   "source": [
    "intra._core[10]['time'].time() "
   ]
  },
  {
   "cell_type": "code",
   "execution_count": null,
   "id": "recent-excellence",
   "metadata": {},
   "outputs": [],
   "source": [
    "x = datetime.time(9,42)\n",
    "x"
   ]
  },
  {
   "cell_type": "code",
   "execution_count": null,
   "id": "sharp-dollar",
   "metadata": {},
   "outputs": [],
   "source": [
    "y = datetime.time(9, 42)\n",
    "y"
   ]
  },
  {
   "cell_type": "code",
   "execution_count": null,
   "id": "soviet-iceland",
   "metadata": {},
   "outputs": [],
   "source": [
    "x == y"
   ]
  },
  {
   "cell_type": "code",
   "execution_count": null,
   "id": "intermediate-distinction",
   "metadata": {},
   "outputs": [],
   "source": [
    "d = dict.fromkeys([1, 2, 3, 4])"
   ]
  },
  {
   "cell_type": "code",
   "execution_count": null,
   "id": "unlike-primary",
   "metadata": {},
   "outputs": [],
   "source": [
    "dict.fromkeys(['0min', '5min', '10min', '15min', '20min', '25min', '30min', '35min', '40min', '45min', '50min', '55min', '1h', '1h10', '1h20', '1h30', '1h40', '1h50', '2h', 'close'])"
   ]
  },
  {
   "cell_type": "code",
   "execution_count": null,
   "id": "olive-philippines",
   "metadata": {},
   "outputs": [],
   "source": [
    "d = dict.fromkeys(['0min', '10min', '20min', '30min', '40min', '50min', '1h', '1h15', '1h30', '1h45', '2h', '3h', '4h', 'close'])"
   ]
  },
  {
   "cell_type": "code",
   "execution_count": null,
   "id": "public-entrepreneur",
   "metadata": {},
   "outputs": [],
   "source": [
    "d"
   ]
  },
  {
   "cell_type": "code",
   "execution_count": null,
   "id": "minus-feeding",
   "metadata": {},
   "outputs": [],
   "source": [
    "intra._core[0]"
   ]
  },
  {
   "cell_type": "code",
   "execution_count": null,
   "id": "productive-mechanics",
   "metadata": {},
   "outputs": [],
   "source": [
    "intra._core[0]['open']"
   ]
  },
  {
   "cell_type": "markdown",
   "id": "instrumental-conference",
   "metadata": {},
   "source": [
    "#### Testes com timely"
   ]
  },
  {
   "cell_type": "code",
   "execution_count": null,
   "id": "knowing-movie",
   "metadata": {},
   "outputs": [],
   "source": [
    "import pynnystock.indicators.Timely as tim"
   ]
  },
  {
   "cell_type": "code",
   "execution_count": null,
   "id": "logical-smith",
   "metadata": {},
   "outputs": [],
   "source": [
    "from importlib import reload"
   ]
  },
  {
   "cell_type": "code",
   "execution_count": null,
   "id": "unlikely-custody",
   "metadata": {},
   "outputs": [],
   "source": [
    "reload(tim)"
   ]
  },
  {
   "cell_type": "code",
   "execution_count": null,
   "id": "great-advice",
   "metadata": {},
   "outputs": [],
   "source": [
    "x = tim.Timely(intra)"
   ]
  },
  {
   "cell_type": "code",
   "execution_count": null,
   "id": "certified-metabolism",
   "metadata": {},
   "outputs": [],
   "source": [
    "x.times"
   ]
  },
  {
   "cell_type": "code",
   "execution_count": null,
   "id": "grave-munich",
   "metadata": {},
   "outputs": [],
   "source": [
    "intra"
   ]
  },
  {
   "cell_type": "code",
   "execution_count": null,
   "id": "viral-negotiation",
   "metadata": {},
   "outputs": [],
   "source": []
  },
  {
   "cell_type": "code",
   "execution_count": null,
   "id": "peaceful-arbor",
   "metadata": {},
   "outputs": [],
   "source": [
    "# abrir com esse snippet de código\n",
    "with open('rev_eng_df_5min_2y.pkl', 'rb') as filehandle: # w de read e b de binary\n",
    "    df = pickle.load(filehandle)"
   ]
  },
  {
   "cell_type": "code",
   "execution_count": null,
   "id": "chinese-external",
   "metadata": {},
   "outputs": [],
   "source": [
    "df"
   ]
  },
  {
   "cell_type": "code",
   "execution_count": null,
   "id": "interesting-pursuit",
   "metadata": {},
   "outputs": [],
   "source": []
  }
 ],
 "metadata": {
  "kernelspec": {
   "display_name": "Python 3",
   "language": "python",
   "name": "python3"
  },
  "language_info": {
   "codemirror_mode": {
    "name": "ipython",
    "version": 3
   },
   "file_extension": ".py",
   "mimetype": "text/x-python",
   "name": "python",
   "nbconvert_exporter": "python",
   "pygments_lexer": "ipython3",
   "version": "3.9.1"
  }
 },
 "nbformat": 4,
 "nbformat_minor": 5
}
