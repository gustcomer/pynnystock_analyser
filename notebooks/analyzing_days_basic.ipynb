{
 "cells": [
  {
   "cell_type": "code",
   "execution_count": 1,
   "metadata": {},
   "outputs": [],
   "source": [
    "import os\n",
    "os.chdir('../')"
   ]
  },
  {
   "cell_type": "code",
   "execution_count": 2,
   "metadata": {},
   "outputs": [],
   "source": [
    "import pickle"
   ]
  },
  {
   "cell_type": "code",
   "execution_count": 3,
   "metadata": {},
   "outputs": [],
   "source": [
    "from pynnystock.FileManager import FileManager\n",
    "from pynnystock.Parameters import Parameters\n",
    "from pynnystock.StatsGatherer import StatsGatherer\n",
    "from pynnystock.DaysAnalyser import DaysAnalyser"
   ]
  },
  {
   "cell_type": "code",
   "execution_count": 4,
   "metadata": {},
   "outputs": [],
   "source": [
    "fm = FileManager()"
   ]
  },
  {
   "cell_type": "code",
   "execution_count": 5,
   "metadata": {},
   "outputs": [],
   "source": [
    "pars = Parameters()"
   ]
  },
  {
   "cell_type": "code",
   "execution_count": 6,
   "metadata": {},
   "outputs": [],
   "source": [
    "sg = StatsGatherer(pars)"
   ]
  },
  {
   "cell_type": "code",
   "execution_count": 7,
   "metadata": {},
   "outputs": [],
   "source": [
    "da = DaysAnalyser(fm,sg)"
   ]
  },
  {
   "cell_type": "code",
   "execution_count": 8,
   "metadata": {},
   "outputs": [
    {
     "data": {
      "text/plain": [
       "1574"
      ]
     },
     "execution_count": 8,
     "metadata": {},
     "output_type": "execute_result"
    }
   ],
   "source": [
    "len(da.names)"
   ]
  },
  {
   "cell_type": "code",
   "execution_count": null,
   "metadata": {},
   "outputs": [],
   "source": [
    "da.openSelectedAD('adl_rev_eng_2y_inverse.pkl') # opens the Selected Ativos Dias List"
   ]
  },
  {
   "cell_type": "markdown",
   "metadata": {},
   "source": [
    "#### Parâmetros para runAnalysis()\n",
    "\n",
    "Parâmetro | Default | Descrição \n",
    "----------|---------|----------\n",
    "minPercentThreshold | -0.3 | Vai selecionar apenas ativos dias que caíram mais de 30% em relação ao open\n",
    "timeThreshold | 30 | A primeira tranche (a partir do início do core) vai ter 30 minutos. Retornaremos volume desse pedaço.\n",
    "afterTimeThreshold | 45 | A segunda trance vai ter 45 minutos e começa depois dos 30 minutos iniciais.\n",
    "minTime | 5 | Verifica até quantos % cai em relação ao open nos primeiros 5 minutos iniciais"
   ]
  },
  {
   "cell_type": "code",
   "execution_count": null,
   "metadata": {},
   "outputs": [],
   "source": [
    "da.runAnalysis(\n",
    "                minPercentThreshold = -0.3,\n",
    "                timeThreshold = 30,\n",
    "                afterTimeThreshold = 45,\n",
    "                minTime = 5\n",
    ")"
   ]
  },
  {
   "cell_type": "code",
   "execution_count": null,
   "metadata": {},
   "outputs": [],
   "source": [
    "da.saveSelectedAD('adl_rev_eng_2y_inverse.pkl')"
   ]
  },
  {
   "cell_type": "code",
   "execution_count": null,
   "metadata": {},
   "outputs": [],
   "source": [
    "# se quiser mandar o Dataframe para alguém analisar, e não trabalhar com a lista de Selected Ativos Dias:\n",
    "da.saveSelectedAtivoDiasDF('adl_rev_eng_df_2y_inverse.pkl')\n",
    "#da.openSelectedAtivoDiasDF('adl_reverse_df.pkl')"
   ]
  },
  {
   "cell_type": "code",
   "execution_count": null,
   "metadata": {},
   "outputs": [],
   "source": [
    "da.selectedAtivosDiasDF"
   ]
  },
  {
   "cell_type": "code",
   "execution_count": null,
   "metadata": {},
   "outputs": [],
   "source": [
    "da.selectedAtivosDiasDF.columns"
   ]
  },
  {
   "cell_type": "markdown",
   "metadata": {},
   "source": [
    "#### Nome das colunas do DataFrame de Análise dos Ativos Dias\n",
    "\n",
    "Cada linha do dataframe representa um Ativo-Dia que satisfez a condição desejada (caso geral: ter mínima em relação ao open menor que 30%)\n",
    "\n",
    "Coluna | Descrição \n",
    "----------|----------\n",
    "name | Ticker do Ativo\n",
    "date | Dia em que o ativo satisfez a condição\n",
    "minFromOpenPercent | Mínimo em % que o ativo caiu em relação ao open durante o dia\n",
    "freefloat | FreeFloat do Ativo\n",
    "price | Preço de abertura no core.\n",
    "1stTrancheVolume | Volume em shares dos primeiros 30 mins\n",
    "2ndTrancheVolume | Volume em shares dos 45 minutos após esses 30 mins\n",
    "1stTranchePercent | a porcentagem dessas duas tranches que está na primeira trench\n",
    "1stTrancheFloatRot | O Float Rotation da 1a tranche - o Volume da 1a tranche dividido pelo freefloat\n",
    "2ndTrancheFloatRot | O Float Rotation da 2a tranche - o Volume da 2a tranche dividido pelo freefloat\n",
    "minPctBeforeTime | quantos % chega a cair nos primeiros 5 minutos\n",
    "open_pre | Open do pre market\n",
    "high_pre | High do pre market\n",
    "low_pre | Low do pre market\n",
    "close_pre | Close do pre market\n",
    "open_core | Open do core market\n",
    "high_core | High do core market\n",
    "low_core | Low do core market\n",
    "close_core | Close do core market\n",
    "gap | Gap clássico - open de hoje em relação ao close de ontem"
   ]
  },
  {
   "cell_type": "markdown",
   "metadata": {},
   "source": [
    "#### Análise exploratória"
   ]
  },
  {
   "cell_type": "code",
   "execution_count": null,
   "metadata": {},
   "outputs": [],
   "source": [
    "# fazer análise exploratória do seguinte dataframe\n",
    "da.selectedAtivosDiasDF\n",
    "# df = da.selectedAtivosDiasDF # sugestão"
   ]
  },
  {
   "cell_type": "markdown",
   "metadata": {},
   "source": [
    "##### Testes temporários em geral. Desconsiderar essa parte do notebook."
   ]
  },
  {
   "cell_type": "code",
   "execution_count": null,
   "metadata": {},
   "outputs": [],
   "source": [
    "len(da.names)"
   ]
  },
  {
   "cell_type": "code",
   "execution_count": null,
   "metadata": {},
   "outputs": [],
   "source": [
    "len(fm.getNamesDB())"
   ]
  },
  {
   "cell_type": "code",
   "execution_count": null,
   "metadata": {},
   "outputs": [],
   "source": [
    "da.names"
   ]
  },
  {
   "cell_type": "code",
   "execution_count": null,
   "metadata": {},
   "outputs": [],
   "source": [
    "A = fm.getNames()\n",
    "len(A)"
   ]
  },
  {
   "cell_type": "code",
   "execution_count": null,
   "metadata": {},
   "outputs": [],
   "source": [
    "B = fm.getFreeFloatNames()\n",
    "len(B)"
   ]
  },
  {
   "cell_type": "code",
   "execution_count": null,
   "metadata": {},
   "outputs": [],
   "source": [
    "C = fm.getNamesDB()\n",
    "len(C)"
   ]
  },
  {
   "cell_type": "code",
   "execution_count": null,
   "metadata": {},
   "outputs": [],
   "source": [
    "AB = list(set(A) & set(B))\n",
    "len(AB)"
   ]
  },
  {
   "cell_type": "code",
   "execution_count": null,
   "metadata": {},
   "outputs": [],
   "source": [
    "CB = list(set(C) & set(B))\n",
    "len(CB)"
   ]
  },
  {
   "cell_type": "code",
   "execution_count": null,
   "metadata": {},
   "outputs": [],
   "source": [
    "A"
   ]
  },
  {
   "cell_type": "code",
   "execution_count": null,
   "metadata": {},
   "outputs": [],
   "source": [
    "C"
   ]
  },
  {
   "cell_type": "code",
   "execution_count": null,
   "metadata": {},
   "outputs": [],
   "source": [
    "AC_ = list(set(A) & set(C))"
   ]
  },
  {
   "cell_type": "code",
   "execution_count": null,
   "metadata": {},
   "outputs": [],
   "source": [
    "len(AC_)"
   ]
  },
  {
   "cell_type": "code",
   "execution_count": null,
   "metadata": {},
   "outputs": [],
   "source": [
    "fm['ABUS']"
   ]
  },
  {
   "cell_type": "code",
   "execution_count": null,
   "metadata": {},
   "outputs": [],
   "source": [
    "names_free_float"
   ]
  },
  {
   "cell_type": "code",
   "execution_count": null,
   "metadata": {},
   "outputs": [],
   "source": [
    "len(da.sad)"
   ]
  },
  {
   "cell_type": "code",
   "execution_count": null,
   "metadata": {},
   "outputs": [],
   "source": [
    "import sys"
   ]
  },
  {
   "cell_type": "code",
   "execution_count": null,
   "metadata": {},
   "outputs": [],
   "source": [
    "sys.getsizeof(da.sad) # 2714828\n",
    "sys.getsizeof(da)"
   ]
  }
 ],
 "metadata": {
  "kernelspec": {
   "display_name": "Python 3",
   "language": "python",
   "name": "python3"
  },
  "language_info": {
   "codemirror_mode": {
    "name": "ipython",
    "version": 3
   },
   "file_extension": ".py",
   "mimetype": "text/x-python",
   "name": "python",
   "nbconvert_exporter": "python",
   "pygments_lexer": "ipython3",
   "version": "3.9.1"
  }
 },
 "nbformat": 4,
 "nbformat_minor": 4
}
