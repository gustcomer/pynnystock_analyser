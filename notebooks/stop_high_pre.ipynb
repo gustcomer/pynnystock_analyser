{
 "cells": [
  {
   "cell_type": "code",
   "execution_count": 1,
   "metadata": {},
   "outputs": [],
   "source": [
    "import os\n",
    "os.chdir('../')\n",
    "# esse comando é melhor do que sys.path.insert(0, '../') pois permite interagir com arquivos do diretorio acima"
   ]
  },
  {
   "cell_type": "code",
   "execution_count": 2,
   "metadata": {},
   "outputs": [],
   "source": [
    "import pickle\n",
    "import pandas as pd\n",
    "import numpy as np\n",
    "import datetime\n",
    "from matplotlib import pyplot as plt\n",
    "import seaborn as sns\n",
    "pd.set_option('display.max_rows', 167) # opcional, questão de visualização para debugar caso 1"
   ]
  },
  {
   "cell_type": "code",
   "execution_count": 3,
   "metadata": {},
   "outputs": [],
   "source": [
    "from pynnystock.FileManager import FileManager\n",
    "from pynnystock.Ativo import Ativo\n",
    "# from pynnystock.Parameters import Parameters\n",
    "# from pynnystock.StatsGatherer import StatsGatherer\n",
    "# from pynnystock.StratsMaestro import StratsMaestro\n",
    "from pynnystock.Simulator import Simulator\n",
    "from pynnystock.BootstrapSimulator import BootstrapSimulator\n",
    "# from pynnystock.OptimizerSimulator import OptimizerSimulator"
   ]
  },
  {
   "cell_type": "code",
   "execution_count": 4,
   "metadata": {},
   "outputs": [],
   "source": [
    "from pynnystock.strategies.stophighpre.ParametersSHP import ParametersSHP\n",
    "from pynnystock.strategies.stophighpre.StatsGathererSHP import StatsGathererSHP\n",
    "from pynnystock.strategies.stophighpre.StratsMaestroSHP import StratsMaestroSHP\n",
    "from pynnystock.strategies.stophighpre.OptimizerSimulatorSHP import OptimizerSimulatorSHP"
   ]
  },
  {
   "cell_type": "code",
   "execution_count": 5,
   "metadata": {},
   "outputs": [],
   "source": [
    "fm = FileManager()"
   ]
  },
  {
   "cell_type": "code",
   "execution_count": 6,
   "metadata": {},
   "outputs": [],
   "source": [
    "pars = ParametersSHP()"
   ]
  },
  {
   "cell_type": "code",
   "execution_count": 7,
   "metadata": {},
   "outputs": [],
   "source": [
    "sg = StatsGathererSHP(pars)"
   ]
  },
  {
   "cell_type": "markdown",
   "metadata": {},
   "source": [
    "##### Na primeira vez precisa gerar o pickle de ativo_dia_list.pkl\n",
    "##### Somente executar esse código se o pickle ativo_dia_list.pkl não tiver sido gerado"
   ]
  },
  {
   "cell_type": "code",
   "execution_count": 8,
   "metadata": {},
   "outputs": [],
   "source": [
    "# abre arquivo com freefloats\n",
    "names_pennystocks = fm.getNamesDB()\n",
    "names_free_float = fm.getFreeFloatNames()\n",
    "names = list(set(names_pennystocks) & set(names_free_float))\n",
    "names.sort()"
   ]
  },
  {
   "cell_type": "code",
   "execution_count": null,
   "metadata": {},
   "outputs": [],
   "source": [
    "len(names)"
   ]
  },
  {
   "cell_type": "code",
   "execution_count": null,
   "metadata": {},
   "outputs": [],
   "source": [
    "# gera ativo_dia_list (adl), que é uma lista com resumo dos dias que vai nos auxiliar a filtrar os dias de interesse\n",
    "# também vai auxiliar na análise de ativos-dia\n",
    "adl = []\n",
    "#for n in names[0:10]:\n",
    "for n in names:\n",
    "    print(n)\n",
    "    try:\n",
    "        a = Ativo(n, fm, sg)\n",
    "        for intraday in a.intraDays:\n",
    "            d = {'name': a.name,\n",
    "                 'date': intraday.date,\n",
    "                 'freefloat': fm.getFreeFloat(n),\n",
    "                 'stats': intraday.stats}\n",
    "            adl.append( d )\n",
    "    except IndexError:\n",
    "        print(\"Ativo sem nenhum dado ou dado inconsistente\")"
   ]
  },
  {
   "cell_type": "code",
   "execution_count": null,
   "metadata": {},
   "outputs": [],
   "source": [
    "with open('AtivoDiaList_2y.pkl', 'wb') as filehandle: # w de write e b de binary\n",
    "    pickle.dump(adl,filehandle)"
   ]
  },
  {
   "cell_type": "code",
   "execution_count": null,
   "metadata": {},
   "outputs": [],
   "source": [
    "ativo_dia_list = adl"
   ]
  },
  {
   "cell_type": "markdown",
   "metadata": {},
   "source": [
    "##### Com o pickle ativo_dia_list.pkl gerado, prosseguir daqui"
   ]
  },
  {
   "cell_type": "code",
   "execution_count": 9,
   "metadata": {},
   "outputs": [],
   "source": [
    "with open('AtivoDiaList_2y.pkl', 'rb') as filehandle:\n",
    "    ativo_dia_list = pickle.load(filehandle)"
   ]
  },
  {
   "cell_type": "code",
   "execution_count": 10,
   "metadata": {},
   "outputs": [],
   "source": [
    "sm = StratsMaestroSHP(pars)"
   ]
  },
  {
   "cell_type": "code",
   "execution_count": 11,
   "metadata": {},
   "outputs": [],
   "source": [
    "sim = Simulator(fm,ativo_dia_list,pars,sm,sg)"
   ]
  },
  {
   "cell_type": "code",
   "execution_count": 12,
   "metadata": {},
   "outputs": [],
   "source": [
    "bss = BootstrapSimulator(sg)"
   ]
  },
  {
   "cell_type": "code",
   "execution_count": 13,
   "metadata": {},
   "outputs": [],
   "source": [
    "os = OptimizerSimulatorSHP(sim, bss, sg)"
   ]
  },
  {
   "cell_type": "code",
   "execution_count": 14,
   "metadata": {},
   "outputs": [],
   "source": [
    "pars.setFilterParameters( prevol_threshold=800000,\n",
    "                            open_dolar_threshold=2,\n",
    "                            gap_threshold=0.3,\n",
    "                            F_low_threshold=0,\n",
    "                            F_high_threshold=9)\n",
    "sim.runFiltering()"
   ]
  },
  {
   "cell_type": "code",
   "execution_count": 15,
   "metadata": {},
   "outputs": [],
   "source": [
    "pars.setAlgoParameters(short_after=0, \n",
    "                       exit_target=1, # como nunca vai chegar a 1000% de lucro, saída fica pelo end do core\n",
    "                       exit_stop_margin=0.1)\n",
    "pars.setSimParameters(start_money = 10000,\n",
    "                        allocation=0.1,\n",
    "                        locate_fee=0.02,\n",
    "                        commission=2)\n",
    "\n",
    "sim.runSimulation()\n",
    "\n",
    "#sim.saveTrades('simple_case_2y.pkl')\n",
    "#sim.openTrades('case1_trades_old.pkl')"
   ]
  },
  {
   "cell_type": "code",
   "execution_count": 16,
   "metadata": {},
   "outputs": [
    {
     "data": {
      "text/plain": [
       "425"
      ]
     },
     "execution_count": 16,
     "metadata": {},
     "output_type": "execute_result"
    }
   ],
   "source": [
    "len(sim.trades)"
   ]
  },
  {
   "cell_type": "code",
   "execution_count": 17,
   "metadata": {},
   "outputs": [],
   "source": [
    "dfd = sg.filtereddf # DataFrame of filtered ativo-dias\n",
    "dft = sg.tradesdf # DataFrame of trades\n",
    "dfes = sg.extrastatsdf # DataFrame of extra statistics"
   ]
  },
  {
   "cell_type": "code",
   "execution_count": 19,
   "metadata": {},
   "outputs": [],
   "source": [
    "sg.exportSimulationExcel('stop_high_pre_01.xlsx')"
   ]
  },
  {
   "cell_type": "code",
   "execution_count": 22,
   "metadata": {},
   "outputs": [
    {
     "data": {
      "text/html": [
       "<div>\n",
       "<style scoped>\n",
       "    .dataframe tbody tr th:only-of-type {\n",
       "        vertical-align: middle;\n",
       "    }\n",
       "\n",
       "    .dataframe tbody tr th {\n",
       "        vertical-align: top;\n",
       "    }\n",
       "\n",
       "    .dataframe thead th {\n",
       "        text-align: right;\n",
       "    }\n",
       "</style>\n",
       "<table border=\"1\" class=\"dataframe\">\n",
       "  <thead>\n",
       "    <tr style=\"text-align: right;\">\n",
       "      <th></th>\n",
       "      <th>name</th>\n",
       "      <th>date</th>\n",
       "      <th>open_pre</th>\n",
       "      <th>high_pre</th>\n",
       "      <th>low_pre</th>\n",
       "      <th>close_pre</th>\n",
       "      <th>open_core</th>\n",
       "      <th>high_core</th>\n",
       "      <th>low_core</th>\n",
       "      <th>close_core</th>\n",
       "    </tr>\n",
       "  </thead>\n",
       "  <tbody>\n",
       "    <tr>\n",
       "      <th>0</th>\n",
       "      <td>CODX</td>\n",
       "      <td>2019-01-30</td>\n",
       "      <td>1.15</td>\n",
       "      <td>3.3800</td>\n",
       "      <td>1.15</td>\n",
       "      <td>3.20</td>\n",
       "      <td>3.24</td>\n",
       "      <td>3.77</td>\n",
       "      <td>2.11</td>\n",
       "      <td>2.2300</td>\n",
       "    </tr>\n",
       "    <tr>\n",
       "      <th>1</th>\n",
       "      <td>AMRS</td>\n",
       "      <td>2019-02-05</td>\n",
       "      <td>3.48</td>\n",
       "      <td>5.4899</td>\n",
       "      <td>3.48</td>\n",
       "      <td>4.37</td>\n",
       "      <td>4.35</td>\n",
       "      <td>5.84</td>\n",
       "      <td>4.06</td>\n",
       "      <td>5.4600</td>\n",
       "    </tr>\n",
       "    <tr>\n",
       "      <th>2</th>\n",
       "      <td>SOLO</td>\n",
       "      <td>2019-02-14</td>\n",
       "      <td>5.60</td>\n",
       "      <td>6.6500</td>\n",
       "      <td>5.15</td>\n",
       "      <td>5.71</td>\n",
       "      <td>5.67</td>\n",
       "      <td>6.74</td>\n",
       "      <td>4.57</td>\n",
       "      <td>4.8900</td>\n",
       "    </tr>\n",
       "    <tr>\n",
       "      <th>3</th>\n",
       "      <td>RKDA</td>\n",
       "      <td>2019-02-28</td>\n",
       "      <td>5.85</td>\n",
       "      <td>9.7000</td>\n",
       "      <td>5.85</td>\n",
       "      <td>8.11</td>\n",
       "      <td>8.11</td>\n",
       "      <td>10.40</td>\n",
       "      <td>6.93</td>\n",
       "      <td>8.0501</td>\n",
       "    </tr>\n",
       "    <tr>\n",
       "      <th>4</th>\n",
       "      <td>BPTH</td>\n",
       "      <td>2019-03-06</td>\n",
       "      <td>4.73</td>\n",
       "      <td>7.4800</td>\n",
       "      <td>4.72</td>\n",
       "      <td>7.46</td>\n",
       "      <td>7.45</td>\n",
       "      <td>14.60</td>\n",
       "      <td>6.91</td>\n",
       "      <td>11.9700</td>\n",
       "    </tr>\n",
       "    <tr>\n",
       "      <th>...</th>\n",
       "      <td>...</td>\n",
       "      <td>...</td>\n",
       "      <td>...</td>\n",
       "      <td>...</td>\n",
       "      <td>...</td>\n",
       "      <td>...</td>\n",
       "      <td>...</td>\n",
       "      <td>...</td>\n",
       "      <td>...</td>\n",
       "      <td>...</td>\n",
       "    </tr>\n",
       "    <tr>\n",
       "      <th>420</th>\n",
       "      <td>TATT</td>\n",
       "      <td>2021-01-06</td>\n",
       "      <td>7.01</td>\n",
       "      <td>7.8400</td>\n",
       "      <td>6.25</td>\n",
       "      <td>7.61</td>\n",
       "      <td>7.62</td>\n",
       "      <td>8.34</td>\n",
       "      <td>6.25</td>\n",
       "      <td>6.5700</td>\n",
       "    </tr>\n",
       "    <tr>\n",
       "      <th>421</th>\n",
       "      <td>NCTY</td>\n",
       "      <td>2021-01-07</td>\n",
       "      <td>19.05</td>\n",
       "      <td>23.7400</td>\n",
       "      <td>18.71</td>\n",
       "      <td>21.70</td>\n",
       "      <td>21.70</td>\n",
       "      <td>27.82</td>\n",
       "      <td>16.10</td>\n",
       "      <td>17.0200</td>\n",
       "    </tr>\n",
       "    <tr>\n",
       "      <th>422</th>\n",
       "      <td>CBAT</td>\n",
       "      <td>2021-01-07</td>\n",
       "      <td>7.00</td>\n",
       "      <td>9.3500</td>\n",
       "      <td>6.45</td>\n",
       "      <td>8.75</td>\n",
       "      <td>8.77</td>\n",
       "      <td>8.80</td>\n",
       "      <td>7.31</td>\n",
       "      <td>7.7100</td>\n",
       "    </tr>\n",
       "    <tr>\n",
       "      <th>423</th>\n",
       "      <td>GRNQ</td>\n",
       "      <td>2021-01-08</td>\n",
       "      <td>2.35</td>\n",
       "      <td>3.2800</td>\n",
       "      <td>2.23</td>\n",
       "      <td>3.01</td>\n",
       "      <td>3.01</td>\n",
       "      <td>3.73</td>\n",
       "      <td>2.40</td>\n",
       "      <td>2.7000</td>\n",
       "    </tr>\n",
       "    <tr>\n",
       "      <th>424</th>\n",
       "      <td>CNET</td>\n",
       "      <td>2021-01-08</td>\n",
       "      <td>1.80</td>\n",
       "      <td>3.0400</td>\n",
       "      <td>1.79</td>\n",
       "      <td>2.69</td>\n",
       "      <td>2.69</td>\n",
       "      <td>4.75</td>\n",
       "      <td>2.63</td>\n",
       "      <td>3.0750</td>\n",
       "    </tr>\n",
       "  </tbody>\n",
       "</table>\n",
       "<p>425 rows × 10 columns</p>\n",
       "</div>"
      ],
      "text/plain": [
       "     name       date  open_pre  high_pre  low_pre  close_pre  open_core  \\\n",
       "0    CODX 2019-01-30      1.15    3.3800     1.15       3.20       3.24   \n",
       "1    AMRS 2019-02-05      3.48    5.4899     3.48       4.37       4.35   \n",
       "2    SOLO 2019-02-14      5.60    6.6500     5.15       5.71       5.67   \n",
       "3    RKDA 2019-02-28      5.85    9.7000     5.85       8.11       8.11   \n",
       "4    BPTH 2019-03-06      4.73    7.4800     4.72       7.46       7.45   \n",
       "..    ...        ...       ...       ...      ...        ...        ...   \n",
       "420  TATT 2021-01-06      7.01    7.8400     6.25       7.61       7.62   \n",
       "421  NCTY 2021-01-07     19.05   23.7400    18.71      21.70      21.70   \n",
       "422  CBAT 2021-01-07      7.00    9.3500     6.45       8.75       8.77   \n",
       "423  GRNQ 2021-01-08      2.35    3.2800     2.23       3.01       3.01   \n",
       "424  CNET 2021-01-08      1.80    3.0400     1.79       2.69       2.69   \n",
       "\n",
       "     high_core  low_core  close_core  \n",
       "0         3.77      2.11      2.2300  \n",
       "1         5.84      4.06      5.4600  \n",
       "2         6.74      4.57      4.8900  \n",
       "3        10.40      6.93      8.0501  \n",
       "4        14.60      6.91     11.9700  \n",
       "..         ...       ...         ...  \n",
       "420       8.34      6.25      6.5700  \n",
       "421      27.82     16.10     17.0200  \n",
       "422       8.80      7.31      7.7100  \n",
       "423       3.73      2.40      2.7000  \n",
       "424       4.75      2.63      3.0750  \n",
       "\n",
       "[425 rows x 10 columns]"
      ]
     },
     "execution_count": 22,
     "metadata": {},
     "output_type": "execute_result"
    }
   ],
   "source": [
    "dfes"
   ]
  },
  {
   "cell_type": "markdown",
   "metadata": {},
   "source": [
    "##### Algumas análises da simulação"
   ]
  },
  {
   "cell_type": "code",
   "execution_count": 23,
   "metadata": {},
   "outputs": [
    {
     "name": "stdout",
     "output_type": "stream",
     "text": [
      "\n",
      "PARÂMETROS PARA ALGORITMO DO TIPO STOP AT HIGH OF PRE-MARKET\n",
      "FILTERING PARAMETERS\n",
      "prevol_threshold: 800000\n",
      "open_dolar_threshold: 2\n",
      "gap_threshold: 0.3\n",
      "F_low_threshold: 0\n",
      "F_high_threshold: 9\n",
      "\n",
      "TRADING PARAMETERS\n",
      "short_after: 0\n",
      "exit_target: 1\n",
      "exit_stop_margin: 0.1\n",
      "\n",
      "SIMULATION PARAMETERS\n",
      "start_money: 10000\n",
      "allocation: 0.1\n",
      "locate_fee: 0.02\n",
      "commission: 2\n",
      "\n",
      "Start Money: $10,000.00\n",
      "End Money: $67,842.56\n",
      "Number of Trades: 425\n",
      "Number of filtered ativo-dias: 425\n",
      "Max Drawdown: 0.18916156059022982\n"
     ]
    }
   ],
   "source": [
    "sg.printSimResults()"
   ]
  },
  {
   "cell_type": "code",
   "execution_count": 24,
   "metadata": {
    "scrolled": true
   },
   "outputs": [
    {
     "ename": "KeyError",
     "evalue": "'mins_to_trade'",
     "output_type": "error",
     "traceback": [
      "\u001b[1;31m---------------------------------------------------------------------------\u001b[0m",
      "\u001b[1;31mKeyError\u001b[0m                                  Traceback (most recent call last)",
      "\u001b[1;32m~\\AppData\\Roaming\\Python\\Python39\\site-packages\\pandas\\core\\indexes\\base.py\u001b[0m in \u001b[0;36mget_loc\u001b[1;34m(self, key, method, tolerance)\u001b[0m\n\u001b[0;32m   3079\u001b[0m             \u001b[1;32mtry\u001b[0m\u001b[1;33m:\u001b[0m\u001b[1;33m\u001b[0m\u001b[1;33m\u001b[0m\u001b[0m\n\u001b[1;32m-> 3080\u001b[1;33m                 \u001b[1;32mreturn\u001b[0m \u001b[0mself\u001b[0m\u001b[1;33m.\u001b[0m\u001b[0m_engine\u001b[0m\u001b[1;33m.\u001b[0m\u001b[0mget_loc\u001b[0m\u001b[1;33m(\u001b[0m\u001b[0mcasted_key\u001b[0m\u001b[1;33m)\u001b[0m\u001b[1;33m\u001b[0m\u001b[1;33m\u001b[0m\u001b[0m\n\u001b[0m\u001b[0;32m   3081\u001b[0m             \u001b[1;32mexcept\u001b[0m \u001b[0mKeyError\u001b[0m \u001b[1;32mas\u001b[0m \u001b[0merr\u001b[0m\u001b[1;33m:\u001b[0m\u001b[1;33m\u001b[0m\u001b[1;33m\u001b[0m\u001b[0m\n",
      "\u001b[1;32mpandas\\_libs\\index.pyx\u001b[0m in \u001b[0;36mpandas._libs.index.IndexEngine.get_loc\u001b[1;34m()\u001b[0m\n",
      "\u001b[1;32mpandas\\_libs\\index.pyx\u001b[0m in \u001b[0;36mpandas._libs.index.IndexEngine.get_loc\u001b[1;34m()\u001b[0m\n",
      "\u001b[1;32mpandas\\_libs\\hashtable_class_helper.pxi\u001b[0m in \u001b[0;36mpandas._libs.hashtable.PyObjectHashTable.get_item\u001b[1;34m()\u001b[0m\n",
      "\u001b[1;32mpandas\\_libs\\hashtable_class_helper.pxi\u001b[0m in \u001b[0;36mpandas._libs.hashtable.PyObjectHashTable.get_item\u001b[1;34m()\u001b[0m\n",
      "\u001b[1;31mKeyError\u001b[0m: 'mins_to_trade'",
      "\nThe above exception was the direct cause of the following exception:\n",
      "\u001b[1;31mKeyError\u001b[0m                                  Traceback (most recent call last)",
      "\u001b[1;32m<ipython-input-24-eb6f45ee9ca3>\u001b[0m in \u001b[0;36m<module>\u001b[1;34m\u001b[0m\n\u001b[1;32m----> 1\u001b[1;33m \u001b[0msg\u001b[0m\u001b[1;33m.\u001b[0m\u001b[0mplotHistMinsToTrade\u001b[0m\u001b[1;33m(\u001b[0m\u001b[1;33m)\u001b[0m\u001b[1;33m\u001b[0m\u001b[1;33m\u001b[0m\u001b[0m\n\u001b[0m",
      "\u001b[1;32mC:\\Projetos\\Python\\pynnystock_analyser\\pynnystock\\StatsGatherer.py\u001b[0m in \u001b[0;36mplotHistMinsToTrade\u001b[1;34m(self, bins)\u001b[0m\n\u001b[0;32m    242\u001b[0m         \u001b[1;32mdef\u001b[0m \u001b[0mplotHistMinsToTrade\u001b[0m\u001b[1;33m(\u001b[0m\u001b[0mself\u001b[0m\u001b[1;33m,\u001b[0m \u001b[0mbins\u001b[0m \u001b[1;33m=\u001b[0m \u001b[1;33m[\u001b[0m\u001b[1;36m0\u001b[0m\u001b[1;33m,\u001b[0m\u001b[1;36m1\u001b[0m\u001b[1;33m,\u001b[0m\u001b[1;36m2\u001b[0m\u001b[1;33m,\u001b[0m\u001b[1;36m3\u001b[0m\u001b[1;33m,\u001b[0m\u001b[1;36m4\u001b[0m\u001b[1;33m,\u001b[0m\u001b[1;36m5\u001b[0m\u001b[1;33m,\u001b[0m\u001b[1;36m6\u001b[0m\u001b[1;33m,\u001b[0m\u001b[1;36m7\u001b[0m\u001b[1;33m,\u001b[0m\u001b[1;36m8\u001b[0m\u001b[1;33m,\u001b[0m\u001b[1;36m9\u001b[0m\u001b[1;33m,\u001b[0m\u001b[1;36m10\u001b[0m\u001b[1;33m,\u001b[0m\u001b[1;36m11\u001b[0m\u001b[1;33m,\u001b[0m\u001b[1;36m12\u001b[0m\u001b[1;33m,\u001b[0m\u001b[1;36m13\u001b[0m\u001b[1;33m,\u001b[0m\u001b[1;36m14\u001b[0m\u001b[1;33m,\u001b[0m\u001b[1;36m15\u001b[0m\u001b[1;33m,\u001b[0m\u001b[1;36m16\u001b[0m\u001b[1;33m]\u001b[0m\u001b[1;33m)\u001b[0m\u001b[1;33m:\u001b[0m\u001b[1;33m\u001b[0m\u001b[1;33m\u001b[0m\u001b[0m\n\u001b[0;32m    243\u001b[0m \u001b[1;33m\u001b[0m\u001b[0m\n\u001b[1;32m--> 244\u001b[1;33m                 \u001b[0mplt\u001b[0m\u001b[1;33m.\u001b[0m\u001b[0mhist\u001b[0m\u001b[1;33m(\u001b[0m \u001b[0mnp\u001b[0m\u001b[1;33m.\u001b[0m\u001b[0mclip\u001b[0m\u001b[1;33m(\u001b[0m \u001b[0mself\u001b[0m\u001b[1;33m.\u001b[0m\u001b[0mtradesdf\u001b[0m\u001b[1;33m[\u001b[0m\u001b[1;34m'mins_to_trade'\u001b[0m\u001b[1;33m]\u001b[0m\u001b[1;33m,\u001b[0m \u001b[0mbins\u001b[0m\u001b[1;33m[\u001b[0m\u001b[1;36m0\u001b[0m\u001b[1;33m]\u001b[0m\u001b[1;33m,\u001b[0m \u001b[0mbins\u001b[0m\u001b[1;33m[\u001b[0m\u001b[1;33m-\u001b[0m\u001b[1;36m1\u001b[0m\u001b[1;33m]\u001b[0m \u001b[1;33m)\u001b[0m\u001b[1;33m,\u001b[0m \u001b[0mbins\u001b[0m\u001b[1;33m=\u001b[0m\u001b[0mbins\u001b[0m\u001b[1;33m,\u001b[0m \u001b[0medgecolor\u001b[0m\u001b[1;33m=\u001b[0m\u001b[1;34m'black'\u001b[0m \u001b[1;33m)\u001b[0m\u001b[1;33m\u001b[0m\u001b[1;33m\u001b[0m\u001b[0m\n\u001b[0m\u001b[0;32m    245\u001b[0m \u001b[1;33m\u001b[0m\u001b[0m\n\u001b[0;32m    246\u001b[0m                 \u001b[0mplt\u001b[0m\u001b[1;33m.\u001b[0m\u001b[0mtitle\u001b[0m\u001b[1;33m(\u001b[0m\u001b[1;34m'Minutes to Trade'\u001b[0m\u001b[1;33m)\u001b[0m\u001b[1;33m\u001b[0m\u001b[1;33m\u001b[0m\u001b[0m\n",
      "\u001b[1;32m~\\AppData\\Roaming\\Python\\Python39\\site-packages\\pandas\\core\\frame.py\u001b[0m in \u001b[0;36m__getitem__\u001b[1;34m(self, key)\u001b[0m\n\u001b[0;32m   3022\u001b[0m             \u001b[1;32mif\u001b[0m \u001b[0mself\u001b[0m\u001b[1;33m.\u001b[0m\u001b[0mcolumns\u001b[0m\u001b[1;33m.\u001b[0m\u001b[0mnlevels\u001b[0m \u001b[1;33m>\u001b[0m \u001b[1;36m1\u001b[0m\u001b[1;33m:\u001b[0m\u001b[1;33m\u001b[0m\u001b[1;33m\u001b[0m\u001b[0m\n\u001b[0;32m   3023\u001b[0m                 \u001b[1;32mreturn\u001b[0m \u001b[0mself\u001b[0m\u001b[1;33m.\u001b[0m\u001b[0m_getitem_multilevel\u001b[0m\u001b[1;33m(\u001b[0m\u001b[0mkey\u001b[0m\u001b[1;33m)\u001b[0m\u001b[1;33m\u001b[0m\u001b[1;33m\u001b[0m\u001b[0m\n\u001b[1;32m-> 3024\u001b[1;33m             \u001b[0mindexer\u001b[0m \u001b[1;33m=\u001b[0m \u001b[0mself\u001b[0m\u001b[1;33m.\u001b[0m\u001b[0mcolumns\u001b[0m\u001b[1;33m.\u001b[0m\u001b[0mget_loc\u001b[0m\u001b[1;33m(\u001b[0m\u001b[0mkey\u001b[0m\u001b[1;33m)\u001b[0m\u001b[1;33m\u001b[0m\u001b[1;33m\u001b[0m\u001b[0m\n\u001b[0m\u001b[0;32m   3025\u001b[0m             \u001b[1;32mif\u001b[0m \u001b[0mis_integer\u001b[0m\u001b[1;33m(\u001b[0m\u001b[0mindexer\u001b[0m\u001b[1;33m)\u001b[0m\u001b[1;33m:\u001b[0m\u001b[1;33m\u001b[0m\u001b[1;33m\u001b[0m\u001b[0m\n\u001b[0;32m   3026\u001b[0m                 \u001b[0mindexer\u001b[0m \u001b[1;33m=\u001b[0m \u001b[1;33m[\u001b[0m\u001b[0mindexer\u001b[0m\u001b[1;33m]\u001b[0m\u001b[1;33m\u001b[0m\u001b[1;33m\u001b[0m\u001b[0m\n",
      "\u001b[1;32m~\\AppData\\Roaming\\Python\\Python39\\site-packages\\pandas\\core\\indexes\\base.py\u001b[0m in \u001b[0;36mget_loc\u001b[1;34m(self, key, method, tolerance)\u001b[0m\n\u001b[0;32m   3080\u001b[0m                 \u001b[1;32mreturn\u001b[0m \u001b[0mself\u001b[0m\u001b[1;33m.\u001b[0m\u001b[0m_engine\u001b[0m\u001b[1;33m.\u001b[0m\u001b[0mget_loc\u001b[0m\u001b[1;33m(\u001b[0m\u001b[0mcasted_key\u001b[0m\u001b[1;33m)\u001b[0m\u001b[1;33m\u001b[0m\u001b[1;33m\u001b[0m\u001b[0m\n\u001b[0;32m   3081\u001b[0m             \u001b[1;32mexcept\u001b[0m \u001b[0mKeyError\u001b[0m \u001b[1;32mas\u001b[0m \u001b[0merr\u001b[0m\u001b[1;33m:\u001b[0m\u001b[1;33m\u001b[0m\u001b[1;33m\u001b[0m\u001b[0m\n\u001b[1;32m-> 3082\u001b[1;33m                 \u001b[1;32mraise\u001b[0m \u001b[0mKeyError\u001b[0m\u001b[1;33m(\u001b[0m\u001b[0mkey\u001b[0m\u001b[1;33m)\u001b[0m \u001b[1;32mfrom\u001b[0m \u001b[0merr\u001b[0m\u001b[1;33m\u001b[0m\u001b[1;33m\u001b[0m\u001b[0m\n\u001b[0m\u001b[0;32m   3083\u001b[0m \u001b[1;33m\u001b[0m\u001b[0m\n\u001b[0;32m   3084\u001b[0m         \u001b[1;32mif\u001b[0m \u001b[0mtolerance\u001b[0m \u001b[1;32mis\u001b[0m \u001b[1;32mnot\u001b[0m \u001b[1;32mNone\u001b[0m\u001b[1;33m:\u001b[0m\u001b[1;33m\u001b[0m\u001b[1;33m\u001b[0m\u001b[0m\n",
      "\u001b[1;31mKeyError\u001b[0m: 'mins_to_trade'"
     ]
    }
   ],
   "source": [
    "sg.plotHistMinsToTrade()"
   ]
  },
  {
   "cell_type": "code",
   "execution_count": 25,
   "metadata": {},
   "outputs": [
    {
     "data": {
      "image/png": "[encoded data removed]",
      "text/plain": [
       "<Figure size 432x288 with 1 Axes>"
      ]
     },
     "metadata": {
      "needs_background": "light"
     },
     "output_type": "display_data"
    }
   ],
   "source": [
    "sg.plotEquityCurve()"
   ]
  },
  {
   "cell_type": "markdown",
   "metadata": {},
   "source": [
    "##### Análise de algumas estratificações"
   ]
  },
  {
   "cell_type": "code",
   "execution_count": null,
   "metadata": {},
   "outputs": [],
   "source": [
    "dftr = pd.merge(dft,dfd,how='inner',on=['name','date'])\n",
    "dftr = dftr[['name','date','gap','factorF','profit','cum_profit']]\n",
    "dftr"
   ]
  },
  {
   "cell_type": "code",
   "execution_count": null,
   "metadata": {},
   "outputs": [],
   "source": [
    "bins = [0.2, 0.3, 0.4, 0.5, 0.6, 0.7, 0.8, 0.9, 1, 1.1, 1.2]\n",
    "gap = np.clip( dftr['gap'], bins[0], bins[-1] )\n",
    "dftr.groupby(pd.cut(gap, bins)).agg(\n",
    "    winrate=pd.NamedAgg(column='profit',aggfunc=lambda x: sum(x>=0)/(sum(x>=0) + sum(x<0)) ),\n",
    "    lossrate=pd.NamedAgg(column='profit',aggfunc=lambda x: sum(x<0)/(sum(x>=0) + sum(x<0)) ),\n",
    "    mean=pd.NamedAgg(column='profit',aggfunc=lambda x: x.mean()),\n",
    "    mean_of_pos=pd.NamedAgg(column='profit',aggfunc=lambda x: x[x>=0].mean()),\n",
    "    mean_of_neg=pd.NamedAgg(column='profit',aggfunc=lambda x: x[x<0].mean()),\n",
    "    count=pd.NamedAgg(column='profit',aggfunc='count'),\n",
    "    positives=pd.NamedAgg(column='profit',aggfunc=lambda x: sum(x>=0) ),\n",
    "    negatives=pd.NamedAgg(column='profit',aggfunc=lambda x: sum(x<0) )\n",
    ")"
   ]
  },
  {
   "cell_type": "code",
   "execution_count": null,
   "metadata": {
    "scrolled": true
   },
   "outputs": [],
   "source": [
    "dftr.groupby(dftr['date'].dt.to_period('M')).agg(\n",
    "    winrate=pd.NamedAgg(column='profit',aggfunc=lambda x: sum(x>=0)/(sum(x>=0) + sum(x<0)) ),\n",
    "    lossrate=pd.NamedAgg(column='profit',aggfunc=lambda x: sum(x<0)/(sum(x>=0) + sum(x<0)) ),\n",
    "    mean=pd.NamedAgg(column='profit',aggfunc=lambda x: x.mean()),\n",
    "    mean_of_pos=pd.NamedAgg(column='profit',aggfunc=lambda x: x[x>=0].mean()),\n",
    "    mean_of_neg=pd.NamedAgg(column='profit',aggfunc=lambda x: x[x<0].mean()),\n",
    "    count=pd.NamedAgg(column='profit',aggfunc='count'),\n",
    "    positives=pd.NamedAgg(column='profit',aggfunc=lambda x: sum(x>=0) ),\n",
    "    negatives=pd.NamedAgg(column='profit',aggfunc=lambda x: sum(x<0) )\n",
    ")"
   ]
  },
  {
   "cell_type": "markdown",
   "metadata": {},
   "source": [
    "##### Analisando o Dataframe com extra statistics"
   ]
  },
  {
   "cell_type": "code",
   "execution_count": null,
   "metadata": {},
   "outputs": [],
   "source": [
    "# aqui podemos fazer alguma análise, basta fazer inner join de dfes com os outros dataframes dfd, dft\n",
    "dfes"
   ]
  },
  {
   "cell_type": "markdown",
   "metadata": {},
   "source": [
    "##### Rodando Bootstrap"
   ]
  },
  {
   "cell_type": "code",
   "execution_count": null,
   "metadata": {},
   "outputs": [],
   "source": [
    "bss.runBootstrap()"
   ]
  },
  {
   "cell_type": "code",
   "execution_count": null,
   "metadata": {},
   "outputs": [],
   "source": [
    "sg.printBootstrapResults()"
   ]
  },
  {
   "cell_type": "markdown",
   "metadata": {},
   "source": [
    "##### Códigos para rodar combinações de parâmetros e otimizar."
   ]
  },
  {
   "cell_type": "code",
   "execution_count": null,
   "metadata": {},
   "outputs": [],
   "source": [
    "# oficial que gostaríamos de explorar\n",
    "os.runSimulationGroup(\n",
    "    prevol_threshold = [800000],\n",
    "    open_dolar_threshold=[2],\n",
    "    gap_threshold=[0.1, 0.2, 0.3, 0.4, 0.5, 0.6, 0.7, 0.8, 0.9, 1],\n",
    "    F_low_threshold=[0],\n",
    "    F_high_threshold=[9],\n",
    "    short_after = [0],\n",
    "    exit_target = [10],\n",
    "    exit_stop_margin = [0.1],\n",
    "    start_money = [10000],\n",
    "    allocation=[0.1],\n",
    "    locate_fee=[0.02],\n",
    "    commission=[2]\n",
    ")"
   ]
  },
  {
   "cell_type": "code",
   "execution_count": null,
   "metadata": {},
   "outputs": [],
   "source": [
    "# sg.saveGroupResults('stop_high_pre_01.pkl')\n",
    "# sg.appendGroupResults('teste1.pkl')\n",
    "sg.openGroupResults('stop_high_pre_01.pkl')"
   ]
  },
  {
   "cell_type": "code",
   "execution_count": null,
   "metadata": {},
   "outputs": [],
   "source": [
    "sg.groupResults"
   ]
  },
  {
   "cell_type": "code",
   "execution_count": null,
   "metadata": {},
   "outputs": [],
   "source": [
    "#sg.groupResults.to_excel(\"resultados_otimizacao_SHP_01.xlsx\")\n",
    "sg.exportGroupResultsExcel(\"resultados_otimizacao_SHP_02.xlsx\")"
   ]
  },
  {
   "cell_type": "markdown",
   "metadata": {},
   "source": [
    "##### Descrição simulações já rodadas"
   ]
  },
  {
   "cell_type": "raw",
   "metadata": {},
   "source": []
  },
  {
   "cell_type": "markdown",
   "metadata": {},
   "source": [
    "##### Testes temporários em geral. Desconsiderar essa parte do notebook."
   ]
  },
  {
   "cell_type": "code",
   "execution_count": null,
   "metadata": {},
   "outputs": [],
   "source": [
    "import datetime"
   ]
  },
  {
   "cell_type": "code",
   "execution_count": null,
   "metadata": {},
   "outputs": [],
   "source": [
    "intra = Ativo.initIntradayFromDate('ABUS',fm['ABUS'],datetime.date(2020, 7, 24), sg)"
   ]
  },
  {
   "cell_type": "code",
   "execution_count": null,
   "metadata": {},
   "outputs": [],
   "source": [
    "%%time\n",
    "day = Ativo('ABUS', fm['ABUS'], sg)"
   ]
  },
  {
   "cell_type": "code",
   "execution_count": null,
   "metadata": {},
   "outputs": [],
   "source": [
    "#day.data\n",
    "day.data[0]"
   ]
  },
  {
   "cell_type": "code",
   "execution_count": null,
   "metadata": {},
   "outputs": [],
   "source": [
    "intra"
   ]
  },
  {
   "cell_type": "code",
   "execution_count": null,
   "metadata": {},
   "outputs": [],
   "source": [
    "x = Ativo.openIntraDataWithDB('ABUS',datetime.date(2020, 7, 24))"
   ]
  },
  {
   "cell_type": "code",
   "execution_count": null,
   "metadata": {},
   "outputs": [],
   "source": [
    "x[0]['time'].date()"
   ]
  },
  {
   "cell_type": "code",
   "execution_count": null,
   "metadata": {},
   "outputs": [],
   "source": [
    "intra"
   ]
  },
  {
   "cell_type": "code",
   "execution_count": null,
   "metadata": {},
   "outputs": [],
   "source": [
    "len(names_pennystocks)"
   ]
  },
  {
   "cell_type": "code",
   "execution_count": null,
   "metadata": {},
   "outputs": [],
   "source": [
    "len(names_free_float)"
   ]
  },
  {
   "cell_type": "code",
   "execution_count": null,
   "metadata": {},
   "outputs": [],
   "source": [
    "names = list(set(names_pennystocks) & set(names_free_float))"
   ]
  },
  {
   "cell_type": "code",
   "execution_count": null,
   "metadata": {},
   "outputs": [],
   "source": [
    "len(names)"
   ]
  },
  {
   "cell_type": "code",
   "execution_count": null,
   "metadata": {},
   "outputs": [],
   "source": [
    "intra = Ativo.initIntradayFromDate('AIM',fm,datetime.date(2020, 2, 28), sg)"
   ]
  },
  {
   "cell_type": "code",
   "execution_count": null,
   "metadata": {},
   "outputs": [],
   "source": [
    "pars"
   ]
  },
  {
   "cell_type": "markdown",
   "metadata": {},
   "source": [
    "#### Desenvolvimento função de repport"
   ]
  },
  {
   "cell_type": "code",
   "execution_count": 26,
   "metadata": {},
   "outputs": [],
   "source": [
    "tdf = sg.tradesdf"
   ]
  },
  {
   "cell_type": "code",
   "execution_count": 27,
   "metadata": {},
   "outputs": [
    {
     "data": {
      "text/html": [
       "<div>\n",
       "<style scoped>\n",
       "    .dataframe tbody tr th:only-of-type {\n",
       "        vertical-align: middle;\n",
       "    }\n",
       "\n",
       "    .dataframe tbody tr th {\n",
       "        vertical-align: top;\n",
       "    }\n",
       "\n",
       "    .dataframe thead th {\n",
       "        text-align: right;\n",
       "    }\n",
       "</style>\n",
       "<table border=\"1\" class=\"dataframe\">\n",
       "  <thead>\n",
       "    <tr style=\"text-align: right;\">\n",
       "      <th></th>\n",
       "      <th>name</th>\n",
       "      <th>date</th>\n",
       "      <th>has_trade</th>\n",
       "      <th>has_eod_exit</th>\n",
       "      <th>entry_time</th>\n",
       "      <th>minutes_to_trade</th>\n",
       "      <th>price</th>\n",
       "      <th>stop</th>\n",
       "      <th>target</th>\n",
       "      <th>exit_time</th>\n",
       "      <th>minutes_in_trade</th>\n",
       "      <th>profit</th>\n",
       "      <th>equity_real</th>\n",
       "      <th>profit_real</th>\n",
       "      <th>cum_profit_real</th>\n",
       "    </tr>\n",
       "  </thead>\n",
       "  <tbody>\n",
       "    <tr>\n",
       "      <th>0</th>\n",
       "      <td>CODX</td>\n",
       "      <td>2019-01-30</td>\n",
       "      <td>1.0</td>\n",
       "      <td>0.0</td>\n",
       "      <td>09:31</td>\n",
       "      <td>0.0</td>\n",
       "      <td>3.24</td>\n",
       "      <td>3.71800</td>\n",
       "      <td>0.0</td>\n",
       "      <td>09:48</td>\n",
       "      <td>17.0</td>\n",
       "      <td>-0.147531</td>\n",
       "      <td>9830.469136</td>\n",
       "      <td>-0.016953</td>\n",
       "      <td>0.983047</td>\n",
       "    </tr>\n",
       "    <tr>\n",
       "      <th>1</th>\n",
       "      <td>AMRS</td>\n",
       "      <td>2019-02-05</td>\n",
       "      <td>1.0</td>\n",
       "      <td>1.0</td>\n",
       "      <td>09:31</td>\n",
       "      <td>0.0</td>\n",
       "      <td>4.35</td>\n",
       "      <td>6.03889</td>\n",
       "      <td>0.0</td>\n",
       "      <td>16:00</td>\n",
       "      <td>389.0</td>\n",
       "      <td>-0.255172</td>\n",
       "      <td>9557.961744</td>\n",
       "      <td>-0.027721</td>\n",
       "      <td>0.955796</td>\n",
       "    </tr>\n",
       "    <tr>\n",
       "      <th>2</th>\n",
       "      <td>SOLO</td>\n",
       "      <td>2019-02-14</td>\n",
       "      <td>1.0</td>\n",
       "      <td>1.0</td>\n",
       "      <td>09:31</td>\n",
       "      <td>0.0</td>\n",
       "      <td>5.67</td>\n",
       "      <td>7.31500</td>\n",
       "      <td>0.0</td>\n",
       "      <td>16:00</td>\n",
       "      <td>389.0</td>\n",
       "      <td>0.137566</td>\n",
       "      <td>9668.331008</td>\n",
       "      <td>0.011547</td>\n",
       "      <td>0.966833</td>\n",
       "    </tr>\n",
       "    <tr>\n",
       "      <th>3</th>\n",
       "      <td>RKDA</td>\n",
       "      <td>2019-02-28</td>\n",
       "      <td>1.0</td>\n",
       "      <td>1.0</td>\n",
       "      <td>09:31</td>\n",
       "      <td>0.0</td>\n",
       "      <td>8.11</td>\n",
       "      <td>10.67000</td>\n",
       "      <td>0.0</td>\n",
       "      <td>16:00</td>\n",
       "      <td>389.0</td>\n",
       "      <td>0.007386</td>\n",
       "      <td>9654.135321</td>\n",
       "      <td>-0.001468</td>\n",
       "      <td>0.965414</td>\n",
       "    </tr>\n",
       "    <tr>\n",
       "      <th>4</th>\n",
       "      <td>BPTH</td>\n",
       "      <td>2019-03-06</td>\n",
       "      <td>1.0</td>\n",
       "      <td>0.0</td>\n",
       "      <td>09:31</td>\n",
       "      <td>0.0</td>\n",
       "      <td>7.45</td>\n",
       "      <td>8.22800</td>\n",
       "      <td>0.0</td>\n",
       "      <td>10:14</td>\n",
       "      <td>43.0</td>\n",
       "      <td>-0.104430</td>\n",
       "      <td>9532.009368</td>\n",
       "      <td>-0.012650</td>\n",
       "      <td>0.953201</td>\n",
       "    </tr>\n",
       "    <tr>\n",
       "      <th>...</th>\n",
       "      <td>...</td>\n",
       "      <td>...</td>\n",
       "      <td>...</td>\n",
       "      <td>...</td>\n",
       "      <td>...</td>\n",
       "      <td>...</td>\n",
       "      <td>...</td>\n",
       "      <td>...</td>\n",
       "      <td>...</td>\n",
       "      <td>...</td>\n",
       "      <td>...</td>\n",
       "      <td>...</td>\n",
       "      <td>...</td>\n",
       "      <td>...</td>\n",
       "      <td>...</td>\n",
       "    </tr>\n",
       "    <tr>\n",
       "      <th>420</th>\n",
       "      <td>TATT</td>\n",
       "      <td>2021-01-06</td>\n",
       "      <td>1.0</td>\n",
       "      <td>1.0</td>\n",
       "      <td>09:31</td>\n",
       "      <td>0.0</td>\n",
       "      <td>7.62</td>\n",
       "      <td>8.62400</td>\n",
       "      <td>0.0</td>\n",
       "      <td>16:00</td>\n",
       "      <td>389.0</td>\n",
       "      <td>0.137795</td>\n",
       "      <td>72142.034687</td>\n",
       "      <td>0.011751</td>\n",
       "      <td>7.214203</td>\n",
       "    </tr>\n",
       "    <tr>\n",
       "      <th>421</th>\n",
       "      <td>NCTY</td>\n",
       "      <td>2021-01-07</td>\n",
       "      <td>1.0</td>\n",
       "      <td>0.0</td>\n",
       "      <td>09:31</td>\n",
       "      <td>0.0</td>\n",
       "      <td>21.70</td>\n",
       "      <td>26.11400</td>\n",
       "      <td>0.0</td>\n",
       "      <td>09:46</td>\n",
       "      <td>15.0</td>\n",
       "      <td>-0.203410</td>\n",
       "      <td>70528.308492</td>\n",
       "      <td>-0.022369</td>\n",
       "      <td>7.052831</td>\n",
       "    </tr>\n",
       "    <tr>\n",
       "      <th>422</th>\n",
       "      <td>CBAT</td>\n",
       "      <td>2021-01-07</td>\n",
       "      <td>1.0</td>\n",
       "      <td>1.0</td>\n",
       "      <td>09:31</td>\n",
       "      <td>0.0</td>\n",
       "      <td>8.77</td>\n",
       "      <td>10.28500</td>\n",
       "      <td>0.0</td>\n",
       "      <td>16:00</td>\n",
       "      <td>389.0</td>\n",
       "      <td>0.120867</td>\n",
       "      <td>71237.703495</td>\n",
       "      <td>0.010058</td>\n",
       "      <td>7.123770</td>\n",
       "    </tr>\n",
       "    <tr>\n",
       "      <th>423</th>\n",
       "      <td>GRNQ</td>\n",
       "      <td>2021-01-08</td>\n",
       "      <td>1.0</td>\n",
       "      <td>0.0</td>\n",
       "      <td>09:31</td>\n",
       "      <td>0.0</td>\n",
       "      <td>3.01</td>\n",
       "      <td>3.60800</td>\n",
       "      <td>0.0</td>\n",
       "      <td>10:05</td>\n",
       "      <td>34.0</td>\n",
       "      <td>-0.198671</td>\n",
       "      <td>69677.940822</td>\n",
       "      <td>-0.021895</td>\n",
       "      <td>6.967794</td>\n",
       "    </tr>\n",
       "    <tr>\n",
       "      <th>424</th>\n",
       "      <td>CNET</td>\n",
       "      <td>2021-01-08</td>\n",
       "      <td>1.0</td>\n",
       "      <td>0.0</td>\n",
       "      <td>09:31</td>\n",
       "      <td>0.0</td>\n",
       "      <td>2.69</td>\n",
       "      <td>3.34400</td>\n",
       "      <td>0.0</td>\n",
       "      <td>09:41</td>\n",
       "      <td>10.0</td>\n",
       "      <td>-0.243123</td>\n",
       "      <td>67842.556193</td>\n",
       "      <td>-0.026341</td>\n",
       "      <td>6.784256</td>\n",
       "    </tr>\n",
       "  </tbody>\n",
       "</table>\n",
       "<p>425 rows × 15 columns</p>\n",
       "</div>"
      ],
      "text/plain": [
       "     name       date  has_trade  has_eod_exit entry_time  minutes_to_trade  \\\n",
       "0    CODX 2019-01-30        1.0           0.0      09:31               0.0   \n",
       "1    AMRS 2019-02-05        1.0           1.0      09:31               0.0   \n",
       "2    SOLO 2019-02-14        1.0           1.0      09:31               0.0   \n",
       "3    RKDA 2019-02-28        1.0           1.0      09:31               0.0   \n",
       "4    BPTH 2019-03-06        1.0           0.0      09:31               0.0   \n",
       "..    ...        ...        ...           ...        ...               ...   \n",
       "420  TATT 2021-01-06        1.0           1.0      09:31               0.0   \n",
       "421  NCTY 2021-01-07        1.0           0.0      09:31               0.0   \n",
       "422  CBAT 2021-01-07        1.0           1.0      09:31               0.0   \n",
       "423  GRNQ 2021-01-08        1.0           0.0      09:31               0.0   \n",
       "424  CNET 2021-01-08        1.0           0.0      09:31               0.0   \n",
       "\n",
       "     price      stop  target exit_time  minutes_in_trade    profit  \\\n",
       "0     3.24   3.71800     0.0     09:48              17.0 -0.147531   \n",
       "1     4.35   6.03889     0.0     16:00             389.0 -0.255172   \n",
       "2     5.67   7.31500     0.0     16:00             389.0  0.137566   \n",
       "3     8.11  10.67000     0.0     16:00             389.0  0.007386   \n",
       "4     7.45   8.22800     0.0     10:14              43.0 -0.104430   \n",
       "..     ...       ...     ...       ...               ...       ...   \n",
       "420   7.62   8.62400     0.0     16:00             389.0  0.137795   \n",
       "421  21.70  26.11400     0.0     09:46              15.0 -0.203410   \n",
       "422   8.77  10.28500     0.0     16:00             389.0  0.120867   \n",
       "423   3.01   3.60800     0.0     10:05              34.0 -0.198671   \n",
       "424   2.69   3.34400     0.0     09:41              10.0 -0.243123   \n",
       "\n",
       "      equity_real  profit_real  cum_profit_real  \n",
       "0     9830.469136    -0.016953         0.983047  \n",
       "1     9557.961744    -0.027721         0.955796  \n",
       "2     9668.331008     0.011547         0.966833  \n",
       "3     9654.135321    -0.001468         0.965414  \n",
       "4     9532.009368    -0.012650         0.953201  \n",
       "..            ...          ...              ...  \n",
       "420  72142.034687     0.011751         7.214203  \n",
       "421  70528.308492    -0.022369         7.052831  \n",
       "422  71237.703495     0.010058         7.123770  \n",
       "423  69677.940822    -0.021895         6.967794  \n",
       "424  67842.556193    -0.026341         6.784256  \n",
       "\n",
       "[425 rows x 15 columns]"
      ]
     },
     "execution_count": 27,
     "metadata": {},
     "output_type": "execute_result"
    }
   ],
   "source": [
    "tdf"
   ]
  },
  {
   "cell_type": "code",
   "execution_count": 28,
   "metadata": {},
   "outputs": [],
   "source": [
    "s = tdf['profit']"
   ]
  },
  {
   "cell_type": "code",
   "execution_count": 29,
   "metadata": {},
   "outputs": [],
   "source": [
    "import importlib"
   ]
  },
  {
   "cell_type": "code",
   "execution_count": 30,
   "metadata": {},
   "outputs": [],
   "source": [
    "import pynnystock.indicators.trades.RepportIndicators as ri"
   ]
  },
  {
   "cell_type": "code",
   "execution_count": null,
   "metadata": {},
   "outputs": [],
   "source": [
    "importlib.reload(ri)"
   ]
  },
  {
   "cell_type": "code",
   "execution_count": 31,
   "metadata": {
    "scrolled": true
   },
   "outputs": [
    {
     "data": {
      "text/plain": [
       "0        9852.469136\n",
       "1        9601.061303\n",
       "2        9733.139395\n",
       "3        9740.328236\n",
       "4        9638.610446\n",
       "           ...      \n",
       "420    173390.815406\n",
       "421    169863.870433\n",
       "422    171916.957122\n",
       "423    168501.464087\n",
       "424    164404.811392\n",
       "Name: profit, Length: 425, dtype: float64"
      ]
     },
     "execution_count": 31,
     "metadata": {},
     "output_type": "execute_result"
    }
   ],
   "source": [
    "ri.equityCurve(10000,s,0.1)"
   ]
  },
  {
   "cell_type": "code",
   "execution_count": null,
   "metadata": {},
   "outputs": [],
   "source": [
    "s[s>0]"
   ]
  },
  {
   "cell_type": "code",
   "execution_count": null,
   "metadata": {},
   "outputs": [],
   "source": [
    "s.index.start"
   ]
  },
  {
   "cell_type": "code",
   "execution_count": null,
   "metadata": {},
   "outputs": [],
   "source": [
    "s.at[2]"
   ]
  },
  {
   "cell_type": "code",
   "execution_count": null,
   "metadata": {},
   "outputs": [],
   "source": [
    "type(s.at[1])"
   ]
  },
  {
   "cell_type": "code",
   "execution_count": null,
   "metadata": {},
   "outputs": [],
   "source": []
  }
 ],
 "metadata": {
  "kernelspec": {
   "display_name": "Python 3",
   "language": "python",
   "name": "python3"
  },
  "language_info": {
   "codemirror_mode": {
    "name": "ipython",
    "version": 3
   },
   "file_extension": ".py",
   "mimetype": "text/x-python",
   "name": "python",
   "nbconvert_exporter": "python",
   "pygments_lexer": "ipython3",
   "version": "3.9.1"
  }
 },
 "nbformat": 4,
 "nbformat_minor": 4
}
