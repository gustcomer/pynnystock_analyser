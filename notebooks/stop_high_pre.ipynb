{
 "cells": [
  {
   "cell_type": "code",
   "execution_count": 1,
   "metadata": {},
   "outputs": [],
   "source": [
    "import os\n",
    "os.chdir('../')\n",
    "# esse comando é melhor do que sys.path.insert(0, '../') pois permite interagir com arquivos do diretorio acima"
   ]
  },
  {
   "cell_type": "code",
   "execution_count": 2,
   "metadata": {},
   "outputs": [],
   "source": [
    "import pickle\n",
    "import pandas as pd\n",
    "import numpy as np\n",
    "import datetime\n",
    "from matplotlib import pyplot as plt\n",
    "import seaborn as sns\n",
    "pd.set_option('display.max_rows', 167) # opcional, questão de visualização para debugar caso 1"
   ]
  },
  {
   "cell_type": "code",
   "execution_count": 3,
   "metadata": {},
   "outputs": [],
   "source": [
    "from pynnystock.FileManager import FileManager\n",
    "from pynnystock.Ativo import Ativo\n",
    "# from pynnystock.Parameters import Parameters\n",
    "# from pynnystock.StatsGatherer import StatsGatherer\n",
    "# from pynnystock.StratsMaestro import StratsMaestro\n",
    "from pynnystock.Simulator import Simulator\n",
    "from pynnystock.BootstrapSimulator import BootstrapSimulator\n",
    "# from pynnystock.OptimizerSimulator import OptimizerSimulator"
   ]
  },
  {
   "cell_type": "code",
   "execution_count": 4,
   "metadata": {},
   "outputs": [],
   "source": [
    "from pynnystock.strategies.stophighpre.ParametersSHP import ParametersSHP\n",
    "from pynnystock.strategies.stophighpre.StatsGathererSHP import StatsGathererSHP\n",
    "from pynnystock.strategies.stophighpre.StratsMaestroSHP import StratsMaestroSHP\n",
    "from pynnystock.strategies.stophighpre.OptimizerSimulatorSHP import OptimizerSimulatorSHP"
   ]
  },
  {
   "cell_type": "code",
   "execution_count": 5,
   "metadata": {},
   "outputs": [],
   "source": [
    "fm = FileManager()"
   ]
  },
  {
   "cell_type": "code",
   "execution_count": 6,
   "metadata": {},
   "outputs": [],
   "source": [
    "pars = ParametersSHP()"
   ]
  },
  {
   "cell_type": "code",
   "execution_count": 7,
   "metadata": {},
   "outputs": [],
   "source": [
    "sg = StatsGathererSHP(pars)"
   ]
  },
  {
   "cell_type": "markdown",
   "metadata": {},
   "source": [
    "##### Na primeira vez precisa gerar o pickle de ativo_dia_list.pkl\n",
    "##### Somente executar esse código se o pickle ativo_dia_list.pkl não tiver sido gerado"
   ]
  },
  {
   "cell_type": "code",
   "execution_count": null,
   "metadata": {},
   "outputs": [],
   "source": [
    "# abre arquivo com freefloats\n",
    "names_pennystocks = fm.getNamesDB()\n",
    "names_free_float = fm.getFreeFloatNames()\n",
    "names = list(set(names_pennystocks) & set(names_free_float))\n",
    "names.sort()"
   ]
  },
  {
   "cell_type": "code",
   "execution_count": null,
   "metadata": {},
   "outputs": [],
   "source": [
    "len(names)"
   ]
  },
  {
   "cell_type": "code",
   "execution_count": null,
   "metadata": {
    "scrolled": false
   },
   "outputs": [],
   "source": [
    "# gera ativo_dia_list (adl), que é uma lista com resumo dos dias que vai nos auxiliar a filtrar os dias de interesse\n",
    "# também vai auxiliar na análise de ativos-dia\n",
    "adl = []\n",
    "#for n in names[0:10]:\n",
    "for n in names:\n",
    "    print(n)\n",
    "    try:\n",
    "        a = Ativo(n, fm, sg)\n",
    "        for intraday in a.intraDays:\n",
    "            d = {'name': a.name,\n",
    "                 'date': intraday.date,\n",
    "                 'freefloat': fm.getFreeFloat(n),\n",
    "                 'stats': intraday.stats}\n",
    "            adl.append( d )\n",
    "    except IndexError:\n",
    "        print(\"Ativo sem nenhum dado ou dado inconsistente\")"
   ]
  },
  {
   "cell_type": "code",
   "execution_count": null,
   "metadata": {},
   "outputs": [],
   "source": [
    "with open('AtivoDiaList_2y.pkl', 'wb') as filehandle: # w de write e b de binary\n",
    "    pickle.dump(adl,filehandle)"
   ]
  },
  {
   "cell_type": "code",
   "execution_count": null,
   "metadata": {},
   "outputs": [],
   "source": [
    "ativo_dia_list = adl"
   ]
  },
  {
   "cell_type": "markdown",
   "metadata": {},
   "source": [
    "##### Com o pickle ativo_dia_list.pkl gerado, prosseguir daqui"
   ]
  },
  {
   "cell_type": "code",
   "execution_count": 8,
   "metadata": {},
   "outputs": [],
   "source": [
    "with open('AtivoDiaList_2y.pkl', 'rb') as filehandle:\n",
    "    ativo_dia_list = pickle.load(filehandle)"
   ]
  },
  {
   "cell_type": "code",
   "execution_count": 9,
   "metadata": {},
   "outputs": [],
   "source": [
    "sm = StratsMaestroSHP(pars)"
   ]
  },
  {
   "cell_type": "code",
   "execution_count": 10,
   "metadata": {},
   "outputs": [],
   "source": [
    "sim = Simulator(fm,ativo_dia_list,pars,sm,sg)"
   ]
  },
  {
   "cell_type": "code",
   "execution_count": 11,
   "metadata": {},
   "outputs": [],
   "source": [
    "bss = BootstrapSimulator(sg)"
   ]
  },
  {
   "cell_type": "code",
   "execution_count": 12,
   "metadata": {},
   "outputs": [],
   "source": [
    "os = OptimizerSimulatorSHP(sim, bss, sg)"
   ]
  },
  {
   "cell_type": "code",
   "execution_count": 13,
   "metadata": {},
   "outputs": [],
   "source": [
    "pars.setFilterParameters( prevol_threshold=800000,\n",
    "                            open_dolar_threshold=2,\n",
    "                            gap_threshold=0.3,\n",
    "                            F_low_threshold=0,\n",
    "                            F_high_threshold=9)\n",
    "sim.runFiltering()"
   ]
  },
  {
   "cell_type": "code",
   "execution_count": 14,
   "metadata": {},
   "outputs": [],
   "source": [
    "pars.setAlgoParameters(short_after=0, \n",
    "                       exit_target=1, # como nunca vai chegar a 1000% de lucro, saída fica pelo end do core\n",
    "                       exit_stop_margin=0.1)\n",
    "pars.setSimParameters(start_money = 10000,\n",
    "                        allocation=0.1,\n",
    "                        locate_fee=0.02,\n",
    "                        commission=2)\n",
    "\n",
    "sim.runSimulation()\n",
    "\n",
    "#sim.saveTrades('simple_case_2y.pkl')\n",
    "#sim.openTrades('case1_trades_old.pkl')"
   ]
  },
  {
   "cell_type": "code",
   "execution_count": 15,
   "metadata": {},
   "outputs": [
    {
     "data": {
      "text/plain": [
       "425"
      ]
     },
     "execution_count": 15,
     "metadata": {},
     "output_type": "execute_result"
    }
   ],
   "source": [
    "len(sim.trades)"
   ]
  },
  {
   "cell_type": "code",
   "execution_count": 16,
   "metadata": {},
   "outputs": [],
   "source": [
    "dfd = sg.filtereddf # DataFrame of filtered ativo-dias\n",
    "dft = sg.tradesdf # DataFrame of trades\n",
    "dfes = sg.extrastatsdf # DataFrame of extra statistics"
   ]
  },
  {
   "cell_type": "code",
   "execution_count": null,
   "metadata": {},
   "outputs": [],
   "source": [
    "sg.exportSimulationExcel('stop_high_pre_01.xlsx')"
   ]
  },
  {
   "cell_type": "code",
   "execution_count": null,
   "metadata": {},
   "outputs": [],
   "source": [
    "dft"
   ]
  },
  {
   "cell_type": "markdown",
   "metadata": {},
   "source": [
    "##### Algumas análises da simulação"
   ]
  },
  {
   "cell_type": "code",
   "execution_count": 17,
   "metadata": {},
   "outputs": [
    {
     "name": "stdout",
     "output_type": "stream",
     "text": [
      "\n",
      "PARÂMETROS PARA ALGORITMO DO TIPO STOP AT HIGH OF PRE-MARKET\n",
      "FILTERING PARAMETERS\n",
      "prevol_threshold: 800000\n",
      "open_dolar_threshold: 2\n",
      "gap_threshold: 0.3\n",
      "F_low_threshold: 0\n",
      "F_high_threshold: 9\n",
      "\n",
      "TRADING PARAMETERS\n",
      "short_after: 0\n",
      "exit_target: 1\n",
      "exit_stop_margin: 0.1\n",
      "\n",
      "SIMULATION PARAMETERS\n",
      "start_money: 10000\n",
      "allocation: 0.1\n",
      "locate_fee: 0.02\n",
      "commission: 2\n",
      "\n",
      "Start Money: $10,000.00\n",
      "End Money: $67,842.56\n",
      "Number of Trades: 425\n",
      "Number of filtered ativo-dias: 425\n",
      "Max Drawdown: 0.18916156059022982\n"
     ]
    }
   ],
   "source": [
    "sg.printSimResults()"
   ]
  },
  {
   "cell_type": "code",
   "execution_count": null,
   "metadata": {
    "scrolled": true
   },
   "outputs": [],
   "source": [
    "sg.plotHistMinsToTrade()"
   ]
  },
  {
   "cell_type": "code",
   "execution_count": null,
   "metadata": {},
   "outputs": [],
   "source": [
    "sg.plotEquityCurve()"
   ]
  },
  {
   "cell_type": "markdown",
   "metadata": {},
   "source": [
    "##### Análise de algumas estratificações"
   ]
  },
  {
   "cell_type": "code",
   "execution_count": null,
   "metadata": {},
   "outputs": [],
   "source": [
    "dftr = pd.merge(dft,dfd,how='inner',on=['name','date'])\n",
    "dftr = dftr[['name','date','gap','factorF','profit','cum_profit']]\n",
    "dftr"
   ]
  },
  {
   "cell_type": "code",
   "execution_count": null,
   "metadata": {},
   "outputs": [],
   "source": [
    "bins = [0.2, 0.3, 0.4, 0.5, 0.6, 0.7, 0.8, 0.9, 1, 1.1, 1.2]\n",
    "gap = np.clip( dftr['gap'], bins[0], bins[-1] )\n",
    "dftr.groupby(pd.cut(gap, bins)).agg(\n",
    "    winrate=pd.NamedAgg(column='profit',aggfunc=lambda x: sum(x>=0)/(sum(x>=0) + sum(x<0)) ),\n",
    "    lossrate=pd.NamedAgg(column='profit',aggfunc=lambda x: sum(x<0)/(sum(x>=0) + sum(x<0)) ),\n",
    "    mean=pd.NamedAgg(column='profit',aggfunc=lambda x: x.mean()),\n",
    "    mean_of_pos=pd.NamedAgg(column='profit',aggfunc=lambda x: x[x>=0].mean()),\n",
    "    mean_of_neg=pd.NamedAgg(column='profit',aggfunc=lambda x: x[x<0].mean()),\n",
    "    count=pd.NamedAgg(column='profit',aggfunc='count'),\n",
    "    positives=pd.NamedAgg(column='profit',aggfunc=lambda x: sum(x>=0) ),\n",
    "    negatives=pd.NamedAgg(column='profit',aggfunc=lambda x: sum(x<0) )\n",
    ")"
   ]
  },
  {
   "cell_type": "code",
   "execution_count": null,
   "metadata": {
    "scrolled": true
   },
   "outputs": [],
   "source": [
    "dftr.groupby(dftr['date'].dt.to_period('M')).agg(\n",
    "    winrate=pd.NamedAgg(column='profit',aggfunc=lambda x: sum(x>=0)/(sum(x>=0) + sum(x<0)) ),\n",
    "    lossrate=pd.NamedAgg(column='profit',aggfunc=lambda x: sum(x<0)/(sum(x>=0) + sum(x<0)) ),\n",
    "    mean=pd.NamedAgg(column='profit',aggfunc=lambda x: x.mean()),\n",
    "    mean_of_pos=pd.NamedAgg(column='profit',aggfunc=lambda x: x[x>=0].mean()),\n",
    "    mean_of_neg=pd.NamedAgg(column='profit',aggfunc=lambda x: x[x<0].mean()),\n",
    "    count=pd.NamedAgg(column='profit',aggfunc='count'),\n",
    "    positives=pd.NamedAgg(column='profit',aggfunc=lambda x: sum(x>=0) ),\n",
    "    negatives=pd.NamedAgg(column='profit',aggfunc=lambda x: sum(x<0) )\n",
    ")"
   ]
  },
  {
   "cell_type": "markdown",
   "metadata": {},
   "source": [
    "##### Analisando o Dataframe com extra statistics"
   ]
  },
  {
   "cell_type": "code",
   "execution_count": null,
   "metadata": {},
   "outputs": [],
   "source": [
    "# aqui podemos fazer alguma análise, basta fazer inner join de dfes com os outros dataframes dfd, dft\n",
    "dfes"
   ]
  },
  {
   "cell_type": "markdown",
   "metadata": {},
   "source": [
    "##### Rodando Bootstrap"
   ]
  },
  {
   "cell_type": "code",
   "execution_count": 18,
   "metadata": {},
   "outputs": [],
   "source": [
    "bss.runBootstrap()"
   ]
  },
  {
   "cell_type": "code",
   "execution_count": 19,
   "metadata": {},
   "outputs": [
    {
     "name": "stdout",
     "output_type": "stream",
     "text": [
      "Max Drawdown: 0.18916156059022982\n",
      "Mean of max Drawdown: 0.21390213492300492\n",
      "Max of max Drawdown: 0.3073480389058647\n",
      "Min of max Drawdown: 0.12521442276996142\n"
     ]
    }
   ],
   "source": [
    "sg.printBootstrapResults()"
   ]
  },
  {
   "cell_type": "markdown",
   "metadata": {},
   "source": [
    "##### Códigos para rodar combinações de parâmetros e otimizar."
   ]
  },
  {
   "cell_type": "code",
   "execution_count": null,
   "metadata": {},
   "outputs": [],
   "source": [
    "# oficial que gostaríamos de explorar\n",
    "os.runSimulationGroup(\n",
    "    prevol_threshold = [800000],\n",
    "    open_dolar_threshold=[2],\n",
    "    gap_threshold=[0.1, 0.2, 0.3, 0.4, 0.5, 0.6, 0.7, 0.8, 0.9, 1],\n",
    "    F_low_threshold=[0],\n",
    "    F_high_threshold=[9],\n",
    "    short_after = [0],\n",
    "    exit_target = [10],\n",
    "    exit_stop_margin = [0.1],\n",
    "    start_money = [10000],\n",
    "    allocation=[0.1],\n",
    "    locate_fee=[0.02],\n",
    "    commission=[2]\n",
    ")"
   ]
  },
  {
   "cell_type": "code",
   "execution_count": 20,
   "metadata": {},
   "outputs": [],
   "source": [
    "# sg.saveGroupResults('stop_high_pre_01.pkl')\n",
    "# sg.appendGroupResults('teste1.pkl')\n",
    "sg.openGroupResults('stop_high_pre_01.pkl')"
   ]
  },
  {
   "cell_type": "code",
   "execution_count": 21,
   "metadata": {},
   "outputs": [
    {
     "data": {
      "text/html": [
       "<div>\n",
       "<style scoped>\n",
       "    .dataframe tbody tr th:only-of-type {\n",
       "        vertical-align: middle;\n",
       "    }\n",
       "\n",
       "    .dataframe tbody tr th {\n",
       "        vertical-align: top;\n",
       "    }\n",
       "\n",
       "    .dataframe thead th {\n",
       "        text-align: right;\n",
       "    }\n",
       "</style>\n",
       "<table border=\"1\" class=\"dataframe\">\n",
       "  <thead>\n",
       "    <tr style=\"text-align: right;\">\n",
       "      <th></th>\n",
       "      <th>prevol_threshold</th>\n",
       "      <th>open_dolar_threshold</th>\n",
       "      <th>gap_threshold</th>\n",
       "      <th>F_low_threshold</th>\n",
       "      <th>F_high_threshold</th>\n",
       "      <th>short_after</th>\n",
       "      <th>exit_target</th>\n",
       "      <th>exit_stop_margin</th>\n",
       "      <th>start_money</th>\n",
       "      <th>allocation</th>\n",
       "      <th>locate_fee</th>\n",
       "      <th>commission</th>\n",
       "      <th>end_money</th>\n",
       "      <th>profit</th>\n",
       "      <th>max_drawdown</th>\n",
       "      <th>meanmax_drawdown</th>\n",
       "      <th>maxmax_drawdown</th>\n",
       "      <th>minmax_drawdown</th>\n",
       "      <th>n_trades</th>\n",
       "      <th>n_filtered_ativo_days</th>\n",
       "    </tr>\n",
       "  </thead>\n",
       "  <tbody>\n",
       "    <tr>\n",
       "      <th>0</th>\n",
       "      <td>800000</td>\n",
       "      <td>2</td>\n",
       "      <td>0.3</td>\n",
       "      <td>0</td>\n",
       "      <td>9</td>\n",
       "      <td>0</td>\n",
       "      <td>10</td>\n",
       "      <td>0.1</td>\n",
       "      <td>10000</td>\n",
       "      <td>0.1</td>\n",
       "      <td>0.02</td>\n",
       "      <td>2</td>\n",
       "      <td>67842.556193</td>\n",
       "      <td>5.784256</td>\n",
       "      <td>0.189162</td>\n",
       "      <td>0.208551</td>\n",
       "      <td>0.304098</td>\n",
       "      <td>0.137466</td>\n",
       "      <td>425</td>\n",
       "      <td>425</td>\n",
       "    </tr>\n",
       "    <tr>\n",
       "      <th>1</th>\n",
       "      <td>800000</td>\n",
       "      <td>2</td>\n",
       "      <td>0.3</td>\n",
       "      <td>0</td>\n",
       "      <td>9</td>\n",
       "      <td>0</td>\n",
       "      <td>10</td>\n",
       "      <td>0.5</td>\n",
       "      <td>10000</td>\n",
       "      <td>0.1</td>\n",
       "      <td>0.02</td>\n",
       "      <td>2</td>\n",
       "      <td>248579.006449</td>\n",
       "      <td>23.857901</td>\n",
       "      <td>0.180495</td>\n",
       "      <td>0.241930</td>\n",
       "      <td>0.372179</td>\n",
       "      <td>0.157552</td>\n",
       "      <td>425</td>\n",
       "      <td>425</td>\n",
       "    </tr>\n",
       "    <tr>\n",
       "      <th>2</th>\n",
       "      <td>800000</td>\n",
       "      <td>2</td>\n",
       "      <td>0.3</td>\n",
       "      <td>0</td>\n",
       "      <td>9</td>\n",
       "      <td>0</td>\n",
       "      <td>10</td>\n",
       "      <td>1.0</td>\n",
       "      <td>10000</td>\n",
       "      <td>0.1</td>\n",
       "      <td>0.02</td>\n",
       "      <td>2</td>\n",
       "      <td>304359.680621</td>\n",
       "      <td>29.435968</td>\n",
       "      <td>0.202586</td>\n",
       "      <td>0.268190</td>\n",
       "      <td>0.435304</td>\n",
       "      <td>0.202586</td>\n",
       "      <td>425</td>\n",
       "      <td>425</td>\n",
       "    </tr>\n",
       "    <tr>\n",
       "      <th>3</th>\n",
       "      <td>800000</td>\n",
       "      <td>2</td>\n",
       "      <td>0.3</td>\n",
       "      <td>0</td>\n",
       "      <td>9</td>\n",
       "      <td>0</td>\n",
       "      <td>10</td>\n",
       "      <td>5.0</td>\n",
       "      <td>10000</td>\n",
       "      <td>0.1</td>\n",
       "      <td>0.02</td>\n",
       "      <td>2</td>\n",
       "      <td>143895.343350</td>\n",
       "      <td>13.389534</td>\n",
       "      <td>0.585731</td>\n",
       "      <td>0.623992</td>\n",
       "      <td>0.745589</td>\n",
       "      <td>0.585069</td>\n",
       "      <td>425</td>\n",
       "      <td>425</td>\n",
       "    </tr>\n",
       "    <tr>\n",
       "      <th>4</th>\n",
       "      <td>800000</td>\n",
       "      <td>2</td>\n",
       "      <td>0.3</td>\n",
       "      <td>0</td>\n",
       "      <td>9</td>\n",
       "      <td>0</td>\n",
       "      <td>10</td>\n",
       "      <td>10.0</td>\n",
       "      <td>10000</td>\n",
       "      <td>0.1</td>\n",
       "      <td>0.02</td>\n",
       "      <td>2</td>\n",
       "      <td>-54046.885192</td>\n",
       "      <td>-6.404689</td>\n",
       "      <td>1.497265</td>\n",
       "      <td>2.437310</td>\n",
       "      <td>6.332448</td>\n",
       "      <td>1.169415</td>\n",
       "      <td>425</td>\n",
       "      <td>425</td>\n",
       "    </tr>\n",
       "    <tr>\n",
       "      <th>5</th>\n",
       "      <td>800000</td>\n",
       "      <td>2</td>\n",
       "      <td>0.1</td>\n",
       "      <td>0</td>\n",
       "      <td>9</td>\n",
       "      <td>0</td>\n",
       "      <td>10</td>\n",
       "      <td>0.1</td>\n",
       "      <td>10000</td>\n",
       "      <td>0.1</td>\n",
       "      <td>0.02</td>\n",
       "      <td>2</td>\n",
       "      <td>102229.749920</td>\n",
       "      <td>9.222975</td>\n",
       "      <td>0.264476</td>\n",
       "      <td>0.234514</td>\n",
       "      <td>0.338627</td>\n",
       "      <td>0.161647</td>\n",
       "      <td>813</td>\n",
       "      <td>813</td>\n",
       "    </tr>\n",
       "    <tr>\n",
       "      <th>6</th>\n",
       "      <td>800000</td>\n",
       "      <td>2</td>\n",
       "      <td>0.2</td>\n",
       "      <td>0</td>\n",
       "      <td>9</td>\n",
       "      <td>0</td>\n",
       "      <td>10</td>\n",
       "      <td>0.1</td>\n",
       "      <td>10000</td>\n",
       "      <td>0.1</td>\n",
       "      <td>0.02</td>\n",
       "      <td>2</td>\n",
       "      <td>91040.894130</td>\n",
       "      <td>8.104089</td>\n",
       "      <td>0.154780</td>\n",
       "      <td>0.213266</td>\n",
       "      <td>0.373156</td>\n",
       "      <td>0.144808</td>\n",
       "      <td>565</td>\n",
       "      <td>565</td>\n",
       "    </tr>\n",
       "    <tr>\n",
       "      <th>7</th>\n",
       "      <td>800000</td>\n",
       "      <td>2</td>\n",
       "      <td>0.3</td>\n",
       "      <td>0</td>\n",
       "      <td>9</td>\n",
       "      <td>0</td>\n",
       "      <td>10</td>\n",
       "      <td>0.1</td>\n",
       "      <td>10000</td>\n",
       "      <td>0.1</td>\n",
       "      <td>0.02</td>\n",
       "      <td>2</td>\n",
       "      <td>67842.556193</td>\n",
       "      <td>5.784256</td>\n",
       "      <td>0.189162</td>\n",
       "      <td>0.218952</td>\n",
       "      <td>0.357376</td>\n",
       "      <td>0.133132</td>\n",
       "      <td>425</td>\n",
       "      <td>425</td>\n",
       "    </tr>\n",
       "    <tr>\n",
       "      <th>8</th>\n",
       "      <td>800000</td>\n",
       "      <td>2</td>\n",
       "      <td>0.4</td>\n",
       "      <td>0</td>\n",
       "      <td>9</td>\n",
       "      <td>0</td>\n",
       "      <td>10</td>\n",
       "      <td>0.1</td>\n",
       "      <td>10000</td>\n",
       "      <td>0.1</td>\n",
       "      <td>0.02</td>\n",
       "      <td>2</td>\n",
       "      <td>49035.660099</td>\n",
       "      <td>3.903566</td>\n",
       "      <td>0.226156</td>\n",
       "      <td>0.223113</td>\n",
       "      <td>0.389321</td>\n",
       "      <td>0.130322</td>\n",
       "      <td>344</td>\n",
       "      <td>344</td>\n",
       "    </tr>\n",
       "    <tr>\n",
       "      <th>9</th>\n",
       "      <td>800000</td>\n",
       "      <td>2</td>\n",
       "      <td>0.5</td>\n",
       "      <td>0</td>\n",
       "      <td>9</td>\n",
       "      <td>0</td>\n",
       "      <td>10</td>\n",
       "      <td>0.1</td>\n",
       "      <td>10000</td>\n",
       "      <td>0.1</td>\n",
       "      <td>0.02</td>\n",
       "      <td>2</td>\n",
       "      <td>51055.056802</td>\n",
       "      <td>4.105506</td>\n",
       "      <td>0.203976</td>\n",
       "      <td>0.174602</td>\n",
       "      <td>0.294664</td>\n",
       "      <td>0.118082</td>\n",
       "      <td>283</td>\n",
       "      <td>283</td>\n",
       "    </tr>\n",
       "    <tr>\n",
       "      <th>10</th>\n",
       "      <td>800000</td>\n",
       "      <td>2</td>\n",
       "      <td>0.6</td>\n",
       "      <td>0</td>\n",
       "      <td>9</td>\n",
       "      <td>0</td>\n",
       "      <td>10</td>\n",
       "      <td>0.1</td>\n",
       "      <td>10000</td>\n",
       "      <td>0.1</td>\n",
       "      <td>0.02</td>\n",
       "      <td>2</td>\n",
       "      <td>42727.241735</td>\n",
       "      <td>3.272724</td>\n",
       "      <td>0.205006</td>\n",
       "      <td>0.182113</td>\n",
       "      <td>0.345767</td>\n",
       "      <td>0.121262</td>\n",
       "      <td>233</td>\n",
       "      <td>233</td>\n",
       "    </tr>\n",
       "    <tr>\n",
       "      <th>11</th>\n",
       "      <td>800000</td>\n",
       "      <td>2</td>\n",
       "      <td>0.7</td>\n",
       "      <td>0</td>\n",
       "      <td>9</td>\n",
       "      <td>0</td>\n",
       "      <td>10</td>\n",
       "      <td>0.1</td>\n",
       "      <td>10000</td>\n",
       "      <td>0.1</td>\n",
       "      <td>0.02</td>\n",
       "      <td>2</td>\n",
       "      <td>34905.710877</td>\n",
       "      <td>2.490571</td>\n",
       "      <td>0.236405</td>\n",
       "      <td>0.170039</td>\n",
       "      <td>0.253505</td>\n",
       "      <td>0.102282</td>\n",
       "      <td>193</td>\n",
       "      <td>193</td>\n",
       "    </tr>\n",
       "    <tr>\n",
       "      <th>12</th>\n",
       "      <td>800000</td>\n",
       "      <td>2</td>\n",
       "      <td>0.8</td>\n",
       "      <td>0</td>\n",
       "      <td>9</td>\n",
       "      <td>0</td>\n",
       "      <td>10</td>\n",
       "      <td>0.1</td>\n",
       "      <td>10000</td>\n",
       "      <td>0.1</td>\n",
       "      <td>0.02</td>\n",
       "      <td>2</td>\n",
       "      <td>32478.276379</td>\n",
       "      <td>2.247828</td>\n",
       "      <td>0.184430</td>\n",
       "      <td>0.162905</td>\n",
       "      <td>0.276158</td>\n",
       "      <td>0.100886</td>\n",
       "      <td>163</td>\n",
       "      <td>163</td>\n",
       "    </tr>\n",
       "    <tr>\n",
       "      <th>13</th>\n",
       "      <td>800000</td>\n",
       "      <td>2</td>\n",
       "      <td>0.9</td>\n",
       "      <td>0</td>\n",
       "      <td>9</td>\n",
       "      <td>0</td>\n",
       "      <td>10</td>\n",
       "      <td>0.1</td>\n",
       "      <td>10000</td>\n",
       "      <td>0.1</td>\n",
       "      <td>0.02</td>\n",
       "      <td>2</td>\n",
       "      <td>27739.491917</td>\n",
       "      <td>1.773949</td>\n",
       "      <td>0.156524</td>\n",
       "      <td>0.160740</td>\n",
       "      <td>0.307698</td>\n",
       "      <td>0.101336</td>\n",
       "      <td>134</td>\n",
       "      <td>134</td>\n",
       "    </tr>\n",
       "    <tr>\n",
       "      <th>14</th>\n",
       "      <td>800000</td>\n",
       "      <td>2</td>\n",
       "      <td>1.0</td>\n",
       "      <td>0</td>\n",
       "      <td>9</td>\n",
       "      <td>0</td>\n",
       "      <td>10</td>\n",
       "      <td>0.1</td>\n",
       "      <td>10000</td>\n",
       "      <td>0.1</td>\n",
       "      <td>0.02</td>\n",
       "      <td>2</td>\n",
       "      <td>19366.290566</td>\n",
       "      <td>0.936629</td>\n",
       "      <td>0.180290</td>\n",
       "      <td>0.179475</td>\n",
       "      <td>0.271668</td>\n",
       "      <td>0.099420</td>\n",
       "      <td>116</td>\n",
       "      <td>116</td>\n",
       "    </tr>\n",
       "  </tbody>\n",
       "</table>\n",
       "</div>"
      ],
      "text/plain": [
       "    prevol_threshold  open_dolar_threshold  gap_threshold  F_low_threshold  \\\n",
       "0             800000                     2            0.3                0   \n",
       "1             800000                     2            0.3                0   \n",
       "2             800000                     2            0.3                0   \n",
       "3             800000                     2            0.3                0   \n",
       "4             800000                     2            0.3                0   \n",
       "5             800000                     2            0.1                0   \n",
       "6             800000                     2            0.2                0   \n",
       "7             800000                     2            0.3                0   \n",
       "8             800000                     2            0.4                0   \n",
       "9             800000                     2            0.5                0   \n",
       "10            800000                     2            0.6                0   \n",
       "11            800000                     2            0.7                0   \n",
       "12            800000                     2            0.8                0   \n",
       "13            800000                     2            0.9                0   \n",
       "14            800000                     2            1.0                0   \n",
       "\n",
       "    F_high_threshold  short_after  exit_target  exit_stop_margin  start_money  \\\n",
       "0                  9            0           10               0.1        10000   \n",
       "1                  9            0           10               0.5        10000   \n",
       "2                  9            0           10               1.0        10000   \n",
       "3                  9            0           10               5.0        10000   \n",
       "4                  9            0           10              10.0        10000   \n",
       "5                  9            0           10               0.1        10000   \n",
       "6                  9            0           10               0.1        10000   \n",
       "7                  9            0           10               0.1        10000   \n",
       "8                  9            0           10               0.1        10000   \n",
       "9                  9            0           10               0.1        10000   \n",
       "10                 9            0           10               0.1        10000   \n",
       "11                 9            0           10               0.1        10000   \n",
       "12                 9            0           10               0.1        10000   \n",
       "13                 9            0           10               0.1        10000   \n",
       "14                 9            0           10               0.1        10000   \n",
       "\n",
       "    allocation  locate_fee  commission      end_money     profit  \\\n",
       "0          0.1        0.02           2   67842.556193   5.784256   \n",
       "1          0.1        0.02           2  248579.006449  23.857901   \n",
       "2          0.1        0.02           2  304359.680621  29.435968   \n",
       "3          0.1        0.02           2  143895.343350  13.389534   \n",
       "4          0.1        0.02           2  -54046.885192  -6.404689   \n",
       "5          0.1        0.02           2  102229.749920   9.222975   \n",
       "6          0.1        0.02           2   91040.894130   8.104089   \n",
       "7          0.1        0.02           2   67842.556193   5.784256   \n",
       "8          0.1        0.02           2   49035.660099   3.903566   \n",
       "9          0.1        0.02           2   51055.056802   4.105506   \n",
       "10         0.1        0.02           2   42727.241735   3.272724   \n",
       "11         0.1        0.02           2   34905.710877   2.490571   \n",
       "12         0.1        0.02           2   32478.276379   2.247828   \n",
       "13         0.1        0.02           2   27739.491917   1.773949   \n",
       "14         0.1        0.02           2   19366.290566   0.936629   \n",
       "\n",
       "    max_drawdown  meanmax_drawdown  maxmax_drawdown  minmax_drawdown  \\\n",
       "0       0.189162          0.208551         0.304098         0.137466   \n",
       "1       0.180495          0.241930         0.372179         0.157552   \n",
       "2       0.202586          0.268190         0.435304         0.202586   \n",
       "3       0.585731          0.623992         0.745589         0.585069   \n",
       "4       1.497265          2.437310         6.332448         1.169415   \n",
       "5       0.264476          0.234514         0.338627         0.161647   \n",
       "6       0.154780          0.213266         0.373156         0.144808   \n",
       "7       0.189162          0.218952         0.357376         0.133132   \n",
       "8       0.226156          0.223113         0.389321         0.130322   \n",
       "9       0.203976          0.174602         0.294664         0.118082   \n",
       "10      0.205006          0.182113         0.345767         0.121262   \n",
       "11      0.236405          0.170039         0.253505         0.102282   \n",
       "12      0.184430          0.162905         0.276158         0.100886   \n",
       "13      0.156524          0.160740         0.307698         0.101336   \n",
       "14      0.180290          0.179475         0.271668         0.099420   \n",
       "\n",
       "    n_trades  n_filtered_ativo_days  \n",
       "0        425                    425  \n",
       "1        425                    425  \n",
       "2        425                    425  \n",
       "3        425                    425  \n",
       "4        425                    425  \n",
       "5        813                    813  \n",
       "6        565                    565  \n",
       "7        425                    425  \n",
       "8        344                    344  \n",
       "9        283                    283  \n",
       "10       233                    233  \n",
       "11       193                    193  \n",
       "12       163                    163  \n",
       "13       134                    134  \n",
       "14       116                    116  "
      ]
     },
     "execution_count": 21,
     "metadata": {},
     "output_type": "execute_result"
    }
   ],
   "source": [
    "sg.groupResults"
   ]
  },
  {
   "cell_type": "code",
   "execution_count": 22,
   "metadata": {},
   "outputs": [],
   "source": [
    "#sg.groupResults.to_excel(\"resultados_otimizacao_SHP_01.xlsx\")\n",
    "sg.exportGroupResultsExcel(\"resultados_otimizacao_SHP_02.xlsx\")"
   ]
  },
  {
   "cell_type": "markdown",
   "metadata": {},
   "source": [
    "##### Descrição simulações já rodadas"
   ]
  },
  {
   "cell_type": "raw",
   "metadata": {},
   "source": []
  },
  {
   "cell_type": "markdown",
   "metadata": {},
   "source": [
    "##### Testes temporários em geral. Desconsiderar essa parte do notebook."
   ]
  },
  {
   "cell_type": "code",
   "execution_count": null,
   "metadata": {},
   "outputs": [],
   "source": [
    "import datetime"
   ]
  },
  {
   "cell_type": "code",
   "execution_count": null,
   "metadata": {},
   "outputs": [],
   "source": [
    "intra = Ativo.initIntradayFromDate('ABUS',fm['ABUS'],datetime.date(2020, 7, 24), sg)"
   ]
  },
  {
   "cell_type": "code",
   "execution_count": null,
   "metadata": {},
   "outputs": [],
   "source": [
    "%%time\n",
    "day = Ativo('ABUS', fm['ABUS'], sg)"
   ]
  },
  {
   "cell_type": "code",
   "execution_count": null,
   "metadata": {},
   "outputs": [],
   "source": [
    "#day.data\n",
    "day.data[0]"
   ]
  },
  {
   "cell_type": "code",
   "execution_count": null,
   "metadata": {},
   "outputs": [],
   "source": [
    "intra"
   ]
  },
  {
   "cell_type": "code",
   "execution_count": null,
   "metadata": {},
   "outputs": [],
   "source": [
    "x = Ativo.openIntraDataWithDB('ABUS',datetime.date(2020, 7, 24))"
   ]
  },
  {
   "cell_type": "code",
   "execution_count": null,
   "metadata": {},
   "outputs": [],
   "source": [
    "x[0]['time'].date()"
   ]
  },
  {
   "cell_type": "code",
   "execution_count": null,
   "metadata": {},
   "outputs": [],
   "source": [
    "intra"
   ]
  },
  {
   "cell_type": "code",
   "execution_count": null,
   "metadata": {},
   "outputs": [],
   "source": [
    "len(names_pennystocks)"
   ]
  },
  {
   "cell_type": "code",
   "execution_count": null,
   "metadata": {},
   "outputs": [],
   "source": [
    "len(names_free_float)"
   ]
  },
  {
   "cell_type": "code",
   "execution_count": null,
   "metadata": {},
   "outputs": [],
   "source": [
    "names = list(set(names_pennystocks) & set(names_free_float))"
   ]
  },
  {
   "cell_type": "code",
   "execution_count": null,
   "metadata": {},
   "outputs": [],
   "source": [
    "len(names)"
   ]
  },
  {
   "cell_type": "code",
   "execution_count": null,
   "metadata": {},
   "outputs": [],
   "source": [
    "intra = Ativo.initIntradayFromDate('AIM',fm,datetime.date(2020, 2, 28), sg)"
   ]
  },
  {
   "cell_type": "code",
   "execution_count": null,
   "metadata": {},
   "outputs": [],
   "source": [
    "pars"
   ]
  },
  {
   "cell_type": "markdown",
   "metadata": {},
   "source": [
    "#### Desenvolvimento função de repport"
   ]
  },
  {
   "cell_type": "code",
   "execution_count": null,
   "metadata": {},
   "outputs": [],
   "source": [
    "tdf = sg.tradesdf"
   ]
  },
  {
   "cell_type": "code",
   "execution_count": 25,
   "metadata": {},
   "outputs": [
    {
     "data": {
      "text/html": [
       "<div>\n",
       "<style scoped>\n",
       "    .dataframe tbody tr th:only-of-type {\n",
       "        vertical-align: middle;\n",
       "    }\n",
       "\n",
       "    .dataframe tbody tr th {\n",
       "        vertical-align: top;\n",
       "    }\n",
       "\n",
       "    .dataframe thead th {\n",
       "        text-align: right;\n",
       "    }\n",
       "</style>\n",
       "<table border=\"1\" class=\"dataframe\">\n",
       "  <thead>\n",
       "    <tr style=\"text-align: right;\">\n",
       "      <th></th>\n",
       "      <th>name</th>\n",
       "      <th>date</th>\n",
       "      <th>has_trade</th>\n",
       "      <th>has_eod_exit</th>\n",
       "      <th>entry_time</th>\n",
       "      <th>minutes_to_trade</th>\n",
       "      <th>price</th>\n",
       "      <th>stop</th>\n",
       "      <th>target</th>\n",
       "      <th>exit_time</th>\n",
       "      <th>minutes_in_trade</th>\n",
       "      <th>profit</th>\n",
       "      <th>equity_real</th>\n",
       "      <th>profit_real</th>\n",
       "      <th>cum_profit_real</th>\n",
       "    </tr>\n",
       "  </thead>\n",
       "  <tbody>\n",
       "    <tr>\n",
       "      <th>0</th>\n",
       "      <td>CODX</td>\n",
       "      <td>2019-01-30</td>\n",
       "      <td>1.0</td>\n",
       "      <td>0.0</td>\n",
       "      <td>09:31</td>\n",
       "      <td>0.0</td>\n",
       "      <td>3.24</td>\n",
       "      <td>3.71800</td>\n",
       "      <td>0.0</td>\n",
       "      <td>09:48</td>\n",
       "      <td>17.0</td>\n",
       "      <td>-0.147531</td>\n",
       "      <td>9830.469136</td>\n",
       "      <td>-0.016953</td>\n",
       "      <td>0.983047</td>\n",
       "    </tr>\n",
       "    <tr>\n",
       "      <th>1</th>\n",
       "      <td>AMRS</td>\n",
       "      <td>2019-02-05</td>\n",
       "      <td>1.0</td>\n",
       "      <td>1.0</td>\n",
       "      <td>09:31</td>\n",
       "      <td>0.0</td>\n",
       "      <td>4.35</td>\n",
       "      <td>6.03889</td>\n",
       "      <td>0.0</td>\n",
       "      <td>16:00</td>\n",
       "      <td>389.0</td>\n",
       "      <td>-0.255172</td>\n",
       "      <td>9557.961744</td>\n",
       "      <td>-0.027721</td>\n",
       "      <td>0.955796</td>\n",
       "    </tr>\n",
       "    <tr>\n",
       "      <th>2</th>\n",
       "      <td>SOLO</td>\n",
       "      <td>2019-02-14</td>\n",
       "      <td>1.0</td>\n",
       "      <td>1.0</td>\n",
       "      <td>09:31</td>\n",
       "      <td>0.0</td>\n",
       "      <td>5.67</td>\n",
       "      <td>7.31500</td>\n",
       "      <td>0.0</td>\n",
       "      <td>16:00</td>\n",
       "      <td>389.0</td>\n",
       "      <td>0.137566</td>\n",
       "      <td>9668.331008</td>\n",
       "      <td>0.011547</td>\n",
       "      <td>0.966833</td>\n",
       "    </tr>\n",
       "    <tr>\n",
       "      <th>3</th>\n",
       "      <td>RKDA</td>\n",
       "      <td>2019-02-28</td>\n",
       "      <td>1.0</td>\n",
       "      <td>1.0</td>\n",
       "      <td>09:31</td>\n",
       "      <td>0.0</td>\n",
       "      <td>8.11</td>\n",
       "      <td>10.67000</td>\n",
       "      <td>0.0</td>\n",
       "      <td>16:00</td>\n",
       "      <td>389.0</td>\n",
       "      <td>0.007386</td>\n",
       "      <td>9654.135321</td>\n",
       "      <td>-0.001468</td>\n",
       "      <td>0.965414</td>\n",
       "    </tr>\n",
       "    <tr>\n",
       "      <th>4</th>\n",
       "      <td>BPTH</td>\n",
       "      <td>2019-03-06</td>\n",
       "      <td>1.0</td>\n",
       "      <td>0.0</td>\n",
       "      <td>09:31</td>\n",
       "      <td>0.0</td>\n",
       "      <td>7.45</td>\n",
       "      <td>8.22800</td>\n",
       "      <td>0.0</td>\n",
       "      <td>10:14</td>\n",
       "      <td>43.0</td>\n",
       "      <td>-0.104430</td>\n",
       "      <td>9532.009368</td>\n",
       "      <td>-0.012650</td>\n",
       "      <td>0.953201</td>\n",
       "    </tr>\n",
       "    <tr>\n",
       "      <th>...</th>\n",
       "      <td>...</td>\n",
       "      <td>...</td>\n",
       "      <td>...</td>\n",
       "      <td>...</td>\n",
       "      <td>...</td>\n",
       "      <td>...</td>\n",
       "      <td>...</td>\n",
       "      <td>...</td>\n",
       "      <td>...</td>\n",
       "      <td>...</td>\n",
       "      <td>...</td>\n",
       "      <td>...</td>\n",
       "      <td>...</td>\n",
       "      <td>...</td>\n",
       "      <td>...</td>\n",
       "    </tr>\n",
       "    <tr>\n",
       "      <th>420</th>\n",
       "      <td>TATT</td>\n",
       "      <td>2021-01-06</td>\n",
       "      <td>1.0</td>\n",
       "      <td>1.0</td>\n",
       "      <td>09:31</td>\n",
       "      <td>0.0</td>\n",
       "      <td>7.62</td>\n",
       "      <td>8.62400</td>\n",
       "      <td>0.0</td>\n",
       "      <td>16:00</td>\n",
       "      <td>389.0</td>\n",
       "      <td>0.137795</td>\n",
       "      <td>72142.034687</td>\n",
       "      <td>0.011751</td>\n",
       "      <td>7.214203</td>\n",
       "    </tr>\n",
       "    <tr>\n",
       "      <th>421</th>\n",
       "      <td>NCTY</td>\n",
       "      <td>2021-01-07</td>\n",
       "      <td>1.0</td>\n",
       "      <td>0.0</td>\n",
       "      <td>09:31</td>\n",
       "      <td>0.0</td>\n",
       "      <td>21.70</td>\n",
       "      <td>26.11400</td>\n",
       "      <td>0.0</td>\n",
       "      <td>09:46</td>\n",
       "      <td>15.0</td>\n",
       "      <td>-0.203410</td>\n",
       "      <td>70528.308492</td>\n",
       "      <td>-0.022369</td>\n",
       "      <td>7.052831</td>\n",
       "    </tr>\n",
       "    <tr>\n",
       "      <th>422</th>\n",
       "      <td>CBAT</td>\n",
       "      <td>2021-01-07</td>\n",
       "      <td>1.0</td>\n",
       "      <td>1.0</td>\n",
       "      <td>09:31</td>\n",
       "      <td>0.0</td>\n",
       "      <td>8.77</td>\n",
       "      <td>10.28500</td>\n",
       "      <td>0.0</td>\n",
       "      <td>16:00</td>\n",
       "      <td>389.0</td>\n",
       "      <td>0.120867</td>\n",
       "      <td>71237.703495</td>\n",
       "      <td>0.010058</td>\n",
       "      <td>7.123770</td>\n",
       "    </tr>\n",
       "    <tr>\n",
       "      <th>423</th>\n",
       "      <td>GRNQ</td>\n",
       "      <td>2021-01-08</td>\n",
       "      <td>1.0</td>\n",
       "      <td>0.0</td>\n",
       "      <td>09:31</td>\n",
       "      <td>0.0</td>\n",
       "      <td>3.01</td>\n",
       "      <td>3.60800</td>\n",
       "      <td>0.0</td>\n",
       "      <td>10:05</td>\n",
       "      <td>34.0</td>\n",
       "      <td>-0.198671</td>\n",
       "      <td>69677.940822</td>\n",
       "      <td>-0.021895</td>\n",
       "      <td>6.967794</td>\n",
       "    </tr>\n",
       "    <tr>\n",
       "      <th>424</th>\n",
       "      <td>CNET</td>\n",
       "      <td>2021-01-08</td>\n",
       "      <td>1.0</td>\n",
       "      <td>0.0</td>\n",
       "      <td>09:31</td>\n",
       "      <td>0.0</td>\n",
       "      <td>2.69</td>\n",
       "      <td>3.34400</td>\n",
       "      <td>0.0</td>\n",
       "      <td>09:41</td>\n",
       "      <td>10.0</td>\n",
       "      <td>-0.243123</td>\n",
       "      <td>67842.556193</td>\n",
       "      <td>-0.026341</td>\n",
       "      <td>6.784256</td>\n",
       "    </tr>\n",
       "  </tbody>\n",
       "</table>\n",
       "<p>425 rows × 15 columns</p>\n",
       "</div>"
      ],
      "text/plain": [
       "     name       date  has_trade  has_eod_exit entry_time  minutes_to_trade  \\\n",
       "0    CODX 2019-01-30        1.0           0.0      09:31               0.0   \n",
       "1    AMRS 2019-02-05        1.0           1.0      09:31               0.0   \n",
       "2    SOLO 2019-02-14        1.0           1.0      09:31               0.0   \n",
       "3    RKDA 2019-02-28        1.0           1.0      09:31               0.0   \n",
       "4    BPTH 2019-03-06        1.0           0.0      09:31               0.0   \n",
       "..    ...        ...        ...           ...        ...               ...   \n",
       "420  TATT 2021-01-06        1.0           1.0      09:31               0.0   \n",
       "421  NCTY 2021-01-07        1.0           0.0      09:31               0.0   \n",
       "422  CBAT 2021-01-07        1.0           1.0      09:31               0.0   \n",
       "423  GRNQ 2021-01-08        1.0           0.0      09:31               0.0   \n",
       "424  CNET 2021-01-08        1.0           0.0      09:31               0.0   \n",
       "\n",
       "     price      stop  target exit_time  minutes_in_trade    profit  \\\n",
       "0     3.24   3.71800     0.0     09:48              17.0 -0.147531   \n",
       "1     4.35   6.03889     0.0     16:00             389.0 -0.255172   \n",
       "2     5.67   7.31500     0.0     16:00             389.0  0.137566   \n",
       "3     8.11  10.67000     0.0     16:00             389.0  0.007386   \n",
       "4     7.45   8.22800     0.0     10:14              43.0 -0.104430   \n",
       "..     ...       ...     ...       ...               ...       ...   \n",
       "420   7.62   8.62400     0.0     16:00             389.0  0.137795   \n",
       "421  21.70  26.11400     0.0     09:46              15.0 -0.203410   \n",
       "422   8.77  10.28500     0.0     16:00             389.0  0.120867   \n",
       "423   3.01   3.60800     0.0     10:05              34.0 -0.198671   \n",
       "424   2.69   3.34400     0.0     09:41              10.0 -0.243123   \n",
       "\n",
       "      equity_real  profit_real  cum_profit_real  \n",
       "0     9830.469136    -0.016953         0.983047  \n",
       "1     9557.961744    -0.027721         0.955796  \n",
       "2     9668.331008     0.011547         0.966833  \n",
       "3     9654.135321    -0.001468         0.965414  \n",
       "4     9532.009368    -0.012650         0.953201  \n",
       "..            ...          ...              ...  \n",
       "420  72142.034687     0.011751         7.214203  \n",
       "421  70528.308492    -0.022369         7.052831  \n",
       "422  71237.703495     0.010058         7.123770  \n",
       "423  69677.940822    -0.021895         6.967794  \n",
       "424  67842.556193    -0.026341         6.784256  \n",
       "\n",
       "[425 rows x 15 columns]"
      ]
     },
     "execution_count": 25,
     "metadata": {},
     "output_type": "execute_result"
    }
   ],
   "source": [
    "tdf"
   ]
  },
  {
   "cell_type": "code",
   "execution_count": 28,
   "metadata": {},
   "outputs": [],
   "source": [
    "s = tdf['profit']"
   ]
  },
  {
   "cell_type": "code",
   "execution_count": 35,
   "metadata": {},
   "outputs": [],
   "source": [
    "import importlib"
   ]
  },
  {
   "cell_type": "code",
   "execution_count": 40,
   "metadata": {},
   "outputs": [],
   "source": [
    "import pynnystock.indicators.trades.RepportIndicators as ri"
   ]
  },
  {
   "cell_type": "code",
   "execution_count": 65,
   "metadata": {},
   "outputs": [
    {
     "data": {
      "text/plain": [
       "<module 'pynnystock.indicators.trades.RepportIndicators' from 'C:\\\\Projetos\\\\python\\\\Pennystock_Analyzer\\\\pynnystock\\\\indicators\\\\trades\\\\RepportIndicators.py'>"
      ]
     },
     "execution_count": 65,
     "metadata": {},
     "output_type": "execute_result"
    }
   ],
   "source": [
    "importlib.reload(ri)"
   ]
  },
  {
   "cell_type": "code",
   "execution_count": 66,
   "metadata": {
    "scrolled": true
   },
   "outputs": [
    {
     "data": {
      "text/plain": [
       "0        9852.469136\n",
       "1        9601.061303\n",
       "2        9733.139395\n",
       "3        9740.328236\n",
       "4        9638.610446\n",
       "           ...      \n",
       "420    173390.815406\n",
       "421    169863.870433\n",
       "422    171916.957122\n",
       "423    168501.464087\n",
       "424    164404.811392\n",
       "Name: profit, Length: 425, dtype: float64"
      ]
     },
     "execution_count": 66,
     "metadata": {},
     "output_type": "execute_result"
    }
   ],
   "source": [
    "ri.equityCurve(10000,s,0.1)"
   ]
  },
  {
   "cell_type": "code",
   "execution_count": 31,
   "metadata": {},
   "outputs": [
    {
     "data": {
      "text/plain": [
       "2      0.137566\n",
       "3      0.007386\n",
       "7      0.459677\n",
       "8      0.325301\n",
       "12     0.168722\n",
       "         ...   \n",
       "417    0.205069\n",
       "418    0.281250\n",
       "419    0.013311\n",
       "420    0.137795\n",
       "422    0.120867\n",
       "Name: profit, Length: 288, dtype: float64"
      ]
     },
     "execution_count": 31,
     "metadata": {},
     "output_type": "execute_result"
    }
   ],
   "source": [
    "s[s>0]"
   ]
  },
  {
   "cell_type": "code",
   "execution_count": 46,
   "metadata": {},
   "outputs": [
    {
     "data": {
      "text/plain": [
       "0"
      ]
     },
     "execution_count": 46,
     "metadata": {},
     "output_type": "execute_result"
    }
   ],
   "source": [
    "s.index.start"
   ]
  },
  {
   "cell_type": "code",
   "execution_count": 47,
   "metadata": {},
   "outputs": [
    {
     "data": {
      "text/plain": [
       "0.13756613756613761"
      ]
     },
     "execution_count": 47,
     "metadata": {},
     "output_type": "execute_result"
    }
   ],
   "source": [
    "s.at[2]"
   ]
  },
  {
   "cell_type": "code",
   "execution_count": 64,
   "metadata": {},
   "outputs": [
    {
     "data": {
      "text/plain": [
       "numpy.float64"
      ]
     },
     "execution_count": 64,
     "metadata": {},
     "output_type": "execute_result"
    }
   ],
   "source": [
    "type(s.at[1])"
   ]
  },
  {
   "cell_type": "code",
   "execution_count": null,
   "metadata": {},
   "outputs": [],
   "source": []
  }
 ],
 "metadata": {
  "kernelspec": {
   "display_name": "Python 3",
   "language": "python",
   "name": "python3"
  },
  "language_info": {
   "codemirror_mode": {
    "name": "ipython",
    "version": 3
   },
   "file_extension": ".py",
   "mimetype": "text/x-python",
   "name": "python",
   "nbconvert_exporter": "python",
   "pygments_lexer": "ipython3",
   "version": "3.7.1"
  }
 },
 "nbformat": 4,
 "nbformat_minor": 2
}
