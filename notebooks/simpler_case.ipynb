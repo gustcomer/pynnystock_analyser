{
 "cells": [
  {
   "cell_type": "code",
   "execution_count": 1,
   "metadata": {},
   "outputs": [],
   "source": [
    "import os\n",
    "os.chdir('../')\n",
    "# esse comando é melhor do que sys.path.insert(0, '../') pois permite interagir com arquivos do diretorio acima"
   ]
  },
  {
   "cell_type": "code",
   "execution_count": 2,
   "metadata": {},
   "outputs": [],
   "source": [
    "import pickle\n",
    "import pandas as pd\n",
    "import numpy as np\n",
    "import datetime\n",
    "from matplotlib import pyplot as plt\n",
    "import seaborn as sns\n",
    "pd.set_option('display.max_rows', 167) # opcional, questão de visualização para debugar caso 1"
   ]
  },
  {
   "cell_type": "code",
   "execution_count": 3,
   "metadata": {},
   "outputs": [],
   "source": [
    "from pynnystock.FileManager import FileManager\n",
    "from pynnystock.Ativo import Ativo\n",
    "from pynnystock.Parameters import Parameters\n",
    "from pynnystock.StatsGatherer import StatsGatherer\n",
    "from pynnystock.StratsMaestro import StratsMaestro\n",
    "from pynnystock.Simulator import Simulator\n",
    "from pynnystock.BootstrapSimulator import BootstrapSimulator\n",
    "from pynnystock.OptimizerSimulator import OptimizerSimulator"
   ]
  },
  {
   "cell_type": "code",
   "execution_count": 4,
   "metadata": {},
   "outputs": [],
   "source": [
    "fm = FileManager()"
   ]
  },
  {
   "cell_type": "code",
   "execution_count": 5,
   "metadata": {},
   "outputs": [],
   "source": [
    "pars = Parameters()"
   ]
  },
  {
   "cell_type": "code",
   "execution_count": 6,
   "metadata": {},
   "outputs": [],
   "source": [
    "sg = StatsGatherer(pars)"
   ]
  },
  {
   "cell_type": "markdown",
   "metadata": {},
   "source": [
    "##### Na primeira vez precisa gerar o pickle de ativo_dia_list.pkl\n",
    "##### Somente executar esse código se o pickle ativo_dia_list.pkl não tiver sido gerado"
   ]
  },
  {
   "cell_type": "code",
   "execution_count": 7,
   "metadata": {},
   "outputs": [],
   "source": [
    "# abre arquivo com freefloats\n",
    "names_pennystocks = fm.getNames()\n",
    "names_free_float = fm.getFreeFloatNames()\n",
    "names = list(set(names_pennystocks) & set(names_free_float))\n",
    "names.sort()"
   ]
  },
  {
   "cell_type": "code",
   "execution_count": null,
   "metadata": {
    "scrolled": false
   },
   "outputs": [],
   "source": [
    "# gera ativo_dia_list (adl), que é uma lista com resumo dos dias que vai nos auxiliar a filtrar os dias de interesse\n",
    "# também vai auxiliar na análise de ativos-dia\n",
    "adl = []\n",
    "for n in names[0:10]:\n",
    "#for n in names:\n",
    "    print(n)\n",
    "    try:\n",
    "        a = Ativo(n, fm[n], sg)\n",
    "        for intraday in a.intraDays:\n",
    "            d = {'name': a.name,\n",
    "                 'date': intraday.date,\n",
    "                 'freefloat': fm.getFreeFloat(n),\n",
    "                 'stats': intraday.stats}\n",
    "            adl.append( d )\n",
    "    except IndexError:\n",
    "        print(\"Ativo sem nenhum dado ou dado inconsistente\")"
   ]
  },
  {
   "cell_type": "code",
   "execution_count": null,
   "metadata": {},
   "outputs": [],
   "source": [
    "with open('AtivoDiaList.pkl', 'wb') as filehandle: # w de write e b de binary\n",
    "    pickle.dump(adl,filehandle)"
   ]
  },
  {
   "cell_type": "markdown",
   "metadata": {},
   "source": [
    "##### Com o pickle ativo_dia_list.pkl gerado, prosseguir daqui"
   ]
  },
  {
   "cell_type": "code",
   "execution_count": null,
   "metadata": {},
   "outputs": [],
   "source": [
    "with open('AtivoDiaList.pkl', 'rb') as filehandle:\n",
    "    ativo_dia_list = pickle.load(filehandle)"
   ]
  },
  {
   "cell_type": "code",
   "execution_count": null,
   "metadata": {},
   "outputs": [],
   "source": [
    "sm = StratsMaestro(pars)"
   ]
  },
  {
   "cell_type": "code",
   "execution_count": null,
   "metadata": {},
   "outputs": [],
   "source": [
    "sim = Simulator(fm,ativo_dia_list,pars,sm,sg)"
   ]
  },
  {
   "cell_type": "code",
   "execution_count": null,
   "metadata": {},
   "outputs": [],
   "source": [
    "bss = BootstrapSimulator(sg)"
   ]
  },
  {
   "cell_type": "code",
   "execution_count": null,
   "metadata": {},
   "outputs": [],
   "source": [
    "os = OptimizerSimulator(sim, bss, sg)"
   ]
  },
  {
   "cell_type": "code",
   "execution_count": null,
   "metadata": {},
   "outputs": [],
   "source": [
    "# pars.setFilterParameters(gap_threshold=0.1, F_high_threshold=9)\n",
    "pars.setFilterParameters(prevol_threshold=15000000)\n",
    "sim.runFiltering()"
   ]
  },
  {
   "cell_type": "code",
   "execution_count": null,
   "metadata": {},
   "outputs": [],
   "source": [
    "# pars.setSimParameters(start_money = 10000,allocation=0.1)\n",
    "# pars.setAlgoParameters(short_after=0, exit_target=0.4, exit_stop=0.4)\n",
    "# pars.setAlgoParameters(short_after=0.2)\n",
    "\n",
    "sim.runSimulation()\n",
    "\n",
    "#sim.saveTrades('case1_trades.pkl')\n",
    "# sim.openTrades('case1_trades.pkl')"
   ]
  },
  {
   "cell_type": "code",
   "execution_count": null,
   "metadata": {},
   "outputs": [],
   "source": [
    "dfd = sg.filtereddf # DataFrame of filtered ativo-dias\n",
    "dft = sg.tradesdf # DataFrame of trades\n",
    "dfes = sg.extrastatsdf # DataFrame of extra statistics"
   ]
  },
  {
   "cell_type": "code",
   "execution_count": null,
   "metadata": {},
   "outputs": [],
   "source": [
    "dfd"
   ]
  },
  {
   "cell_type": "markdown",
   "metadata": {},
   "source": [
    "##### Algumas análises da simulação"
   ]
  },
  {
   "cell_type": "code",
   "execution_count": null,
   "metadata": {},
   "outputs": [],
   "source": [
    "sg.printSimResults()"
   ]
  },
  {
   "cell_type": "code",
   "execution_count": null,
   "metadata": {
    "scrolled": true
   },
   "outputs": [],
   "source": [
    "sg.plotHistMinsToTrade()"
   ]
  },
  {
   "cell_type": "code",
   "execution_count": null,
   "metadata": {},
   "outputs": [],
   "source": [
    "sg.plotEquityCurve()"
   ]
  },
  {
   "cell_type": "markdown",
   "metadata": {},
   "source": [
    "##### Análise de algumas estratificações"
   ]
  },
  {
   "cell_type": "code",
   "execution_count": null,
   "metadata": {},
   "outputs": [],
   "source": [
    "dftr = pd.merge(dft,dfd,how='inner',on=['name','date'])\n",
    "dftr = dftr[['name','date','gap','factorF','profit','cum_profit']]\n",
    "dftr"
   ]
  },
  {
   "cell_type": "code",
   "execution_count": null,
   "metadata": {},
   "outputs": [],
   "source": [
    "bins = [0.2, 0.3, 0.4, 0.5, 0.6, 0.7, 0.8, 0.9, 1, 1.1, 1.2]\n",
    "gap = np.clip( dftr['gap'], bins[0], bins[-1] )\n",
    "dftr.groupby(pd.cut(gap, bins)).agg(\n",
    "    winrate=pd.NamedAgg(column='profit',aggfunc=lambda x: sum(x>=0)/(sum(x>=0) + sum(x<0)) ),\n",
    "    lossrate=pd.NamedAgg(column='profit',aggfunc=lambda x: sum(x<0)/(sum(x>=0) + sum(x<0)) ),\n",
    "    mean=pd.NamedAgg(column='profit',aggfunc=lambda x: x.mean()),\n",
    "    mean_of_pos=pd.NamedAgg(column='profit',aggfunc=lambda x: x[x>=0].mean()),\n",
    "    mean_of_neg=pd.NamedAgg(column='profit',aggfunc=lambda x: x[x<0].mean()),\n",
    "    count=pd.NamedAgg(column='profit',aggfunc='count'),\n",
    "    positives=pd.NamedAgg(column='profit',aggfunc=lambda x: sum(x>=0) ),\n",
    "    negatives=pd.NamedAgg(column='profit',aggfunc=lambda x: sum(x<0) )\n",
    ")"
   ]
  },
  {
   "cell_type": "code",
   "execution_count": null,
   "metadata": {
    "scrolled": true
   },
   "outputs": [],
   "source": [
    "dftr.groupby(dftr['date'].dt.to_period('M')).agg(\n",
    "    winrate=pd.NamedAgg(column='profit',aggfunc=lambda x: sum(x>=0)/(sum(x>=0) + sum(x<0)) ),\n",
    "    lossrate=pd.NamedAgg(column='profit',aggfunc=lambda x: sum(x<0)/(sum(x>=0) + sum(x<0)) ),\n",
    "    mean=pd.NamedAgg(column='profit',aggfunc=lambda x: x.mean()),\n",
    "    mean_of_pos=pd.NamedAgg(column='profit',aggfunc=lambda x: x[x>=0].mean()),\n",
    "    mean_of_neg=pd.NamedAgg(column='profit',aggfunc=lambda x: x[x<0].mean()),\n",
    "    count=pd.NamedAgg(column='profit',aggfunc='count'),\n",
    "    positives=pd.NamedAgg(column='profit',aggfunc=lambda x: sum(x>=0) ),\n",
    "    negatives=pd.NamedAgg(column='profit',aggfunc=lambda x: sum(x<0) )\n",
    ")"
   ]
  },
  {
   "cell_type": "markdown",
   "metadata": {},
   "source": [
    "##### Analisando o Dataframe com extra statistics"
   ]
  },
  {
   "cell_type": "code",
   "execution_count": null,
   "metadata": {},
   "outputs": [],
   "source": [
    "# aqui podemos fazer alguma análise, basta fazer inner join de dfes com os outros dataframes dfd, dft\n",
    "dfes"
   ]
  },
  {
   "cell_type": "markdown",
   "metadata": {},
   "source": [
    "##### Rodando Bootstrap"
   ]
  },
  {
   "cell_type": "code",
   "execution_count": null,
   "metadata": {},
   "outputs": [],
   "source": [
    "bss.runBootstrap()"
   ]
  },
  {
   "cell_type": "code",
   "execution_count": null,
   "metadata": {},
   "outputs": [],
   "source": [
    "sg.printBootstrapResults()"
   ]
  },
  {
   "cell_type": "markdown",
   "metadata": {},
   "source": [
    "##### Códigos para rodar combinações de parâmetros e otimizar."
   ]
  },
  {
   "cell_type": "code",
   "execution_count": null,
   "metadata": {},
   "outputs": [],
   "source": [
    "# oficial que gostaríamos de explorar\n",
    "os.runSimulationGroup(\n",
    "    prevol_threshold = [800000],\n",
    "    exit_target=[0.1, 0.2, 0.3, 0.4], \n",
    "    exit_stop=[0.1, 0.2, 0.3, 0.4], \n",
    "    short_after=[0, 0.1, 0.2, 0.3],\n",
    "    gap_threshold=[0, 0.1, 0.2],\n",
    "    F_high_threshold = [1,2,3,4,5]\n",
    ")"
   ]
  },
  {
   "cell_type": "code",
   "execution_count": null,
   "metadata": {
    "scrolled": true
   },
   "outputs": [],
   "source": [
    "# rodar para debugar\n",
    "os.runSimulationGroup(\n",
    "    prevol_threshold = [15000000],\n",
    "    exit_target=[0.2, 0.3], \n",
    "    exit_stop=[0.3], \n",
    "    short_after=[0, 0.1],\n",
    "    gap_threshold=[0.1],\n",
    "    F_high_threshold = [1]\n",
    ")"
   ]
  },
  {
   "cell_type": "code",
   "execution_count": null,
   "metadata": {},
   "outputs": [],
   "source": [
    "# sg.saveGroupResults('teste1.pkl')\n",
    "sg.appendGroupResults('teste1.pkl')\n",
    "# sg.openGroupResults('teste1.pkl')"
   ]
  },
  {
   "cell_type": "code",
   "execution_count": null,
   "metadata": {},
   "outputs": [],
   "source": [
    "sg.groupResults"
   ]
  },
  {
   "cell_type": "markdown",
   "metadata": {},
   "source": [
    "##### Descrição simulações já rodadas"
   ]
  },
  {
   "cell_type": "raw",
   "metadata": {},
   "source": []
  },
  {
   "cell_type": "markdown",
   "metadata": {},
   "source": [
    "##### Testes temporários em geral. Desconsiderar essa parte do notebook."
   ]
  },
  {
   "cell_type": "code",
   "execution_count": null,
   "metadata": {},
   "outputs": [],
   "source": [
    "sim.fad[0]['stats']['highCoreTime']"
   ]
  },
  {
   "cell_type": "code",
   "execution_count": null,
   "metadata": {},
   "outputs": [],
   "source": []
  },
  {
   "cell_type": "code",
   "execution_count": null,
   "metadata": {},
   "outputs": [],
   "source": []
  },
  {
   "cell_type": "code",
   "execution_count": null,
   "metadata": {},
   "outputs": [],
   "source": [
    "import datetime"
   ]
  },
  {
   "cell_type": "code",
   "execution_count": null,
   "metadata": {},
   "outputs": [],
   "source": [
    "t2 = sim.fad[0]['stats']['highCoreTime']"
   ]
  },
  {
   "cell_type": "code",
   "execution_count": null,
   "metadata": {},
   "outputs": [],
   "source": [
    "t1 = datetime.time(9,31)"
   ]
  },
  {
   "cell_type": "code",
   "execution_count": null,
   "metadata": {},
   "outputs": [],
   "source": [
    "datetime.datetime.combine(date.today(),t1)"
   ]
  },
  {
   "cell_type": "code",
   "execution_count": null,
   "metadata": {},
   "outputs": [],
   "source": [
    "datetime.combine(date.today(),t2)"
   ]
  },
  {
   "cell_type": "code",
   "execution_count": null,
   "metadata": {},
   "outputs": [],
   "source": [
    "sim.fad"
   ]
  },
  {
   "cell_type": "code",
   "execution_count": null,
   "metadata": {},
   "outputs": [],
   "source": [
    "datetime.date(2020, 7, 24)"
   ]
  },
  {
   "cell_type": "code",
   "execution_count": null,
   "metadata": {},
   "outputs": [],
   "source": [
    "sg"
   ]
  },
  {
   "cell_type": "code",
   "execution_count": null,
   "metadata": {},
   "outputs": [],
   "source": [
    "intra = Ativo.initIntradayFromDate('ABUS',fm['ABUS'],datetime.date(2020, 7, 24), sg)"
   ]
  },
  {
   "cell_type": "code",
   "execution_count": null,
   "metadata": {},
   "outputs": [],
   "source": [
    "intra._core[0]"
   ]
  },
  {
   "cell_type": "code",
   "execution_count": null,
   "metadata": {},
   "outputs": [],
   "source": [
    "intra._core[0]['time'].time()"
   ]
  },
  {
   "cell_type": "code",
   "execution_count": null,
   "metadata": {},
   "outputs": [],
   "source": [
    "# como vamos calcular average price?\n",
    "# vi em algum lugar sugestão de (open+high+close)/3\n",
    "bar = intra._core[2]"
   ]
  },
  {
   "cell_type": "code",
   "execution_count": null,
   "metadata": {},
   "outputs": [],
   "source": [
    "(bar['high']+bar['low']+bar['close'])/3"
   ]
  },
  {
   "cell_type": "code",
   "execution_count": null,
   "metadata": {},
   "outputs": [],
   "source": [
    "(bar['high']+bar['low']+bar['close'])/3"
   ]
  },
  {
   "cell_type": "code",
   "execution_count": null,
   "metadata": {},
   "outputs": [],
   "source": [
    "intra"
   ]
  },
  {
   "cell_type": "code",
   "execution_count": null,
   "metadata": {},
   "outputs": [],
   "source": [
    "from pynnystock.indicators.VWAP import VWAP"
   ]
  },
  {
   "cell_type": "code",
   "execution_count": null,
   "metadata": {},
   "outputs": [],
   "source": [
    "vwap = VWAP(intra)"
   ]
  },
  {
   "cell_type": "code",
   "execution_count": null,
   "metadata": {},
   "outputs": [],
   "source": [
    "print(vwap)"
   ]
  },
  {
   "cell_type": "code",
   "execution_count": null,
   "metadata": {},
   "outputs": [],
   "source": [
    "vwap.PQt"
   ]
  },
  {
   "cell_type": "code",
   "execution_count": null,
   "metadata": {},
   "outputs": [],
   "source": [
    "for b in intra._core:\n",
    "    vwap.getNextVWAP(b)\n",
    "    print(vwap)"
   ]
  },
  {
   "cell_type": "code",
   "execution_count": null,
   "metadata": {},
   "outputs": [],
   "source": []
  }
 ],
 "metadata": {
  "kernelspec": {
   "display_name": "Python 3",
   "language": "python",
   "name": "python3"
  },
  "language_info": {
   "codemirror_mode": {
    "name": "ipython",
    "version": 3
   },
   "file_extension": ".py",
   "mimetype": "text/x-python",
   "name": "python",
   "nbconvert_exporter": "python",
   "pygments_lexer": "ipython3",
   "version": "3.7.1"
  }
 },
 "nbformat": 4,
 "nbformat_minor": 2
}
