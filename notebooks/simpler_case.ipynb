{
 "cells": [
  {
   "cell_type": "code",
   "execution_count": 1,
   "metadata": {},
   "outputs": [],
   "source": [
    "import os\n",
    "os.chdir('../')\n",
    "# esse comando é melhor do que sys.path.insert(0, '../') pois permite interagir com arquivos do diretorio acima"
   ]
  },
  {
   "cell_type": "code",
   "execution_count": 2,
   "metadata": {},
   "outputs": [],
   "source": [
    "import pickle\n",
    "import pandas as pd\n",
    "import numpy as np\n",
    "import datetime\n",
    "from matplotlib import pyplot as plt\n",
    "import seaborn as sns\n",
    "pd.set_option('display.max_rows', 167) # opcional, questão de visualização para debugar caso 1"
   ]
  },
  {
   "cell_type": "code",
   "execution_count": 3,
   "metadata": {},
   "outputs": [],
   "source": [
    "from pynnystock.FileManager import FileManager\n",
    "from pynnystock.Ativo import Ativo\n",
    "from pynnystock.Parameters import Parameters\n",
    "from pynnystock.StatsGatherer import StatsGatherer\n",
    "from pynnystock.StratsMaestro import StratsMaestro\n",
    "from pynnystock.Simulator import Simulator\n",
    "from pynnystock.BootstrapSimulator import BootstrapSimulator\n",
    "from pynnystock.OptimizerSimulator import OptimizerSimulator"
   ]
  },
  {
   "cell_type": "code",
   "execution_count": 4,
   "metadata": {},
   "outputs": [],
   "source": [
    "fm = FileManager()"
   ]
  },
  {
   "cell_type": "markdown",
   "metadata": {},
   "source": [
    "##### Na primeira vez precisa gerar o pickle de ativo_dia_list.pkl\n",
    "##### Somente executar esse código se o pickle ativo_dia_list.pkl não tiver sido gerado"
   ]
  },
  {
   "cell_type": "code",
   "execution_count": null,
   "metadata": {},
   "outputs": [],
   "source": [
    "# abre arquivo com freefloats\n",
    "names_pennystocks = fm.getNames()\n",
    "names_free_float = fm.getFreeFloatNames()\n",
    "names = list(set(names_pennystocks) & set(names_free_float))\n",
    "names.sort()"
   ]
  },
  {
   "cell_type": "code",
   "execution_count": null,
   "metadata": {
    "scrolled": false
   },
   "outputs": [],
   "source": [
    "# gera ativo_dia_list (adl), que é uma lista com resumo dos dias que vai nos auxiliar a filtrar os dias de interesse\n",
    "# também vai auxiliar na análise de ativos-dia\n",
    "adl = []\n",
    "for n in names[0:10]:\n",
    "#for n in names:\n",
    "    print(n)\n",
    "    try:\n",
    "        a = Ativo(n, fm[n])\n",
    "        for intraday in a.intraDays:\n",
    "            d = {'name': a.name,\n",
    "                 'date': intraday.date,\n",
    "                 'freefloat': fm.getFreeFloat(n),\n",
    "                 'stats': intraday.stats}\n",
    "            adl.append( d )\n",
    "    except IndexError:\n",
    "        print(\"Ativo sem nenhum dado ou dado inconsistente\")"
   ]
  },
  {
   "cell_type": "code",
   "execution_count": null,
   "metadata": {},
   "outputs": [],
   "source": [
    "with open('AtivoDiaList.pkl', 'wb') as filehandle: # w de write e b de binary\n",
    "    pickle.dump(adl,filehandle)"
   ]
  },
  {
   "cell_type": "markdown",
   "metadata": {},
   "source": [
    "##### Com o pickle ativo_dia_list.pkl gerado, prosseguir daqui"
   ]
  },
  {
   "cell_type": "code",
   "execution_count": 5,
   "metadata": {},
   "outputs": [],
   "source": [
    "with open('AtivoDiaList.pkl', 'rb') as filehandle:\n",
    "    ativo_dia_list = pickle.load(filehandle)"
   ]
  },
  {
   "cell_type": "code",
   "execution_count": 6,
   "metadata": {},
   "outputs": [],
   "source": [
    "pars = Parameters()"
   ]
  },
  {
   "cell_type": "code",
   "execution_count": 7,
   "metadata": {},
   "outputs": [],
   "source": [
    "sg = StatsGatherer(pars)"
   ]
  },
  {
   "cell_type": "code",
   "execution_count": 8,
   "metadata": {},
   "outputs": [],
   "source": [
    "sm = StratsMaestro(pars)"
   ]
  },
  {
   "cell_type": "code",
   "execution_count": 9,
   "metadata": {},
   "outputs": [],
   "source": [
    "sim = Simulator(fm,ativo_dia_list,pars,sm,sg)"
   ]
  },
  {
   "cell_type": "code",
   "execution_count": 10,
   "metadata": {},
   "outputs": [],
   "source": [
    "bss = BootstrapSimulator(sg)"
   ]
  },
  {
   "cell_type": "code",
   "execution_count": 11,
   "metadata": {},
   "outputs": [],
   "source": [
    "os = OptimizerSimulator(sim, bss, sg)"
   ]
  },
  {
   "cell_type": "code",
   "execution_count": 12,
   "metadata": {},
   "outputs": [],
   "source": [
    "# pars.setFilterParameters(gap_threshold=0.1, F_high_threshold=9)\n",
    "pars.setFilterParameters(prevol_threshold=15000000)\n",
    "sim.runFiltering()"
   ]
  },
  {
   "cell_type": "code",
   "execution_count": 13,
   "metadata": {},
   "outputs": [],
   "source": [
    "# pars.setSimParameters(start_money = 10000,allocation=0.1)\n",
    "# pars.setAlgoParameters(short_after=0, exit_target=0.4, exit_stop=0.4)\n",
    "# pars.setAlgoParameters(short_after=0.2)\n",
    "\n",
    "sim.runSimulation()\n",
    "\n",
    "#sim.saveTrades('case1_trades.pkl')\n",
    "# sim.openTrades('case1_trades.pkl')"
   ]
  },
  {
   "cell_type": "code",
   "execution_count": 14,
   "metadata": {},
   "outputs": [],
   "source": [
    "dfd = sg.filtereddf # DataFrame of filtered ativo-dias\n",
    "dft = sg.tradesdf # DataFrame of trades\n",
    "dfes = sg.extrastatsdf # DataFrame of extra statistics"
   ]
  },
  {
   "cell_type": "markdown",
   "metadata": {},
   "source": [
    "##### Algumas análises da simulação"
   ]
  },
  {
   "cell_type": "code",
   "execution_count": 15,
   "metadata": {},
   "outputs": [
    {
     "name": "stdout",
     "output_type": "stream",
     "text": [
      "prevol_threshold 15000000\n",
      "open_dolar_threshold 2\n",
      "gap_threshold 0.2\n",
      "F_low_threshold 0\n",
      "F_high_threshold 1\n",
      "\n",
      "short_after 0.1\n",
      "exit_target 0.3\n",
      "exit_stop 0.3\n",
      "\n",
      "start_money 10000\n",
      "allocation 0.1\n",
      "locate_fee 0.02\n",
      "commission 2\n",
      "\n",
      "Start Money: $10,000.00\n",
      "End Money: $12,931.70\n",
      "Number of Trades: 15\n",
      "Number of filtered ativo-dias: 22\n",
      "Max Drawdown: 0.03217176460988469\n"
     ]
    }
   ],
   "source": [
    "sg.printSimResults()"
   ]
  },
  {
   "cell_type": "code",
   "execution_count": 16,
   "metadata": {
    "scrolled": true
   },
   "outputs": [
    {
     "data": {
      "image/png": "[encoded data removed]",
      "text/plain": [
       "<Figure size 432x288 with 1 Axes>"
      ]
     },
     "metadata": {
      "needs_background": "light"
     },
     "output_type": "display_data"
    }
   ],
   "source": [
    "sg.plotHistMinsToTrade()"
   ]
  },
  {
   "cell_type": "code",
   "execution_count": 17,
   "metadata": {},
   "outputs": [
    {
     "data": {
      "image/png": "[encoded data removed]",
      "text/plain": [
       "<Figure size 432x288 with 1 Axes>"
      ]
     },
     "metadata": {
      "needs_background": "light"
     },
     "output_type": "display_data"
    }
   ],
   "source": [
    "sg.plotEquityCurve()"
   ]
  },
  {
   "cell_type": "markdown",
   "metadata": {},
   "source": [
    "##### Análise de algumas estratificações"
   ]
  },
  {
   "cell_type": "code",
   "execution_count": 18,
   "metadata": {},
   "outputs": [
    {
     "data": {
      "text/html": [
       "<div>\n",
       "<style scoped>\n",
       "    .dataframe tbody tr th:only-of-type {\n",
       "        vertical-align: middle;\n",
       "    }\n",
       "\n",
       "    .dataframe tbody tr th {\n",
       "        vertical-align: top;\n",
       "    }\n",
       "\n",
       "    .dataframe thead th {\n",
       "        text-align: right;\n",
       "    }\n",
       "</style>\n",
       "<table border=\"1\" class=\"dataframe\">\n",
       "  <thead>\n",
       "    <tr style=\"text-align: right;\">\n",
       "      <th></th>\n",
       "      <th>name</th>\n",
       "      <th>date</th>\n",
       "      <th>gap</th>\n",
       "      <th>factorF</th>\n",
       "      <th>profit</th>\n",
       "      <th>cum_profit</th>\n",
       "    </tr>\n",
       "  </thead>\n",
       "  <tbody>\n",
       "    <tr>\n",
       "      <th>0</th>\n",
       "      <td>CIDM</td>\n",
       "      <td>2020-06-04</td>\n",
       "      <td>2.343511</td>\n",
       "      <td>1.658049</td>\n",
       "      <td>0.300000</td>\n",
       "      <td>1.030000</td>\n",
       "    </tr>\n",
       "    <tr>\n",
       "      <th>1</th>\n",
       "      <td>IZEA</td>\n",
       "      <td>2020-06-09</td>\n",
       "      <td>0.856000</td>\n",
       "      <td>1.051235</td>\n",
       "      <td>0.300000</td>\n",
       "      <td>1.060900</td>\n",
       "    </tr>\n",
       "    <tr>\n",
       "      <th>2</th>\n",
       "      <td>SINT</td>\n",
       "      <td>2020-06-22</td>\n",
       "      <td>2.416573</td>\n",
       "      <td>1.794230</td>\n",
       "      <td>0.300000</td>\n",
       "      <td>1.092727</td>\n",
       "    </tr>\n",
       "    <tr>\n",
       "      <th>3</th>\n",
       "      <td>BHTG</td>\n",
       "      <td>2020-06-29</td>\n",
       "      <td>1.395210</td>\n",
       "      <td>2.910233</td>\n",
       "      <td>0.300000</td>\n",
       "      <td>1.125509</td>\n",
       "    </tr>\n",
       "    <tr>\n",
       "      <th>4</th>\n",
       "      <td>MIST</td>\n",
       "      <td>2020-07-23</td>\n",
       "      <td>1.323353</td>\n",
       "      <td>6.343137</td>\n",
       "      <td>-0.042643</td>\n",
       "      <td>1.120709</td>\n",
       "    </tr>\n",
       "    <tr>\n",
       "      <th>5</th>\n",
       "      <td>ABUS</td>\n",
       "      <td>2020-07-24</td>\n",
       "      <td>0.289197</td>\n",
       "      <td>1.868844</td>\n",
       "      <td>0.300000</td>\n",
       "      <td>1.154331</td>\n",
       "    </tr>\n",
       "    <tr>\n",
       "      <th>6</th>\n",
       "      <td>KODK</td>\n",
       "      <td>2020-07-28</td>\n",
       "      <td>2.675573</td>\n",
       "      <td>4.115038</td>\n",
       "      <td>0.239120</td>\n",
       "      <td>1.181933</td>\n",
       "    </tr>\n",
       "    <tr>\n",
       "      <th>7</th>\n",
       "      <td>KODK</td>\n",
       "      <td>2020-07-29</td>\n",
       "      <td>1.286600</td>\n",
       "      <td>12.788022</td>\n",
       "      <td>-0.300000</td>\n",
       "      <td>1.146475</td>\n",
       "    </tr>\n",
       "    <tr>\n",
       "      <th>8</th>\n",
       "      <td>IGC</td>\n",
       "      <td>2020-08-13</td>\n",
       "      <td>0.315488</td>\n",
       "      <td>1.561542</td>\n",
       "      <td>0.300000</td>\n",
       "      <td>1.180869</td>\n",
       "    </tr>\n",
       "    <tr>\n",
       "      <th>9</th>\n",
       "      <td>SAVA</td>\n",
       "      <td>2020-09-14</td>\n",
       "      <td>1.153614</td>\n",
       "      <td>5.112078</td>\n",
       "      <td>0.014634</td>\n",
       "      <td>1.182597</td>\n",
       "    </tr>\n",
       "    <tr>\n",
       "      <th>10</th>\n",
       "      <td>KODK</td>\n",
       "      <td>2020-09-16</td>\n",
       "      <td>0.515249</td>\n",
       "      <td>4.590177</td>\n",
       "      <td>0.179507</td>\n",
       "      <td>1.203826</td>\n",
       "    </tr>\n",
       "    <tr>\n",
       "      <th>11</th>\n",
       "      <td>SLDB</td>\n",
       "      <td>2020-10-01</td>\n",
       "      <td>1.566502</td>\n",
       "      <td>3.850770</td>\n",
       "      <td>0.300000</td>\n",
       "      <td>1.239941</td>\n",
       "    </tr>\n",
       "    <tr>\n",
       "      <th>12</th>\n",
       "      <td>XTNT</td>\n",
       "      <td>2020-10-02</td>\n",
       "      <td>1.742899</td>\n",
       "      <td>0.581932</td>\n",
       "      <td>0.300000</td>\n",
       "      <td>1.277139</td>\n",
       "    </tr>\n",
       "    <tr>\n",
       "      <th>13</th>\n",
       "      <td>GRNQ</td>\n",
       "      <td>2020-10-05</td>\n",
       "      <td>1.287037</td>\n",
       "      <td>2.179933</td>\n",
       "      <td>0.300000</td>\n",
       "      <td>1.315453</td>\n",
       "    </tr>\n",
       "    <tr>\n",
       "      <th>14</th>\n",
       "      <td>OPTT</td>\n",
       "      <td>2020-10-07</td>\n",
       "      <td>0.465438</td>\n",
       "      <td>2.337115</td>\n",
       "      <td>0.150943</td>\n",
       "      <td>1.335309</td>\n",
       "    </tr>\n",
       "  </tbody>\n",
       "</table>\n",
       "</div>"
      ],
      "text/plain": [
       "    name       date       gap    factorF    profit  cum_profit\n",
       "0   CIDM 2020-06-04  2.343511   1.658049  0.300000    1.030000\n",
       "1   IZEA 2020-06-09  0.856000   1.051235  0.300000    1.060900\n",
       "2   SINT 2020-06-22  2.416573   1.794230  0.300000    1.092727\n",
       "3   BHTG 2020-06-29  1.395210   2.910233  0.300000    1.125509\n",
       "4   MIST 2020-07-23  1.323353   6.343137 -0.042643    1.120709\n",
       "5   ABUS 2020-07-24  0.289197   1.868844  0.300000    1.154331\n",
       "6   KODK 2020-07-28  2.675573   4.115038  0.239120    1.181933\n",
       "7   KODK 2020-07-29  1.286600  12.788022 -0.300000    1.146475\n",
       "8    IGC 2020-08-13  0.315488   1.561542  0.300000    1.180869\n",
       "9   SAVA 2020-09-14  1.153614   5.112078  0.014634    1.182597\n",
       "10  KODK 2020-09-16  0.515249   4.590177  0.179507    1.203826\n",
       "11  SLDB 2020-10-01  1.566502   3.850770  0.300000    1.239941\n",
       "12  XTNT 2020-10-02  1.742899   0.581932  0.300000    1.277139\n",
       "13  GRNQ 2020-10-05  1.287037   2.179933  0.300000    1.315453\n",
       "14  OPTT 2020-10-07  0.465438   2.337115  0.150943    1.335309"
      ]
     },
     "execution_count": 18,
     "metadata": {},
     "output_type": "execute_result"
    }
   ],
   "source": [
    "dftr = pd.merge(dft,dfd,how='inner',on=['name','date'])\n",
    "dftr = dftr[['name','date','gap','factorF','profit','cum_profit']]\n",
    "dftr"
   ]
  },
  {
   "cell_type": "code",
   "execution_count": null,
   "metadata": {},
   "outputs": [],
   "source": [
    "bins = [0.2, 0.3, 0.4, 0.5, 0.6, 0.7, 0.8, 0.9, 1, 1.1, 1.2]\n",
    "gap = np.clip( dftr['gap'], bins[0], bins[-1] )\n",
    "dftr.groupby(pd.cut(gap, bins)).agg(\n",
    "    winrate=pd.NamedAgg(column='profit',aggfunc=lambda x: sum(x>=0)/(sum(x>=0) + sum(x<0)) ),\n",
    "    lossrate=pd.NamedAgg(column='profit',aggfunc=lambda x: sum(x<0)/(sum(x>=0) + sum(x<0)) ),\n",
    "    mean=pd.NamedAgg(column='profit',aggfunc=lambda x: x.mean()),\n",
    "    mean_of_pos=pd.NamedAgg(column='profit',aggfunc=lambda x: x[x>=0].mean()),\n",
    "    mean_of_neg=pd.NamedAgg(column='profit',aggfunc=lambda x: x[x<0].mean()),\n",
    "    count=pd.NamedAgg(column='profit',aggfunc='count'),\n",
    "    positives=pd.NamedAgg(column='profit',aggfunc=lambda x: sum(x>=0) ),\n",
    "    negatives=pd.NamedAgg(column='profit',aggfunc=lambda x: sum(x<0) )\n",
    ")"
   ]
  },
  {
   "cell_type": "code",
   "execution_count": null,
   "metadata": {
    "scrolled": true
   },
   "outputs": [],
   "source": [
    "dftr.groupby(dftr['date'].dt.to_period('M')).agg(\n",
    "    winrate=pd.NamedAgg(column='profit',aggfunc=lambda x: sum(x>=0)/(sum(x>=0) + sum(x<0)) ),\n",
    "    lossrate=pd.NamedAgg(column='profit',aggfunc=lambda x: sum(x<0)/(sum(x>=0) + sum(x<0)) ),\n",
    "    mean=pd.NamedAgg(column='profit',aggfunc=lambda x: x.mean()),\n",
    "    mean_of_pos=pd.NamedAgg(column='profit',aggfunc=lambda x: x[x>=0].mean()),\n",
    "    mean_of_neg=pd.NamedAgg(column='profit',aggfunc=lambda x: x[x<0].mean()),\n",
    "    count=pd.NamedAgg(column='profit',aggfunc='count'),\n",
    "    positives=pd.NamedAgg(column='profit',aggfunc=lambda x: sum(x>=0) ),\n",
    "    negatives=pd.NamedAgg(column='profit',aggfunc=lambda x: sum(x<0) )\n",
    ")"
   ]
  },
  {
   "cell_type": "markdown",
   "metadata": {},
   "source": [
    "##### Analisando o Dataframe com extra statistics"
   ]
  },
  {
   "cell_type": "code",
   "execution_count": null,
   "metadata": {},
   "outputs": [],
   "source": [
    "# aqui podemos fazer alguma análise, basta fazer inner join de dfes com os outros dataframes dfd, dft\n",
    "dfes"
   ]
  },
  {
   "cell_type": "markdown",
   "metadata": {},
   "source": [
    "##### Rodando Bootstrap"
   ]
  },
  {
   "cell_type": "code",
   "execution_count": null,
   "metadata": {},
   "outputs": [],
   "source": [
    "bss.runBootstrap()"
   ]
  },
  {
   "cell_type": "code",
   "execution_count": null,
   "metadata": {},
   "outputs": [],
   "source": [
    "sg.printBootstrapResults()"
   ]
  },
  {
   "cell_type": "markdown",
   "metadata": {},
   "source": [
    "##### Códigos para rodar combinações de parâmetros e otimizar."
   ]
  },
  {
   "cell_type": "code",
   "execution_count": null,
   "metadata": {},
   "outputs": [],
   "source": [
    "# oficial que gostaríamos de explorar\n",
    "os.runSimulationGroup(\n",
    "    prevol_threshold = [800000],\n",
    "    exit_target=[0.1, 0.2, 0.3, 0.4], \n",
    "    exit_stop=[0.1, 0.2, 0.3, 0.4], \n",
    "    short_after=[0, 0.1, 0.2, 0.3],\n",
    "    gap_threshold=[0, 0.1, 0.2],\n",
    "    F_high_threshold = [1,2,3,4,5]\n",
    ")"
   ]
  },
  {
   "cell_type": "code",
   "execution_count": null,
   "metadata": {
    "scrolled": true
   },
   "outputs": [],
   "source": [
    "# rodar para debugar\n",
    "os.runSimulationGroup(\n",
    "    prevol_threshold = [15000000],\n",
    "    exit_target=[0.2, 0.3], \n",
    "    exit_stop=[0.3], \n",
    "    short_after=[0, 0.1],\n",
    "    gap_threshold=[0.1],\n",
    "    F_high_threshold = [1]\n",
    ")"
   ]
  },
  {
   "cell_type": "code",
   "execution_count": null,
   "metadata": {},
   "outputs": [],
   "source": [
    "# sg.saveGroupResults('teste1.pkl')\n",
    "sg.appendGroupResults('teste1.pkl')\n",
    "# sg.openGroupResults('teste1.pkl')"
   ]
  },
  {
   "cell_type": "code",
   "execution_count": null,
   "metadata": {},
   "outputs": [],
   "source": [
    "sg.groupResults"
   ]
  },
  {
   "cell_type": "markdown",
   "metadata": {},
   "source": [
    "##### Descrição simulações já rodadas"
   ]
  },
  {
   "cell_type": "raw",
   "metadata": {},
   "source": []
  },
  {
   "cell_type": "markdown",
   "metadata": {},
   "source": [
    "##### Testes temporários em geral"
   ]
  },
  {
   "cell_type": "code",
   "execution_count": null,
   "metadata": {},
   "outputs": [],
   "source": []
  }
 ],
 "metadata": {
  "kernelspec": {
   "display_name": "Python 3",
   "language": "python",
   "name": "python3"
  },
  "language_info": {
   "codemirror_mode": {
    "name": "ipython",
    "version": 3
   },
   "file_extension": ".py",
   "mimetype": "text/x-python",
   "name": "python",
   "nbconvert_exporter": "python",
   "pygments_lexer": "ipython3",
   "version": "3.7.1"
  }
 },
 "nbformat": 4,
 "nbformat_minor": 2
}
